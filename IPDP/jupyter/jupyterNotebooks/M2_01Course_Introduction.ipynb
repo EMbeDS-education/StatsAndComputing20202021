{
 "cells": [
  {
   "cell_type": "markdown",
   "metadata": {},
   "source": [
    "<center><font size=\"+4\">Introduction to Programming and Data Processing 2020/2021</font></center>\n",
    "<center><font size=\"+2\">Module 2</font></center>\n",
    "<center><font size=\"+2\">Sant'Anna School of Advanced Studies, Pisa, Italy</font></center>\n",
    "<center><img src=\"https://github.com/EMbeDS-education/StatsAndComputing20202021/raw/main/IPDP/jupyter/jupyterNotebooks/images/SSSA.png\" width=\"700\" alt=\"The extensible parallel architecture of MultiVeStA\"></center>\n",
    "\n",
    "<center><font size=\"+2\">Course responsible</font></center>\n",
    "<center><font size=\"+2\">Andrea Vandin a.vandin@santannapisa.it</font></center>\n",
    "\n",
    "<center><font size=\"+2\">Co-lecturer </font></center>\n",
    "<center><font size=\"+2\">Daniele Licari d.licari@santannapisa.it</font></center>\n",
    "\n",
    "---"
   ]
  },
  {
   "cell_type": "markdown",
   "metadata": {},
   "source": [
    "<center><font size=\"+4\">Lecture 1: Course introduction and</font></center>\n",
    "<center><font size=\"+4\"> Advanced Libraries for</font></center>\n",
    "<center><font size=\"+4\">data manipulation/visualization</font></center>"
   ]
  },
  {
   "cell_type": "markdown",
   "metadata": {},
   "source": [
    "---"
   ]
  },
  {
   "cell_type": "markdown",
   "metadata": {},
   "source": [
    "# Course website & material\n",
    "All material used in this course, including jupyter notebooks & datasets are available at\n",
    "- https://github.com/EMbeDS-education/StatsAndComputing20202021/wiki/IPDP\n",
    "\n",
    "__This is the second module of IPDP__\n",
    "- In Module 1 we learned about programming well, python, jupyter-lab\n",
    "  - If you are not familiar with any of these topics: go through the material of module 1, available in the above link"
   ]
  },
  {
   "cell_type": "markdown",
   "metadata": {},
   "source": [
    "# Course structure\n",
    "\n",
    "**Part 1: _We first build our toolset_**\n",
    "- Advanced Libraries for data manipulation/visualization\n",
    "  - When\n",
    "    - 22/03/2021, 15:00-18:00\n",
    "    - 26/03/2021, 15:00-17:00\n",
    "  - Topics\n",
    "    - NumPy\n",
    "    - Pandas\n",
    "- [Knime](https://www.knime.com/): a graphical language for complex data analysis tasks\n",
    "  - _If time permits_\n",
    "\n",
    "**Part 2, _We apply our toolset on a case study_** \n",
    "- [Breast Cancer Wisconsin (Diagnostic) Data Set](https://archive.ics.uci.edu/ml/datasets/Breast+Cancer+Wisconsin+(Diagnostic)) \n",
    "  - When\n",
    "    - 29/03/2021, 15:00-18:00\n",
    "    - 31/03/2021, 15:00-17:00\n",
    "  - Topics    \n",
    "      - Exploratory Data Analysis (data pre-processing, outliers detection, ...)\n",
    "      - Dimensionality Reduction (PCA)\n",
    "      - Clustering (K-means)\n",
    "      - Classification (of Benign and Malignant Breast Cancer)"
   ]
  },
  {
   "cell_type": "markdown",
   "metadata": {},
   "source": [
    "# Learning objectives\n",
    "A student who has met the objectives of the course will be able to: \n",
    "- **describe** and **use** advanced Python libraries for data processing \n",
    "- **apply** such libraries to medium-complexity problems\n",
    "- **describe** modern graphical programming languages for data analysis\n",
    "- **describe** the pipeline of steps/problems common in data analysis tasks\n",
    "- **communicate** analysis results in a clear and precise manner using popular web-based IDEs"
   ]
  },
  {
   "cell_type": "markdown",
   "metadata": {},
   "source": [
    "# How are we going to evaluate you?\n"
   ]
  },
  {
   "cell_type": "markdown",
   "metadata": {},
   "source": [
    "## Oral examination based on a project report\n",
    "* You will be given a simple _classic_ dataset\n",
    "  * Would have you survived the Titanic shipwreck?\n",
    "  * Or you can propose one of interest if any\n",
    "* You will be asked to do a data-analysis project \n",
    "* You can form groups of 2      \n",
    "* We will do an oral examination based on your project"
   ]
  },
  {
   "cell_type": "markdown",
   "metadata": {},
   "source": [
    "## Project description\n",
    "- Consider the **Titanic** dataset available in our [dataset folder](https://github.com/EMbeDS-education/StatsAndComputing20202021/wiki/Datasets) with a **description**\n",
    "  - Or contact us if you want to propose a dataset of interest.\n",
    "- It contains information on 1309 passengers\n",
    "  - 14 properties/attributes\n",
    "  - 1 target variable on the survival of the passenger\n",
    "- Your task is to analyze this dataset in the lines of what done during the course\n",
    "  - The final goal is to **obtain a classifier able to predict the survival probability of a hypotethical passenger**\n",
    "  - BEWARE: \n",
    "    - Try first to understand the data. Read the provided description. \n",
    "    - You should prepare and submit a [jupyterLab notebook](https://jupyterlab.readthedocs.io/en/stable/) containing your analysis\n",
    "      - **Properly commenting/motivating each step with suitable comments**\n",
    "      - Similarly to what we do in the jupyterLab notebooks we use in our classes\n",
    "    -  You are free to choose part of the techniques/tools seen during the course\n",
    "      - **Motivate your choices**"
   ]
  }
 ],
 "metadata": {
  "kernelspec": {
   "display_name": "env_IPDPP_GSSI2021",
   "language": "python",
   "name": "env_ipdpp_gssi2021"
  },
  "language_info": {
   "codemirror_mode": {
    "name": "ipython",
    "version": 3
   },
   "file_extension": ".py",
   "mimetype": "text/x-python",
   "name": "python",
   "nbconvert_exporter": "python",
   "pygments_lexer": "ipython3",
   "version": "3.8.2"
  }
 },
 "nbformat": 4,
 "nbformat_minor": 4
}

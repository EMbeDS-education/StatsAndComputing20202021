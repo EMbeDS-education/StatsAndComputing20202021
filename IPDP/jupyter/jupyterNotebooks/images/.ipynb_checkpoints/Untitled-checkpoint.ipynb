{
 "cells": [
  {
   "cell_type": "code",
   "execution_count": 2,
   "metadata": {},
   "outputs": [],
   "source": [
    "def compute_factorial(n) :\n",
    "    if n<0:\n",
    "        raise ValueError('Please, provide a natural number')\n",
    "    fact = 1\n",
    "    for i in range(1,n+1):\n",
    "        fact*=i\n",
    "    return fact"
   ]
  },
  {
   "cell_type": "code",
   "execution_count": 6,
   "metadata": {},
   "outputs": [
    {
     "name": "stdin",
     "output_type": "stream",
     "text": [
      " -3\n"
     ]
    },
    {
     "name": "stdout",
     "output_type": "stream",
     "text": [
      "We got a ValueError\n"
     ]
    }
   ],
   "source": [
    "n=int(input())\n",
    "try:\n",
    "    f = compute_factorial(n)\n",
    "except ValueError:\n",
    "    print('We got a ValueError')\n",
    "else:\n",
    "    print(f)"
   ]
  },
  {
   "cell_type": "code",
   "execution_count": null,
   "metadata": {},
   "outputs": [],
   "source": [
    "#An example of a class\n",
    "class Shape:\n",
    "    def __init__(self,h,w):\n",
    "        self._height=h\n",
    "        self._width=w\n",
    "    def area(self):\n",
    "        pass\n",
    "    def perimeter(self):\n",
    "        pass\n",
    "    def describe(self):\n",
    "        print('This is an abstract shape')\n",
    "\n",
    "class Rectangle(Shape):\n",
    "    def area(self):\n",
    "        return self._height*self._width\n",
    "    def perimeter(self):\n",
    "        return (self._height+self._width)*2\n",
    "    def describe(self):\n",
    "        print('This is a rectangle')\n",
    "\n",
    "class Square(Rectangle):\n",
    "    def describe(self):\n",
    "        print('This is a rectangle')\n",
    "\n"
   ]
  }
 ],
 "metadata": {
  "kernelspec": {
   "display_name": "env_intro2python1920",
   "language": "python",
   "name": "env_intro2python1920"
  },
  "language_info": {
   "codemirror_mode": {
    "name": "ipython",
    "version": 3
   },
   "file_extension": ".py",
   "mimetype": "text/x-python",
   "name": "python",
   "nbconvert_exporter": "python",
   "pygments_lexer": "ipython3",
   "version": "3.8.2"
  }
 },
 "nbformat": 4,
 "nbformat_minor": 4
}

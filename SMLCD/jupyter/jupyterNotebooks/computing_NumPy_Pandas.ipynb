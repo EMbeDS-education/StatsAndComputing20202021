{
 "cells": [
  {
   "cell_type": "markdown",
   "metadata": {},
   "source": [
    "<center><font size=\"+4\">Statistical methods for Large, Complex Data 2020/2021</font></center>\n",
    "<center><font size=\"+4\">Primer on Computing</font></center>\n",
    "<br/>\n",
    "<center><font size=\"+2\">Sant'Anna School of Advanced Studies, Pisa, Italy</font></center>\n",
    "<center><img src=\"https://github.com/EMbeDS-education/StatsAndComputing20202021/raw/main/IPDP/jupyter/jupyterNotebooks/images/SSSA.png\" width=\"700\" alt=\"The extensible parallel architecture of MultiVeStA\"></center>\n",
    "\n",
    "<center><font size=\"+2\">Course responsible</font></center>\n",
    "<center><font size=\"+2\">Francesca Chiaromonte f.chiaromonte@santannapisa.it</font></center>\n",
    "\n",
    "<center><font size=\"+2\">Co-lecturer </font></center>\n",
    "<center><font size=\"+2\">Andrea Vandin a.vandin@santannapisa.it</font></center>\n",
    "\n",
    "---"
   ]
  },
  {
   "cell_type": "markdown",
   "metadata": {},
   "source": [
    "<center><font size=\"+4\">Advanced Libraries for data</font></center>\n",
    "<center><font size=\"+4\">manipulation/visualization in Python</font></center>"
   ]
  },
  {
   "cell_type": "markdown",
   "metadata": {},
   "source": [
    "---"
   ]
  },
  {
   "cell_type": "markdown",
   "metadata": {},
   "source": [
    "# Notes and references about this class"
   ]
  },
  {
   "cell_type": "markdown",
   "metadata": {},
   "source": [
    "This notebook is mainly based on Chapter 4 of the following book:\n",
    "* [Python for Data Analysis, 2nd edition, William Wesley McKinney (O’Reilly)](https://www.oreilly.com/library/view/python-for-data/9781491957653/)\n",
    "  * [Freely available Jupyter notebooks covering the examples/material of each chapter](https://github.com/wesm/pydata-book)\n",
    "  * Some pictures have been taken from these sources\n",
    "* Adapted from material from two classes in the _middle_ of course [IPDP: Introduction to Programming in Python](https://github.com/EMbeDS-education/StatsAndComputing20202021/wiki/IPDP)  by Andrea Vandin and Daniele Licari\n",
    "    * Is it too advanced for you? Take a look at the [material from Module 1](https://github.com/EMbeDS-education/StatsAndComputing20202021/wiki/IPDP-Slides,-code-and-other-material)\n",
    "      - _Introduction to programming by computer scientists for non-computer scientists_\n",
    "    * Do you want to see more? Take a look at the [material from Module 2](https://github.com/EMbeDS-education/StatsAndComputing20202021/wiki/IPDP-Slides,-code-and-other-material)\n",
    "      - _Introduction to Machine Learning in Python_\n",
    "    * Please, follow [these instructions](https://github.com/EMbeDS-education/StatsAndComputing20202021/wiki/IPDP-Slides,-code-and-other-material) to configure your machine or... [![Open In Colab](https://colab.research.google.com/assets/colab-badge.svg)](https://colab.research.google.com/github/EMbeDS-education/StatsAndComputing20202021/blob/main/SMLCD/jupyter/jupyterNotebooks/computing_NumPy_Pandas.ipynb)"
   ]
  },
  {
   "cell_type": "markdown",
   "metadata": {},
   "source": [
    "In particular, this notebook introduces the libraries:\n",
    "* [NumPy](https://numpy.org/): for scientific computing\n",
    "* [Pandas](https://pandas.pydata.org/): \n",
    "   * for working with structured data (CSV, Spreadsheets, Databases)\n",
    "   * for creating advanced plots"
   ]
  },
  {
   "cell_type": "markdown",
   "metadata": {},
   "source": [
    "> Note: in this notebook we will often refer interchangeably to _arrays_, _NumPy arrays_ or just _ndarrays_. \n",
    "<br/>\n",
    "> You can think of __arrays as lists with better performances__ for numerical computing"
   ]
  },
  {
   "cell_type": "code",
   "execution_count": 1,
   "metadata": {},
   "outputs": [
    {
     "data": {
      "text/html": [
       "\n",
       "        <iframe\n",
       "            width=\"500\"\n",
       "            height=\"500\"\n",
       "            src=\"https://www.kahoot.it/\"\n",
       "            frameborder=\"0\"\n",
       "            allowfullscreen\n",
       "        ></iframe>\n",
       "        "
      ],
      "text/plain": [
       "<IPython.lib.display.IFrame at 0x7f8c04b7fc40>"
      ]
     },
     "execution_count": 1,
     "metadata": {},
     "output_type": "execute_result"
    }
   ],
   "source": [
    "from IPython.display import IFrame\n",
    "IFrame(\"https://www.kahoot.it/\", 500, 500)"
   ]
  },
  {
   "cell_type": "markdown",
   "metadata": {},
   "source": [
    "## Notes on Python, Julia and R\n",
    "\n",
    "This web-based editor is JuPyteR-Lab\n",
    "- __Ju__ stands for __Ju__ lia\n",
    "- Pyt stands for __Pyt__ hon\n",
    "- __R__ stands for __R__\n",
    "\n",
    "If you want to use it for Julia programs\n",
    "1. Download julia 1.0.5 from https://julialang.org/downloads/\n",
    "1. Open the Julia app - You will get a terminal\n",
    "    - Type `]` to enter in 'pkg mode'\n",
    "    - Type `add IJulia` to use it in JuPyteR (https://github.com/JuliaLang/IJulia.jl)\n",
    "    - Exit Julia\n",
    "    - Run Jupyter-lab by typing `jupyter-lab` in the terminal"
   ]
  },
  {
   "cell_type": "markdown",
   "metadata": {},
   "source": [
    "## Julia vs Pyhton\n",
    "If you know Python, you also know part of Julia \n",
    "- Take a look at [this link](https://docs.julialang.org/en/v1/manual/noteworthy-differences/#Noteworthy-differences-from-Python) \n",
    "- It explains the main differences among the two languages\n",
    "- In the same link you find similar info on matlab, R, C++...\n",
    "\n",
    "Take also a look at rankings on the most used programming languages..."
   ]
  },
  {
   "cell_type": "code",
   "execution_count": 2,
   "metadata": {},
   "outputs": [
    {
     "data": {
      "text/html": [
       "\n",
       "        <iframe\n",
       "            width=\"1200\"\n",
       "            height=\"700\"\n",
       "            src=\"https://www.tiobe.com/tiobe-index/\"\n",
       "            frameborder=\"0\"\n",
       "            allowfullscreen\n",
       "        ></iframe>\n",
       "        "
      ],
      "text/plain": [
       "<IPython.lib.display.IFrame at 0x7f8c04b7fe80>"
      ]
     },
     "execution_count": 2,
     "metadata": {},
     "output_type": "execute_result"
    }
   ],
   "source": [
    "from IPython.display import IFrame\n",
    "IFrame(\"https://www.tiobe.com/tiobe-index/\", 1200, 700)"
   ]
  },
  {
   "cell_type": "markdown",
   "metadata": {},
   "source": [
    "# NumPy\n",
    "NumPy, _Numerical Python_, is the Python package for __scientific computing__\n",
    "\n",
    "It provides:\n",
    "* An efficient implementation for list-like multidimensional data structures named __NumPy arrays__ or __ndarray__\n",
    "  * including functions for performing\n",
    "    * element-wise computations on arrays \n",
    "    * mathematical operations between arrays\n",
    "* Tools for reading/writing datasets from/to disk and arrays\n",
    "* Linear algebra operations, Fourier transform, and random number generation\n",
    "* 1-line plotting functionalities\n",
    "* Tools for integrating C, C++, and Fortran code with Python\n",
    "  * Useful to use legacy code\n",
    "  * Useful to use very efficient and established libraries for scientific computation\n",
    "\n",
    "\n",
    "NumPy arrays are a more efficient way of storing and manipulating data than the other built-in Python data structures."
   ]
  },
  {
   "cell_type": "markdown",
   "metadata": {},
   "source": [
    "## Install and import the NumPy module\n",
    "The first time you run this notebook you might have to install Pandas using the following script:"
   ]
  },
  {
   "cell_type": "code",
   "execution_count": 3,
   "metadata": {},
   "outputs": [],
   "source": [
    "import sys\n",
    "#!{sys.executable} -m pip install numpy\n",
    "#!{sys.executable} -m pip install --upgrade pip"
   ]
  },
  {
   "cell_type": "markdown",
   "metadata": {},
   "source": [
    "The Python community has adopted a number of __naming conventions__ for commonly used modules:\n",
    "* Below you see the conventions for numpy, pandas and matplotlib"
   ]
  },
  {
   "cell_type": "code",
   "execution_count": 4,
   "metadata": {},
   "outputs": [],
   "source": [
    "import numpy as np\n",
    "# import pandas as pd \n",
    "# import matplotlib.pyplot as plt"
   ]
  },
  {
   "cell_type": "markdown",
   "metadata": {},
   "source": [
    "* This means that when you see `np.arange(4)`, we refer to `numpy.arange(4)`, the `arange` function in NumPy."
   ]
  },
  {
   "cell_type": "markdown",
   "metadata": {},
   "source": [
    "## Main features: Arrays, Vectorized Computation, Broadcast"
   ]
  },
  {
   "cell_type": "markdown",
   "metadata": {},
   "source": [
    "Numpy provides:\n",
    "* __ndarray__, a multidimensional array providing **vectorized arithmetic** operations and **broadcasting** capabilities\n",
    "   * Vectorized arithmetic operations: \n",
    "     - Operations on arrays are done by iterating over the elements of the arrays at C level rather than at Python level, obtaining better performances. \n",
    "     - The syntax is more concise\n",
    "   * [Broadcasting](https://numpy.org/doc/stable/user/basics.broadcasting.html): \n",
    "     - In certain cases, operations on arrays can be done even if they do not have same dimensions. Pyhton tries to guess what to do\n",
    "     - E.g., if you multiply an array by a constant, each entry of the arrays is multiplied by the constant\n",
    "       - the constant is `broadcasted` on each entry of the array\n",
    "     - No data is 'needlessly' copied, and the _iterations to broadcast_  are done at C level, obtaining better performances\n",
    "* Standard mathematical functions for applying operations on entire arrays without having to write loops\n",
    "  - Again, these guarantee C-level performances"
   ]
  },
  {
   "cell_type": "markdown",
   "metadata": {},
   "source": [
    "Let's create a ndarray and a built-in Python list, each with 5mln elements."
   ]
  },
  {
   "cell_type": "code",
   "execution_count": 5,
   "metadata": {},
   "outputs": [
    {
     "name": "stdout",
     "output_type": "stream",
     "text": [
      "np_arr has type <class 'numpy.ndarray'>\n",
      "py_list has type <class 'list'>\n"
     ]
    }
   ],
   "source": [
    "import numpy as np\n",
    "np_arr = np.arange(5000000) #5 mln\n",
    "py_list = list(range(5000000)) #5 mln\n",
    "\n",
    "print('np_arr has type',type(np_arr))\n",
    "print('py_list has type',type(py_list))"
   ]
  },
  {
   "cell_type": "markdown",
   "metadata": {},
   "source": [
    "**Performance comparison among  Numpy ndarrays and Python lists**\n",
    "* Let's compute the square value of each element in the array/list"
   ]
  },
  {
   "cell_type": "code",
   "execution_count": 6,
   "metadata": {},
   "outputs": [
    {
     "name": "stdout",
     "output_type": "stream",
     "text": [
      "Test NumPy Array\n",
      "CPU times: user 12.5 ms, sys: 12.8 ms, total: 25.3 ms\n",
      "Wall time: 104 ms\n",
      "\n",
      "Test Python list comprehension\n",
      "CPU times: user 2.18 s, sys: 176 ms, total: 2.35 s\n",
      "Wall time: 4.07 s\n",
      "\n",
      "Test Python list iteration\n",
      "CPU times: user 3.29 s, sys: 129 ms, total: 3.42 s\n",
      "Wall time: 5.12 s\n",
      "\n",
      "Tests completed\n"
     ]
    }
   ],
   "source": [
    " print(\"Test NumPy Array\")\n",
    " %time np_arr_power = np_arr ** 2\n",
    "\n",
    " print(\"\\nTest Python list comprehension\")\n",
    " %time py_list = [x ** 2 for x in py_list]\n",
    "\n",
    " print(\"\\nTest Python list iteration\")\n",
    " %time for i in range(len(py_list)): py_list[i]=py_list[i]**2\n",
    "\n",
    " print(\"\\nTests completed\")"
   ]
  },
  {
   "cell_type": "markdown",
   "metadata": {},
   "source": [
    "## The NumPy ndarray: A Multidimensional Array"
   ]
  },
  {
   "cell_type": "markdown",
   "metadata": {},
   "source": [
    "### What is an ndarray?"
   ]
  },
  {
   "cell_type": "markdown",
   "metadata": {},
   "source": [
    "NumPy arrays are named **nd**array because they are **n**-**d**imensional arrays"
   ]
  },
  {
   "cell_type": "code",
   "execution_count": 7,
   "metadata": {},
   "outputs": [
    {
     "data": {
      "text/plain": [
       "array([[-0.62156275, -1.20639419, -1.82113202],\n",
       "       [-1.87057488, -2.52784592, -0.05108062]])"
      ]
     },
     "execution_count": 7,
     "metadata": {},
     "output_type": "execute_result"
    }
   ],
   "source": [
    "import numpy as np\n",
    "# Generate a 2x3 matrix with random data\n",
    "data = np.random.randn(2, 3)\n",
    "data"
   ]
  },
  {
   "cell_type": "markdown",
   "metadata": {},
   "source": [
    "Arrays enable you to perform\n",
    "mathematical operations on each of their elements \n",
    "* using a syntax similar to the equivalent operations between (scalar) numbers\n",
    "\n",
    "Below we \n",
    "* multiply by 10 **each value** in `data`\n",
    "* double **each value** in `data`"
   ]
  },
  {
   "cell_type": "code",
   "execution_count": 8,
   "metadata": {},
   "outputs": [
    {
     "data": {
      "text/plain": [
       "array([[ -6.21562747, -12.06394192, -18.21132021],\n",
       "       [-18.70574876, -25.27845922,  -0.51080621]])"
      ]
     },
     "execution_count": 8,
     "metadata": {},
     "output_type": "execute_result"
    }
   ],
   "source": [
    "data * 10"
   ]
  },
  {
   "cell_type": "code",
   "execution_count": 9,
   "metadata": {},
   "outputs": [
    {
     "data": {
      "text/plain": [
       "array([[-1.24312549, -2.41278838, -3.64226404],\n",
       "       [-3.74114975, -5.05569184, -0.10216124]])"
      ]
     },
     "execution_count": 9,
     "metadata": {},
     "output_type": "execute_result"
    }
   ],
   "source": [
    "data + data"
   ]
  },
  {
   "cell_type": "markdown",
   "metadata": {},
   "source": [
    "A difference between Python lists and arrays\n",
    "* lists can contain elements of **different type**\n",
    "* arrays have to contain only elements of **same type**\n",
    "\n",
    "Every array has \n",
    "* a`shape`, a tuple indicating the size of each dimension, \n",
    "  * `data.shape` is `(2,3)` because it has dimension 2x3\n",
    "* a `dtype`, an object describing the type of the data in the array\n",
    "  * `data.dtype` is `float64` because it contains floating point numbers (reals)\n",
    "  *  Note that `float64` is a [data type defined in NumPy](https://numpy.org/doc/stable/user/basics.types.html). _More on this later_"
   ]
  },
  {
   "cell_type": "code",
   "execution_count": 10,
   "metadata": {},
   "outputs": [
    {
     "name": "stdout",
     "output_type": "stream",
     "text": [
      "(2, 3)\n",
      "float64\n"
     ]
    }
   ],
   "source": [
    "print(data.shape)\n",
    "print(data.dtype)"
   ]
  },
  {
   "cell_type": "markdown",
   "metadata": {
    "editable": true
   },
   "source": [
    "### Creating ndarrays\n",
    "The easiest way to create an array is to use the `array` function. \n",
    "* This will produce a new array containing the passed data"
   ]
  },
  {
   "cell_type": "code",
   "execution_count": 11,
   "metadata": {
    "collapsed": false,
    "editable": true,
    "jupyter": {
     "outputs_hidden": false
    }
   },
   "outputs": [
    {
     "name": "stdout",
     "output_type": "stream",
     "text": [
      "[6.  7.5 8.  0.  1. ]\n",
      "(5,)\n",
      "float64\n"
     ]
    }
   ],
   "source": [
    "data1 = [6, 7.5, 8, 0, 1]\n",
    "arr1 = np.array(data1)\n",
    "print(arr1)\n",
    "print(arr1.shape)\n",
    "print(arr1.dtype)"
   ]
  },
  {
   "cell_type": "markdown",
   "metadata": {},
   "source": [
    "List of lists, e.g. representing a matrix,\n",
    "* can be converted into a multidimensional array \n",
    "* if internal lists have same length"
   ]
  },
  {
   "cell_type": "code",
   "execution_count": 12,
   "metadata": {
    "collapsed": false,
    "editable": true,
    "jupyter": {
     "outputs_hidden": false
    }
   },
   "outputs": [
    {
     "name": "stdout",
     "output_type": "stream",
     "text": [
      "data2\n",
      " [[1, 2, 3, 4], [5, 6, 7, 8]]\n",
      "arr2\n",
      " [[1 2 3 4]\n",
      " [5 6 7 8]]\n",
      "(2, 4)\n",
      "int64\n"
     ]
    }
   ],
   "source": [
    "data2 = [[1, 2, 3, 4], [5, 6, 7, 8]]\n",
    "print('data2\\n',data2)\n",
    "arr2 = np.array(data2)\n",
    "print('arr2\\n',arr2)\n",
    "print(arr2.shape)\n",
    "print(arr2.dtype)"
   ]
  },
  {
   "cell_type": "markdown",
   "metadata": {},
   "source": [
    "Further functions for creating new arrays:\n",
    "* `zeros` and `ones` create arrays of 0’s or 1’s, respectively, with a given length or shape.\n",
    "* To create a higher dimensional array with these methods, pass a tuple for the shape:"
   ]
  },
  {
   "cell_type": "code",
   "execution_count": 13,
   "metadata": {
    "collapsed": false,
    "editable": true,
    "jupyter": {
     "outputs_hidden": false
    }
   },
   "outputs": [
    {
     "name": "stdout",
     "output_type": "stream",
     "text": [
      "np.zeros(10) = [0. 0. 0. 0. 0. 0. 0. 0. 0. 0.]\n",
      "np.ones((3, 6)) =\n",
      " [[1. 1. 1. 1. 1. 1.]\n",
      " [1. 1. 1. 1. 1. 1.]\n",
      " [1. 1. 1. 1. 1. 1.]]\n"
     ]
    }
   ],
   "source": [
    "print('np.zeros(10) =', np.zeros(10))\n",
    "print('np.ones((3, 6)) =\\n', np.ones((3, 6)))"
   ]
  },
  {
   "cell_type": "markdown",
   "metadata": {},
   "source": [
    "`arange` is an array-valued version of the built-in Python `range` function:\n",
    "* It allows to represent an open interval [start,stop,step)\n",
    "    - where only stop is mandatory.\n",
    "    - note, `stop` does not belong to the range\n",
    "* Beware to what you do: \n",
    "  - `range` is an iterator that creates elements on demand\n",
    "  - `arange` fully creates the array allocating all the necessary space"
   ]
  },
  {
   "cell_type": "code",
   "execution_count": 14,
   "metadata": {
    "collapsed": false,
    "editable": true,
    "jupyter": {
     "outputs_hidden": false
    }
   },
   "outputs": [
    {
     "name": "stdout",
     "output_type": "stream",
     "text": [
      "[ 0  1  2  3  4  5  6  7  8  9 10 11 12 13 14]\n",
      "[ 0.  1.  2.  3.  4.  5.  6.  7.  8.  9. 10. 11. 12. 13. 14.]\n",
      "<class 'numpy.ndarray'>\n",
      "range(0, 15)\n",
      "<class 'range'>\n"
     ]
    }
   ],
   "source": [
    "print(np.arange(15))  #if you want integers\n",
    "print(np.arange(15.)) #if you want reals\n",
    "print(type(np.arange(15)))\n",
    "\n",
    "print(range(15))\n",
    "print(type(range(15)))"
   ]
  },
  {
   "cell_type": "markdown",
   "metadata": {
    "editable": true
   },
   "source": [
    "### Data Types for ndarrays\n",
    "The names of the numerical dtypes follow this convention: \n",
    "* A type name, like `float` or `int`, followed by the number of bits used to represent an element of this type.\n",
    "* The higher is this number of bits, \n",
    "  * the higher precision (or the larger interval) you can use to store your data (GOOD)\n",
    "  * the more memory is required to store your data (BAD)\n",
    "\n",
    "For example, \n",
    "* a double-precision floating point value takes 64 bits (`float64`)\n",
    "* an integer might take 32 (`int32`) or 64 bits (`int64`)\n",
    "  * in the latter case being able to represent a larger interval of integers, but using up more space"
   ]
  },
  {
   "cell_type": "code",
   "execution_count": null,
   "metadata": {
    "collapsed": false,
    "editable": true,
    "jupyter": {
     "outputs_hidden": false
    }
   },
   "outputs": [],
   "source": [
    "arr1 = np.array([1, 2, 3], dtype=np.float64)\n",
    "arr2 = np.array([1, 2, 3], dtype=np.int32)\n",
    "print(arr1.dtype)\n",
    "print(arr2.dtype)"
   ]
  },
  {
   "cell_type": "markdown",
   "metadata": {},
   "source": [
    "You can explicitly convert or cast an array from one dtype to another using ndarray’s `astype` method\n",
    "* This will create a `copy` of the original array, where elements have the new type"
   ]
  },
  {
   "cell_type": "code",
   "execution_count": 15,
   "metadata": {
    "collapsed": false,
    "editable": true,
    "jupyter": {
     "outputs_hidden": false
    }
   },
   "outputs": [
    {
     "name": "stdout",
     "output_type": "stream",
     "text": [
      "[1.1 2.1 3.1 4.1 5.1]\n",
      "Before float64 \n",
      "\n",
      "[1 2 3 4 5]\n",
      "After  int32\n"
     ]
    }
   ],
   "source": [
    "arr = np.array([1.1, 2.1, 3.1, 4.1, 5.1])\n",
    "print(arr)\n",
    "print('Before',arr.dtype,'\\n')\n",
    "int_arr = arr.astype(np.int32)\n",
    "print(int_arr)\n",
    "print('After ',int_arr.dtype)"
   ]
  },
  {
   "cell_type": "markdown",
   "metadata": {
    "editable": true
   },
   "source": [
    "### Vectorized Arithmetics with NumPy Arrays"
   ]
  },
  {
   "cell_type": "markdown",
   "metadata": {},
   "source": [
    "Once you have values in an array\n",
    "* You can easily apply operations on each of its elements\n",
    "  * Arithmetic operations between equal-size arrays are applied element-wise\n",
    "  * Arithmetic operations between an array and a scalar (a number):\n",
    "    * the operation is applied between each array element and the scalar\n",
    "    * the scalar is said to be _broadcasted_ to all the array elements\n",
    "* Similarly to list comprehensions, this does not require loops,\n",
    "  * Note: as shown above, vectorized arithmetics is more efficient than the corresponding list comprehension operation (even more if compared to loops)"
   ]
  },
  {
   "cell_type": "code",
   "execution_count": 16,
   "metadata": {
    "collapsed": false,
    "editable": true,
    "jupyter": {
     "outputs_hidden": false
    }
   },
   "outputs": [
    {
     "name": "stdout",
     "output_type": "stream",
     "text": [
      "a = \n",
      " [[1. 2. 3.]\n",
      " [4. 5. 6.]] \n",
      "\n",
      "a * a = \n",
      " [[ 1.  4.  9.]\n",
      " [16. 25. 36.]] \n",
      "\n",
      "a - a = \n",
      " [[0. 0. 0.]\n",
      " [0. 0. 0.]] \n",
      "\n",
      "1 / a = \n",
      " [[1.         0.5        0.33333333]\n",
      " [0.25       0.2        0.16666667]] \n",
      "\n",
      "a*0.5  \n",
      "= [[0.5 1.  1.5]\n",
      " [2.  2.5 3. ]] \n",
      "\n",
      "a**0.5  \n",
      "= [[1.         1.41421356 1.73205081]\n",
      " [2.         2.23606798 2.44948974]] \n",
      "\n"
     ]
    }
   ],
   "source": [
    "a = np.array([[1., 2., 3.], [4., 5., 6.]])\n",
    "print('a = \\n',a, '\\n')\n",
    "print('a * a = \\n', a * a, '\\n')\n",
    "print('a - a = \\n', a - a, '\\n')\n",
    "print('1 / a = \\n', 1 / a, '\\n')\n",
    "print('a*0.5  \\n=', a*0.5, '\\n')\n",
    "print('a**0.5  \\n=', a**0.5, '\\n')"
   ]
  },
  {
   "cell_type": "markdown",
   "metadata": {},
   "source": [
    "> Note that with `a * a` we do not compute the product of 2 matrices. \n",
    "> - We multiply them element-wise"
   ]
  },
  {
   "cell_type": "markdown",
   "metadata": {
    "editable": true,
    "tags": []
   },
   "source": [
    "### Basic Indexing and Slicing"
   ]
  },
  {
   "cell_type": "markdown",
   "metadata": {},
   "source": [
    "#### Indexing and slicing 1-dimensional arrays"
   ]
  },
  {
   "cell_type": "markdown",
   "metadata": {},
   "source": [
    "Arrays inherit `indexing` and `slicing` capabilities of __lists__"
   ]
  },
  {
   "cell_type": "code",
   "execution_count": 17,
   "metadata": {
    "collapsed": false,
    "editable": true,
    "jupyter": {
     "outputs_hidden": false
    }
   },
   "outputs": [
    {
     "name": "stdout",
     "output_type": "stream",
     "text": [
      "arr [0 1 2 3 4 5 6 7 8 9]\n",
      "You can indexsingle entries:\n",
      "arr[0] is 0\n",
      "arr[5] is 5\n"
     ]
    }
   ],
   "source": [
    "arr = np.arange(10)\n",
    "print('arr',arr)\n",
    "print('You can indexsingle entries:\\narr[0] is',arr[0])\n",
    "print('arr[5] is',arr[5])"
   ]
  },
  {
   "cell_type": "code",
   "execution_count": 18,
   "metadata": {},
   "outputs": [
    {
     "name": "stdout",
     "output_type": "stream",
     "text": [
      "arr\n",
      " [0 1 2 3 4 5 6 7 8 9]\n",
      "You can create slices:\n",
      "arr[:8]  is\n",
      " [0 1 2 3 4 5 6 7]\n",
      "arr[5:]  is\n",
      "           [5 6 7 8 9]\n",
      "arr[5:8] is\n",
      "           [5 6 7]\n"
     ]
    }
   ],
   "source": [
    "print('arr\\n',arr)\n",
    "print('You can create slices:')\n",
    "print('arr[:8]  is\\n',arr[:8])\n",
    "print('arr[5:]  is\\n          ',arr[5:])\n",
    "print('arr[5:8] is\\n          ',arr[5:8])"
   ]
  },
  {
   "cell_type": "markdown",
   "metadata": {},
   "source": [
    "A slice is a sort of `view` of the array\n",
    "* You can assign it to a variable\n",
    "* You can change its values\n",
    "* **Beware**: no data is copied"
   ]
  },
  {
   "cell_type": "code",
   "execution_count": 20,
   "metadata": {},
   "outputs": [
    {
     "name": "stdout",
     "output_type": "stream",
     "text": [
      "After arr[5:8] = 12 arr is\n",
      " [ 0  1  2  3  4 12 12 12  8  9]\n"
     ]
    }
   ],
   "source": [
    "arr[5:8] = 12\n",
    "print('After arr[5:8] = 12 arr is\\n',arr)"
   ]
  },
  {
   "cell_type": "code",
   "execution_count": 21,
   "metadata": {},
   "outputs": [
    {
     "data": {
      "text/plain": [
       "array([12, 12, 12])"
      ]
     },
     "execution_count": 21,
     "metadata": {},
     "output_type": "execute_result"
    }
   ],
   "source": [
    "my_slice=arr[5:8]\n",
    "my_slice"
   ]
  },
  {
   "cell_type": "markdown",
   "metadata": {},
   "source": [
    "Note: \n",
    "* if you assign a scalar value to a __slice__ (a selection of some elements in an array)\n",
    "  * as in `arr[5:8] = 12`\n",
    "* then the value is propagated (or again _broadcasted_) to each selected element \n",
    "\n",
    "If you are familiar with Python lists you might have noticed an important difference\n",
    "* When slicing a list, you actually create a copy \n",
    "* **Array slices are views on the original array**.\n",
    "* The __data in a slice is not copied__\n",
    "  * this is more efficient\n",
    "  * and any modifications to the view will be reflected in the source array\n",
    "  \n",
    "Let's see another example  "
   ]
  },
  {
   "cell_type": "code",
   "execution_count": null,
   "metadata": {
    "collapsed": false,
    "editable": true,
    "jupyter": {
     "outputs_hidden": false
    }
   },
   "outputs": [],
   "source": [
    "print('source array', arr)\n",
    "arr_slice = arr[5:8]\n",
    "print('slice array', arr_slice)"
   ]
  },
  {
   "cell_type": "code",
   "execution_count": null,
   "metadata": {
    "collapsed": false,
    "editable": true,
    "jupyter": {
     "outputs_hidden": false
    }
   },
   "outputs": [],
   "source": [
    "arr_slice[1] = 12345\n",
    "print('source array (after arr_slice[1] = 12345):\\n', arr)"
   ]
  },
  {
   "cell_type": "markdown",
   "metadata": {},
   "source": [
    "If you want a `copy of a slice of an ndarray` instead of a view, you will need to `explicitly copy` the array; \n",
    "* `arr2 = arr[5:8].copy()`"
   ]
  },
  {
   "cell_type": "markdown",
   "metadata": {},
   "source": [
    "#### Indexing and slicing higher-dimensional arrays"
   ]
  },
  {
   "cell_type": "markdown",
   "metadata": {},
   "source": [
    "With higher dimensional arrays, you have many more options. \n",
    "* A two-dimensional array is actually an array of arrays\n",
    "  * Each entry of the _outer_ array contains an _inner_ array"
   ]
  },
  {
   "cell_type": "code",
   "execution_count": 22,
   "metadata": {
    "collapsed": false,
    "editable": true,
    "jupyter": {
     "outputs_hidden": false
    }
   },
   "outputs": [
    {
     "data": {
      "text/plain": [
       "array([[1, 2, 3],\n",
       "       [4, 5, 6],\n",
       "       [7, 8, 9]])"
      ]
     },
     "execution_count": 22,
     "metadata": {},
     "output_type": "execute_result"
    }
   ],
   "source": [
    "arr2d = np.array([[1, 2, 3], [4, 5, 6], [7, 8, 9]])\n",
    "arr2d"
   ]
  },
  {
   "cell_type": "code",
   "execution_count": 23,
   "metadata": {},
   "outputs": [
    {
     "data": {
      "text/plain": [
       "array([1, 2, 3])"
      ]
     },
     "execution_count": 23,
     "metadata": {},
     "output_type": "execute_result"
    }
   ],
   "source": [
    "arr1d=arr2d[0]\n",
    "arr1d"
   ]
  },
  {
   "cell_type": "code",
   "execution_count": 25,
   "metadata": {},
   "outputs": [
    {
     "data": {
      "text/plain": [
       "3"
      ]
     },
     "execution_count": 25,
     "metadata": {},
     "output_type": "execute_result"
    }
   ],
   "source": [
    "arr1d[2]"
   ]
  },
  {
   "cell_type": "code",
   "execution_count": 26,
   "metadata": {},
   "outputs": [
    {
     "data": {
      "text/plain": [
       "3"
      ]
     },
     "execution_count": 26,
     "metadata": {},
     "output_type": "execute_result"
    }
   ],
   "source": [
    "arr2d[0][2]"
   ]
  },
  {
   "cell_type": "markdown",
   "metadata": {},
   "source": [
    "As for multidimensional lists, you can access single elements of inner arrays using nested `[]`\n",
    "* `arr2d[0][2]` is `3`, the third element (index `2`) of the first inner array (index `0`)\n",
    "* Alternatively, you can do `arr2d[0,2]`"
   ]
  },
  {
   "cell_type": "code",
   "execution_count": 27,
   "metadata": {
    "collapsed": false,
    "editable": true,
    "jupyter": {
     "outputs_hidden": false
    }
   },
   "outputs": [
    {
     "name": "stdout",
     "output_type": "stream",
     "text": [
      "[[1 2 3]\n",
      " [4 5 6]\n",
      " [7 8 9]]\n",
      "3\n",
      "3\n"
     ]
    }
   ],
   "source": [
    "print(arr2d)\n",
    "print(arr2d[0][2])\n",
    "print(arr2d[0, 2])"
   ]
  },
  {
   "cell_type": "markdown",
   "metadata": {},
   "source": [
    "**See figure below for an illustration of indexing a 2D array** <br />\n",
    "<img src='data:image/png;base64,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'>"
   ]
  },
  {
   "cell_type": "markdown",
   "metadata": {},
   "source": [
    "This is an example for 2-dimensional arrays\n",
    "* It works the similarly for higher dimensions..."
   ]
  },
  {
   "cell_type": "markdown",
   "metadata": {
    "editable": true
   },
   "source": [
    "**BEWARE**\n",
    "- When `indexing`, it does not make a difference whether you use\n",
    "  - `arr2d[0][2]` or `arr2d[0, 2]`\n",
    "- When `silicing`, it makes a **big difference** whether you use\n",
    "  - `arr2d[:2,1:]` or `arr2d[:2][1:]`\n",
    "  - Typically what you want to do is `arr2d[:2,1:]`"
   ]
  },
  {
   "cell_type": "markdown",
   "metadata": {},
   "source": [
    "For `arr2d[:2,1:]`\n",
    "- we first select the rows 0 and 1 `[1,2,3],[4,5,6]`\n",
    "- from these, we select column 1 and 2 `[2,3],[5,6]`"
   ]
  },
  {
   "cell_type": "code",
   "execution_count": null,
   "metadata": {},
   "outputs": [],
   "source": [
    "print(arr2d[:2,1:])\n",
    "arr2d[:2,1:].shape"
   ]
  },
  {
   "cell_type": "markdown",
   "metadata": {},
   "source": [
    "For `arr2d[:2][1:]`\n",
    "- we first select the rows 0 and 1 `[1,2,3],[4,5,6]`\n",
    "- we select row 1 `[4, 5, 6]`"
   ]
  },
  {
   "cell_type": "code",
   "execution_count": null,
   "metadata": {},
   "outputs": [],
   "source": [
    "print(arr2d[:2])\n",
    "print()\n",
    "print(arr2d[:2][1:])\n",
    "arr2d[:2][1:].shape"
   ]
  },
  {
   "cell_type": "markdown",
   "metadata": {},
   "source": [
    "Further examples of indexing/slicing of higher dimensional arrays"
   ]
  },
  {
   "attachments": {
    "image.png": {
     "image/png": "[encoded data removed]"
    }
   },
   "cell_type": "markdown",
   "metadata": {},
   "source": [
    "![image.png](attachment:image.png)"
   ]
  },
  {
   "cell_type": "code",
   "execution_count": null,
   "metadata": {
    "collapsed": false,
    "editable": true,
    "jupyter": {
     "outputs_hidden": false
    }
   },
   "outputs": [],
   "source": [
    "print(arr2d)\n",
    "print()\n",
    "print(arr2d[:2])"
   ]
  },
  {
   "cell_type": "markdown",
   "metadata": {},
   "source": [
    "We have sliced it along axis 0, the first axis (the rows). \n",
    "* A slice, therefore, selects a range of elements along an axis. \n",
    "* You can pass multiple slices just like you can pass multiple indexes"
   ]
  },
  {
   "cell_type": "code",
   "execution_count": null,
   "metadata": {
    "collapsed": false,
    "editable": true,
    "jupyter": {
     "outputs_hidden": false
    }
   },
   "outputs": [],
   "source": [
    "arr2d[:2, 1:]"
   ]
  },
  {
   "cell_type": "markdown",
   "metadata": {},
   "source": [
    "Assigning to a slice expression assigns to the whole selection by broadcasting"
   ]
  },
  {
   "cell_type": "code",
   "execution_count": 28,
   "metadata": {
    "collapsed": false,
    "editable": true,
    "jupyter": {
     "outputs_hidden": false
    }
   },
   "outputs": [
    {
     "data": {
      "text/plain": [
       "array([[1, 0, 0],\n",
       "       [4, 0, 0],\n",
       "       [7, 8, 9]])"
      ]
     },
     "execution_count": 28,
     "metadata": {},
     "output_type": "execute_result"
    }
   ],
   "source": [
    "arr2d[:2, 1:] = 0 \n",
    "arr2d"
   ]
  },
  {
   "cell_type": "markdown",
   "metadata": {},
   "source": [
    "We can also use a Boolean expression to select elements in an array\n",
    "* we select the ones satisfying the Boolean expression"
   ]
  },
  {
   "cell_type": "code",
   "execution_count": 29,
   "metadata": {},
   "outputs": [
    {
     "name": "stdout",
     "output_type": "stream",
     "text": [
      "Data\n",
      " [[ 1.39488484 -0.58482747  1.31177172 -0.8485843 ]\n",
      " [-0.4405374  -0.37706432  0.10265034  1.23679179]\n",
      " [ 0.76203946 -1.88041723 -0.05766653  0.92228063]\n",
      " [-0.53707637 -0.17318729  0.06542151  0.05952227]\n",
      " [-1.55183124  0.31602675  0.42590147 -0.78917139]\n",
      " [ 1.14655082 -0.10686355 -0.45048643 -0.35868839]\n",
      " [ 0.0191469   0.16042652  1.37076696 -0.10101502]]\n"
     ]
    }
   ],
   "source": [
    "data = np.random.randn(7, 4)\n",
    "print('Data\\n',data)"
   ]
  },
  {
   "cell_type": "code",
   "execution_count": 30,
   "metadata": {},
   "outputs": [
    {
     "data": {
      "text/plain": [
       "array([[ True, False,  True, False],\n",
       "       [False, False,  True,  True],\n",
       "       [ True, False, False,  True],\n",
       "       [False, False,  True,  True],\n",
       "       [False,  True,  True, False],\n",
       "       [ True, False, False, False],\n",
       "       [ True,  True,  True, False]])"
      ]
     },
     "execution_count": 30,
     "metadata": {},
     "output_type": "execute_result"
    }
   ],
   "source": [
    "data > 0"
   ]
  },
  {
   "cell_type": "code",
   "execution_count": 31,
   "metadata": {},
   "outputs": [
    {
     "name": "stdout",
     "output_type": "stream",
     "text": [
      "Data2\n",
      " [1.39488484 1.31177172 0.10265034 1.23679179 0.76203946 0.92228063\n",
      " 0.06542151 0.05952227 0.31602675 0.42590147 1.14655082 0.0191469\n",
      " 0.16042652 1.37076696]\n"
     ]
    }
   ],
   "source": [
    "data2=data[ data > 0]\n",
    "print('Data2\\n',data2)"
   ]
  },
  {
   "cell_type": "markdown",
   "metadata": {},
   "source": [
    "## Mathematical and Statistical Methods\n",
    "Arrays have a number of methods for \n",
    "* computing mathematical functions/statistics \n",
    "  * on the entire array \n",
    "  * on part of the array"
   ]
  },
  {
   "cell_type": "markdown",
   "metadata": {},
   "source": [
    "### Reshaping an array"
   ]
  },
  {
   "cell_type": "markdown",
   "metadata": {},
   "source": [
    "Arrays have a convenient method `reshape` to \n",
    "* change their dimensions without modifying the data\n",
    "* Also in this case we compute views. \n",
    "  * **no data is actually copied**\n",
    "  * any change to the view is observed also in the orginal data\n",
    "\n",
    "For example, we can transform\n",
    "* a 1-dimensional array with 15 entries\n",
    "* into a 2-dimensional 3x5 array (a matrix)"
   ]
  },
  {
   "cell_type": "code",
   "execution_count": 32,
   "metadata": {},
   "outputs": [
    {
     "name": "stdout",
     "output_type": "stream",
     "text": [
      "1-dimensional array arr\n",
      " [ 0  1  2  3  4  5  6  7  8  9 10 11 12 13 14]\n",
      "2-dimensional matrix m\n",
      " [[ 0  1  2  3  4]\n",
      " [ 5  6  7  8  9]\n",
      " [10 11 12 13 14]]\n",
      "\n",
      "1-dimensional array arr after modifiyng the view m\n",
      " [100   1   2   3   4   5   6   7   8   9  10  11  12  13  14]\n",
      "2-dimensional matrix m after modifiyng the view m\n",
      " [[100   1   2   3   4]\n",
      " [  5   6   7   8   9]\n",
      " [ 10  11  12  13  14]]\n"
     ]
    }
   ],
   "source": [
    "arr = np.arange(15)\n",
    "print(\"1-dimensional array arr\\n\",arr)\n",
    "m=arr.reshape((3, 5))\n",
    "print(\"2-dimensional matrix m\\n\",m)\n",
    "\n",
    "print()\n",
    "#m is a view!\n",
    "m[0,0]=100\n",
    "print(\"1-dimensional array arr after modifiyng the view m\\n\",arr)\n",
    "print(\"2-dimensional matrix m after modifiyng the view m\\n\",m)"
   ]
  },
  {
   "cell_type": "markdown",
   "metadata": {},
   "source": [
    "### Transposing Arrays\n",
    "Arrays have the transpose method and also the special T attribute\n",
    "* This is just a special reshape\n",
    "* we compute a view - no actual copy"
   ]
  },
  {
   "cell_type": "code",
   "execution_count": 33,
   "metadata": {},
   "outputs": [
    {
     "name": "stdout",
     "output_type": "stream",
     "text": [
      "Matrix m\n",
      " [[ 0  1  2  3  4]\n",
      " [ 5  6  7  8  9]\n",
      " [10 11 12 13 14]]\n",
      "\n",
      "Transposed matrix using T\n",
      " [[ 0  5 10]\n",
      " [ 1  6 11]\n",
      " [ 2  7 12]\n",
      " [ 3  8 13]\n",
      " [ 4  9 14]]\n",
      "\n",
      "Transposed matrix transpose()\n",
      " [[ 0  5 10]\n",
      " [ 1  6 11]\n",
      " [ 2  7 12]\n",
      " [ 3  8 13]\n",
      " [ 4  9 14]]\n"
     ]
    }
   ],
   "source": [
    "arr = np.arange(15)\n",
    "m = arr.reshape(3,5)\n",
    "print(\"Matrix m\\n\",m)\n",
    "print()\n",
    "print(\"Transposed matrix using T\\n\",m.T)\n",
    "print()\n",
    "print(\"Transposed matrix transpose()\\n\",m.transpose())"
   ]
  },
  {
   "cell_type": "markdown",
   "metadata": {},
   "source": [
    "When invoked on a matrix, they both give the transpose of such matrix\n",
    "- See animation from [wikipedia](https://en.wikipedia.org/wiki/Transpose)"
   ]
  },
  {
   "cell_type": "code",
   "execution_count": 34,
   "metadata": {},
   "outputs": [
    {
     "data": {
      "image/gif": "[encoded data removed]",
      "text/plain": [
       "<IPython.core.display.Image object>"
      ]
     },
     "execution_count": 34,
     "metadata": {},
     "output_type": "execute_result"
    }
   ],
   "source": [
    "from IPython.display import Image\n",
    "Image(\"https://upload.wikimedia.org/wikipedia/commons/e/e4/Matrix_transpose.gif\")"
   ]
  },
  {
   "cell_type": "markdown",
   "metadata": {},
   "source": [
    "In addition, `transpose` can be invoked on arrays of any dimensions [to permute such dimensions](https://numpy.org/devdocs/reference/generated/numpy.transpose.html#numpy.transpose)\n",
    "- reversing them by default\n",
    "- or providing the new order for dimensions in input"
   ]
  },
  {
   "cell_type": "code",
   "execution_count": 35,
   "metadata": {},
   "outputs": [
    {
     "name": "stdout",
     "output_type": "stream",
     "text": [
      "[[[1. 1. 1. 1.]\n",
      "  [1. 1. 1. 1.]\n",
      "  [1. 1. 1. 1.]]\n",
      "\n",
      " [[1. 1. 1. 1.]\n",
      "  [1. 1. 1. 1.]\n",
      "  [1. 1. 1. 1.]]]\n",
      "Shape of x\n",
      " (2, 3, 4)\n",
      "Shape of x.transpose()\n",
      " (4, 3, 2)\n",
      "Shape of x.transpose(0,2,1)\n",
      " (2, 4, 3)\n"
     ]
    }
   ],
   "source": [
    "x = np.ones((2, 3, 4))\n",
    "print(x)\n",
    "print('Shape of x\\n',x.shape)\n",
    "print('Shape of x.transpose()\\n',x.transpose().shape)\n",
    "print('Shape of x.transpose(0,2,1)\\n',x.transpose(0,2,1).shape)"
   ]
  },
  {
   "cell_type": "markdown",
   "metadata": {},
   "source": [
    "### Matrix product\n",
    "If you want to [multply two matrices](https://en.wikipedia.org/wiki/Matrix_multiplication) you can use the `dot` method\n",
    "* not just multiplying element-wise their elements\n",
    "* but the classic row-column multiplication of matrixes"
   ]
  },
  {
   "cell_type": "code",
   "execution_count": 36,
   "metadata": {},
   "outputs": [
    {
     "name": "stdout",
     "output_type": "stream",
     "text": [
      "m1\n",
      " [[0 1]\n",
      " [2 3]]\n",
      "m2\n",
      " [[4 5]\n",
      " [6 7]]\n",
      "m1.dot(m2)\n",
      " [[ 6  7]\n",
      " [26 31]]\n",
      "Same as np.dot(m1,m2)\n",
      " [[ 6  7]\n",
      " [26 31]]\n"
     ]
    }
   ],
   "source": [
    "m1 = np.arange(4).reshape(2,2)\n",
    "m2 = (np.arange(4)+4).reshape(2,2)\n",
    "#np.dot(m.T,m)\n",
    "print('m1\\n',m1)\n",
    "print('m2\\n',m2)\n",
    "print('m1.dot(m2)\\n',m1.dot(m2))\n",
    "print('Same as np.dot(m1,m2)\\n',np.dot(m1,m2))"
   ]
  },
  {
   "cell_type": "markdown",
   "metadata": {},
   "source": [
    "### Square root\n",
    "_np.sqrt()_ computes the square root of each element. Equivalent to m1 ** 0.5"
   ]
  },
  {
   "cell_type": "code",
   "execution_count": 37,
   "metadata": {},
   "outputs": [
    {
     "name": "stdout",
     "output_type": "stream",
     "text": [
      "[[0.         1.        ]\n",
      " [1.41421356 1.73205081]]\n",
      "[[0.         1.        ]\n",
      " [1.41421356 1.73205081]]\n"
     ]
    }
   ],
   "source": [
    "print(np.sqrt(m1))\n",
    "print(m1 ** 0.5)"
   ]
  },
  {
   "cell_type": "markdown",
   "metadata": {},
   "source": [
    "### Aggregations\n",
    "Aggregations (often called reductions) \n",
    "* like sum, mean, and standard deviation std of all elements in the matrix/array \n",
    "* can be computed by using the corresponding array method"
   ]
  },
  {
   "cell_type": "code",
   "execution_count": 38,
   "metadata": {},
   "outputs": [
    {
     "name": "stdout",
     "output_type": "stream",
     "text": [
      "matrix\n",
      " [[ 0  1  2  3  4]\n",
      " [ 5  6  7  8  9]\n",
      " [10 11 12 13 14]]\n",
      "mean 7.0\n",
      "sum 105\n",
      "standard deviation 4.320493798938574\n",
      "\n",
      "array\n",
      " [ 0  1  2  3  4  5  6  7  8  9 10 11 12 13 14]\n",
      "mean 7.0\n",
      "sum 105\n",
      "standard deviation 4.320493798938574\n"
     ]
    }
   ],
   "source": [
    "print('matrix\\n',m)\n",
    "print('mean',m.mean())\n",
    "print('sum',m.sum())\n",
    "print('standard deviation',m.std())\n",
    "\n",
    "print()\n",
    "print('array\\n',arr)\n",
    "print('mean',arr.mean())\n",
    "print('sum',arr.sum())\n",
    "print('standard deviation',arr.std())"
   ]
  },
  {
   "cell_type": "markdown",
   "metadata": {},
   "source": [
    "Functions like `sum`  and `mean`\n",
    "* can be computed for each dimension rather than cumulatively \n",
    "* we do this specifying the `axis` (the dimension) over which we want to iterate\n",
    "\n",
    "For example, using \n",
    "* `axis=0` we compute the sum/mean/std for each column of M\n",
    "* `axis=1` we compute the sum/mean/std for each row of M"
   ]
  },
  {
   "cell_type": "code",
   "execution_count": 39,
   "metadata": {},
   "outputs": [
    {
     "name": "stdout",
     "output_type": "stream",
     "text": [
      "matrix\n",
      " [[ 0  1  2  3  4]\n",
      " [ 5  6  7  8  9]\n",
      " [10 11 12 13 14]]\n",
      "\n",
      "sum of each column\n",
      " [15 18 21 24 27]\n",
      "mean of each column\n",
      " [5. 6. 7. 8. 9.]\n",
      "standard deviation of each column\n",
      " [4.0824829 4.0824829 4.0824829 4.0824829 4.0824829]\n",
      "\n",
      "sum of each row\n",
      " [10 35 60]\n",
      "mean of each row\n",
      " [ 2.  7. 12.]\n",
      "standard deviation of each row\n",
      " [1.41421356 1.41421356 1.41421356]\n"
     ]
    }
   ],
   "source": [
    "print('matrix\\n',m)\n",
    "print()\n",
    "\n",
    "print('sum of each column\\n',m.sum(axis=0))\n",
    "print('mean of each column\\n',m.mean(axis=0))\n",
    "print('standard deviation of each column\\n',m.std(axis=0))\n",
    "print()\n",
    "\n",
    "print('sum of each row\\n',m.sum(axis=1))\n",
    "print('mean of each row\\n',m.mean(axis=1))\n",
    "print('standard deviation of each row\\n',m.std(axis=1))"
   ]
  },
  {
   "cell_type": "markdown",
   "metadata": {},
   "source": [
    "### Sorting\n",
    "Similarly to lists, \n",
    "* arrays can be sorted using the `sort()` method"
   ]
  },
  {
   "cell_type": "code",
   "execution_count": 40,
   "metadata": {},
   "outputs": [
    {
     "data": {
      "text/plain": [
       "array([-0.89886901,  0.19770637,  1.0177114 ,  1.52695258, -0.18601268,\n",
       "        0.47163245, -0.39095538,  1.09942312])"
      ]
     },
     "execution_count": 40,
     "metadata": {},
     "output_type": "execute_result"
    }
   ],
   "source": [
    "arr = np.random.randn(8)\n",
    "arr"
   ]
  },
  {
   "cell_type": "code",
   "execution_count": 41,
   "metadata": {},
   "outputs": [
    {
     "data": {
      "text/plain": [
       "array([-0.89886901, -0.39095538, -0.18601268,  0.19770637,  0.47163245,\n",
       "        1.0177114 ,  1.09942312,  1.52695258])"
      ]
     },
     "execution_count": 41,
     "metadata": {},
     "output_type": "execute_result"
    }
   ],
   "source": [
    "arr.sort()\n",
    "arr"
   ]
  },
  {
   "cell_type": "markdown",
   "metadata": {},
   "source": [
    "Multidimensional arrays are sorted by iteratively sorting each dimentsion. \n",
    "E.g. in matrices we \n",
    "* Sort the elements within each row\n",
    "* We sort the rows using the lexicographical order"
   ]
  },
  {
   "cell_type": "code",
   "execution_count": 42,
   "metadata": {},
   "outputs": [
    {
     "data": {
      "text/plain": [
       "array([[-0.40611465,  0.8587962 ,  1.04767981],\n",
       "       [ 0.60610966, -0.15484801,  0.54991703],\n",
       "       [-0.16464908, -0.36644276, -0.10759062],\n",
       "       [ 2.03779999,  1.09519457,  0.96848932],\n",
       "       [ 0.60702492, -0.22044818, -1.87204851]])"
      ]
     },
     "execution_count": 42,
     "metadata": {},
     "output_type": "execute_result"
    }
   ],
   "source": [
    "arr2d = np.random.randn(5, 3)\n",
    "arr2d"
   ]
  },
  {
   "cell_type": "code",
   "execution_count": 43,
   "metadata": {},
   "outputs": [
    {
     "data": {
      "text/plain": [
       "array([[-0.40611465,  0.8587962 ,  1.04767981],\n",
       "       [-0.15484801,  0.54991703,  0.60610966],\n",
       "       [-0.36644276, -0.16464908, -0.10759062],\n",
       "       [ 0.96848932,  1.09519457,  2.03779999],\n",
       "       [-1.87204851, -0.22044818,  0.60702492]])"
      ]
     },
     "execution_count": 43,
     "metadata": {},
     "output_type": "execute_result"
    }
   ],
   "source": [
    "arr2d.sort()\n",
    "arr2d"
   ]
  },
  {
   "cell_type": "markdown",
   "metadata": {},
   "source": [
    "But we can also sort single dimensions"
   ]
  },
  {
   "cell_type": "code",
   "execution_count": null,
   "metadata": {},
   "outputs": [],
   "source": [
    "arr2d = np.random.randn(5, 3)\n",
    "arr2d_cp0 = arr2d.copy()\n",
    "arr2d_cp1 = arr2d.copy()\n",
    "print(arr2d)\n",
    "\n",
    "#Same the elements within each row (sort across columns)\n",
    "arr2d.sort()\n",
    "print('arr2d.sort()')\n",
    "print(arr2d)\n",
    "\n",
    "#Same the elements within each column (sort across rows)\n",
    "arr2d_cp0.sort(0)\n",
    "print('arr2d.sort(0)')\n",
    "print(arr2d_cp0)\n",
    "\n",
    "#Same as sort()\n",
    "arr2d_cp1.sort(1)\n",
    "print('arr2d.sort(1)')\n",
    "print(arr2d_cp1)"
   ]
  },
  {
   "cell_type": "markdown",
   "metadata": {},
   "source": [
    "### Unique\n",
    "NumPy has some basic set operations for 1-dimensional ndarrays. \n",
    "* The most common one is `np.unique()` \n",
    "  * returns the sorted unique values in an array"
   ]
  },
  {
   "cell_type": "code",
   "execution_count": 44,
   "metadata": {},
   "outputs": [
    {
     "name": "stdout",
     "output_type": "stream",
     "text": [
      "['Bob' 'Joe' 'Will']\n"
     ]
    }
   ],
   "source": [
    "names = np.array(['Bob', 'Will', 'Bob', 'Will', 'Joe', 'Joe'])\n",
    "print(np.unique(names))\n",
    "\n",
    "# pure Python alternative:\n",
    "# sorted(set(names))"
   ]
  },
  {
   "cell_type": "markdown",
   "metadata": {},
   "source": [
    "## Logic functions \n",
    "- See also [here](https://numpy.org/doc/stable/reference/routines.logic.html)\n",
    "\n",
    "We have seen how conditions can be checked on all elements in an array\n",
    "- containing an array of same dimensions containing \n",
    "  - `True` for the elements satisfying the condition\n",
    "  - `False` for the elements not satisfying the condition  "
   ]
  },
  {
   "cell_type": "code",
   "execution_count": 45,
   "metadata": {},
   "outputs": [
    {
     "data": {
      "text/plain": [
       "array([[-1.1439619 , -0.8320334 , -0.64536869,  0.86711291],\n",
       "       [-1.44139886,  0.01917846, -1.88390368,  0.2873329 ],\n",
       "       [ 0.59047605, -0.44840423, -0.0540178 , -0.51055587],\n",
       "       [ 0.92993429, -0.39945548,  0.59417166, -0.86510029],\n",
       "       [-0.63529962,  0.15872157,  1.0665155 ,  0.81294378],\n",
       "       [ 0.25880881,  1.78670318, -0.08630682,  0.27738829],\n",
       "       [-0.85488818, -0.43636773, -1.32303247, -1.16857283]])"
      ]
     },
     "execution_count": 45,
     "metadata": {},
     "output_type": "execute_result"
    }
   ],
   "source": [
    "data = np.random.randn(7, 4)\n",
    "data"
   ]
  },
  {
   "cell_type": "markdown",
   "metadata": {},
   "source": [
    "What numbers are greater than 0?"
   ]
  },
  {
   "cell_type": "code",
   "execution_count": 46,
   "metadata": {},
   "outputs": [
    {
     "data": {
      "text/plain": [
       "array([[False, False, False,  True],\n",
       "       [False,  True, False,  True],\n",
       "       [ True, False, False, False],\n",
       "       [ True, False,  True, False],\n",
       "       [False,  True,  True,  True],\n",
       "       [ True,  True, False,  True],\n",
       "       [False, False, False, False]])"
      ]
     },
     "execution_count": 46,
     "metadata": {},
     "output_type": "execute_result"
    }
   ],
   "source": [
    "mask = data > 0\n",
    "mask"
   ]
  },
  {
   "cell_type": "markdown",
   "metadata": {},
   "source": [
    "NumPy offers __logic functions__ to check Boolean expressions on such Boolean arrays\n",
    "- `any`: a generalization of **OR** returning `True` if at least one entry contains `True` \n",
    "- `all`: a generalization of **AND** returning `True` if at least one entry contains `True` \n",
    "\n",
    "As for the aggregation functions, these can be checked also on single dimensions"
   ]
  },
  {
   "cell_type": "code",
   "execution_count": 47,
   "metadata": {},
   "outputs": [
    {
     "name": "stdout",
     "output_type": "stream",
     "text": [
      "[[False False False  True]\n",
      " [False  True False  True]\n",
      " [ True False False False]\n",
      " [ True False  True False]\n",
      " [False  True  True  True]\n",
      " [ True  True False  True]\n",
      " [False False False False]]\n",
      "\n",
      "\n",
      "\n",
      "mask.any()\n",
      " True\n",
      "\n",
      "mask.any(axis=0) - for each column\n",
      " [ True  True  True  True]\n",
      "\n",
      "mask.any(axis=1) - for each row\n",
      " [ True  True  True  True  True  True False]\n",
      "\n",
      "\n",
      "\n",
      "mask.all()\n",
      " False\n",
      "\n",
      "mask.all(axis=0) - for each column\n",
      " [False False False False]\n",
      "\n",
      "mask.all(axis=1) - for each row\n",
      " [False False False False False False False]\n"
     ]
    }
   ],
   "source": [
    "print(mask)\n",
    "print()\n",
    "print()\n",
    "\n",
    "# any( axis)\n",
    "# Test whether any array element along a given axis evaluates to True.\n",
    "print('\\nmask.any()\\n', mask.any() )\n",
    "print('\\nmask.any(axis=0) - for each column\\n', mask.any(axis=0) )\n",
    "print('\\nmask.any(axis=1) - for each row\\n', mask.any(axis=1) )\n",
    "#all(axis)\n",
    "\n",
    "print()\n",
    "print()\n",
    "#Test whether all array elements along a given axis evaluate to True.\n",
    "print('\\nmask.all()\\n', mask.all() )\n",
    "print('\\nmask.all(axis=0) - for each column\\n', mask.all(axis=0) )\n",
    "print('\\nmask.all(axis=1) - for each row\\n', mask.all(axis=1) )"
   ]
  },
  {
   "cell_type": "markdown",
   "metadata": {},
   "source": [
    "# Pandas"
   ]
  },
  {
   "cell_type": "markdown",
   "metadata": {},
   "source": [
    "[Pandas](https://pandas.pydata.org/) is another popular Python package. \n",
    "* It is built on top of NumPy (its data structures consist of several arrays)\n",
    "\n",
    "Pandas provides rich data structures and functions designed to \n",
    "* make it easy, flexible and efficient working with structured data \n",
    "  - CSV files\n",
    "  - Spreadsheets\n",
    "  - Databases"
   ]
  },
  {
   "cell_type": "markdown",
   "metadata": {},
   "source": [
    "E.g., Pandas allows to easily perform complex data manipulation like \n",
    "* _reshape_ and _slice_\n",
    "* data aggregations \n",
    "* data selection\n",
    "* merge/join tables"
   ]
  },
  {
   "cell_type": "markdown",
   "metadata": {},
   "source": [
    "## Install and import the Pandas module"
   ]
  },
  {
   "cell_type": "markdown",
   "metadata": {},
   "source": [
    "The first time you run this notebook you might have to install Pandas using the following script:"
   ]
  },
  {
   "cell_type": "code",
   "execution_count": null,
   "metadata": {},
   "outputs": [],
   "source": [
    "import sys\n",
    "#!{sys.executable} -m pip install pandas"
   ]
  },
  {
   "cell_type": "markdown",
   "metadata": {},
   "source": [
    "The Python community has adopted a number of __naming conventions__ for commonly used modules:\n",
    "* Below you see the conventions for numpy, pandas and matplotlib"
   ]
  },
  {
   "cell_type": "code",
   "execution_count": 48,
   "metadata": {},
   "outputs": [],
   "source": [
    "#import numpy as np\n",
    "import pandas as pd \n",
    "# import matplotlib.pyplot as plt"
   ]
  },
  {
   "cell_type": "markdown",
   "metadata": {},
   "source": [
    "## Series"
   ]
  },
  {
   "cell_type": "markdown",
   "metadata": {},
   "source": [
    "A Series is a one-dimensional list-like/array-like object containing __2 arrays__\n",
    "* an ndarray containing the __actual data__\n",
    "* an associated ndarray of __labels__ with one label (or index) per data element\n",
    "\n",
    "Intuitively, you can see a Series as \n",
    "* a dictionary (a hash-map)\n",
    "* or, in its simplest form, as a 1-dimensional array/list consisting of\n",
    "  * an array of data, \n",
    "  * an implicit array of labels. It labels each element with its position"
   ]
  },
  {
   "cell_type": "code",
   "execution_count": 49,
   "metadata": {},
   "outputs": [
    {
     "data": {
      "text/plain": [
       "0    4\n",
       "1    7\n",
       "2   -5\n",
       "3    3\n",
       "dtype: int64"
      ]
     },
     "execution_count": 49,
     "metadata": {},
     "output_type": "execute_result"
    }
   ],
   "source": [
    "obj = pd.Series([4, 7, -5, 3])\n",
    "obj"
   ]
  },
  {
   "cell_type": "markdown",
   "metadata": {},
   "source": [
    "We note that \n",
    "* The string representation of a Series shows the index on the left and the values on the right\n",
    "  * Obtained using the method `__str__` of the class Series\n",
    "\n",
    "\n",
    "Since we did not specify an index\n",
    "* a default array of labels containing integers from 0 to N - 1 is created.\n",
    "* each element is labeled with its own position in the array\n",
    "\n",
    "If you are interested only in one of the two arrays, just use"
   ]
  },
  {
   "cell_type": "code",
   "execution_count": null,
   "metadata": {},
   "outputs": [],
   "source": [
    "print('Series index: ',obj.index)\n",
    "print('Series values: ',obj.values)"
   ]
  },
  {
   "cell_type": "markdown",
   "metadata": {},
   "source": [
    "Let's now create a Series whose entries are labelled by characters."
   ]
  },
  {
   "cell_type": "code",
   "execution_count": 51,
   "metadata": {},
   "outputs": [
    {
     "data": {
      "text/plain": [
       "d    4\n",
       "b    7\n",
       "a   -5\n",
       "c    3\n",
       "dtype: int64"
      ]
     },
     "execution_count": 51,
     "metadata": {},
     "output_type": "execute_result"
    }
   ],
   "source": [
    "obj2 = pd.Series([4, 7, -5, 3], index=['d', 'b', 'a', 'c'])\n",
    "obj2"
   ]
  },
  {
   "cell_type": "code",
   "execution_count": 52,
   "metadata": {},
   "outputs": [
    {
     "data": {
      "text/plain": [
       "-5"
      ]
     },
     "execution_count": 52,
     "metadata": {},
     "output_type": "execute_result"
    }
   ],
   "source": [
    "obj2['a']"
   ]
  },
  {
   "cell_type": "markdown",
   "metadata": {},
   "source": [
    "### Indexing, selection, and filtering"
   ]
  },
  {
   "cell_type": "markdown",
   "metadata": {},
   "source": [
    "Similarly to Python [**dict**ionaries](https://docs.python.org/3/tutorial/datastructures.html), \n",
    "* you can use values in the index to select values in the main array"
   ]
  },
  {
   "cell_type": "code",
   "execution_count": null,
   "metadata": {},
   "outputs": [],
   "source": [
    "print(\"obj2['d'] = \\n\",obj2['d'])\n",
    "\n",
    "obj2['d'] = 6\n",
    "print(\"obj2['d']  (after obj2['d'] = 6) =\\n\",obj2['d'])\n",
    "\n",
    "print('\\nYou can also select a number of entries')\n",
    "print(\"obj2[['c', 'a', 'd']] =\")\n",
    "print(obj2[['c', 'a', 'd']])"
   ]
  },
  {
   "cell_type": "markdown",
   "metadata": {},
   "source": [
    "Indexes are preserved by NumPy array operations like\n",
    "* filtering with a boolean array, scalar multiplication, application of math functions"
   ]
  },
  {
   "cell_type": "code",
   "execution_count": null,
   "metadata": {},
   "outputs": [],
   "source": [
    "print(\"obj2\")\n",
    "print(obj2)\n",
    "print()\n",
    "print(\"NumPy operation obj2[obj2 > 0]\")\n",
    "print(obj2[obj2 > 0])\n",
    "print()\n",
    "print(\"NumPy operation obj2 * 2\")\n",
    "print(obj2 * 2)\n",
    "print()\n",
    "print(\"NumPy operation np.exp(obj2)\")\n",
    "print(np.exp(obj2))"
   ]
  },
  {
   "cell_type": "markdown",
   "metadata": {},
   "source": [
    "What do you get with `obj2 > 0`?\n",
    "- a copy of the series preserving the index, with `True`/`False` values"
   ]
  },
  {
   "cell_type": "code",
   "execution_count": null,
   "metadata": {},
   "outputs": [],
   "source": [
    "obj2 > 0"
   ]
  },
  {
   "cell_type": "markdown",
   "metadata": {},
   "source": [
    "You can create a Series using \n",
    "- a **dict**ionary \n",
    "- and a list as index\n",
    "\n",
    "The list contains the keys of interest from the dictionary"
   ]
  },
  {
   "cell_type": "code",
   "execution_count": null,
   "metadata": {},
   "outputs": [],
   "source": [
    "sdata = {'Ohio': 35000, 'Texas': 71000, 'Oregon': 16000, 'Utah': 5000}\n",
    "states = ['California', 'Ohio', 'Oregon', 'Texas']\n",
    "obj4 = pd.Series(sdata, index=states)\n",
    "obj4 "
   ]
  },
  {
   "cell_type": "markdown",
   "metadata": {},
   "source": [
    "We note that\n",
    "* 3 values found in sdata were placed in the appropriate locations, \n",
    "* but since no value for `'California'` was found, it got a `NaN` (not a number) \n",
    "  * which is considered in pandas to mark missing/NA/NaN values\n",
    "  \n",
    "The `isnull` and `notnull` functions in pandas detect such missing values:"
   ]
  },
  {
   "cell_type": "code",
   "execution_count": null,
   "metadata": {},
   "outputs": [],
   "source": [
    "pd.isnull(obj4) "
   ]
  },
  {
   "cell_type": "code",
   "execution_count": null,
   "metadata": {},
   "outputs": [],
   "source": [
    "pd.notnull(obj4) "
   ]
  },
  {
   "cell_type": "markdown",
   "metadata": {},
   "source": [
    "E.g., if you want to use only the non-null values you do:"
   ]
  },
  {
   "cell_type": "code",
   "execution_count": null,
   "metadata": {},
   "outputs": [],
   "source": [
    "obj4[pd.notnull(obj4)]"
   ]
  },
  {
   "cell_type": "markdown",
   "metadata": {},
   "source": [
    "## DataFrame\n",
    "* A Series can be seen as \n",
    "  - a table with 1 column\n",
    "  - a csv file with 1 column\n",
    "  - ...\n",
    "* A **DataFrame is a proper table/csv** with more columns\n",
    "  * A series is just a simpler version of a dataframe\n",
    "  * A dataframe is a series with **more main arrays** (one per column), and **one index**\n",
    "  * DataFrames are the most important objects in pandas"
   ]
  },
  {
   "cell_type": "markdown",
   "metadata": {},
   "source": [
    "### Creating DataFrame objects"
   ]
  },
  {
   "cell_type": "markdown",
   "metadata": {},
   "source": [
    "The most common way to build a dataframe is by \n",
    "* using a dict containing lists or arrays of same length\n",
    "  * each key/label becomes a column\n",
    "    * if you specify a subset of key/labels, then only the corresponding column will be added\n",
    "    * if you pass a column that isn’t contained in data, it will get NA values\n",
    "  * each list/array element is a value for that column"
   ]
  },
  {
   "cell_type": "code",
   "execution_count": null,
   "metadata": {},
   "outputs": [],
   "source": [
    "data = {'state': ['Ohio', 'Ohio', 'Ohio', 'Nevada', 'Nevada', 'Nevada'],\n",
    "        'year': [2000, 2001, 2002, 2001, 2002, 2003],\n",
    "        'pop': [1.5, 1.7, 3.6, 2.4, 2.9, 3.2]}"
   ]
  },
  {
   "cell_type": "code",
   "execution_count": null,
   "metadata": {
    "collapsed": false,
    "editable": true,
    "jupyter": {
     "outputs_hidden": false
    }
   },
   "outputs": [],
   "source": [
    "frame = pd.DataFrame(data,columns=['state','pop','nonExistingColumn'])\n",
    "frame"
   ]
  },
  {
   "cell_type": "code",
   "execution_count": null,
   "metadata": {},
   "outputs": [],
   "source": [
    "frame = pd.DataFrame(data)\n",
    "frame"
   ]
  },
  {
   "cell_type": "markdown",
   "metadata": {},
   "source": [
    "We see above that the DataFrame also has an index/labels array\n",
    "* the first column\n",
    "  * in this case we have the default array of labels\n",
    "  * but specific ones can be given explicitly"
   ]
  },
  {
   "cell_type": "code",
   "execution_count": null,
   "metadata": {},
   "outputs": [],
   "source": [
    "frame1 = pd.DataFrame(data, index = ['a','b','c','d','e','f'] )\n",
    "frame1"
   ]
  },
  {
   "cell_type": "markdown",
   "metadata": {},
   "source": [
    "A column of a DataFrame can be retrieved as a Series \n",
    "* by dict-like notation \n",
    "* or by attribute:"
   ]
  },
  {
   "cell_type": "code",
   "execution_count": null,
   "metadata": {},
   "outputs": [],
   "source": [
    "frame2 = pd.DataFrame(data, columns=['year', 'state', 'pop', 'debt'], \n",
    "                      index=['one', 'two', 'three', 'four', 'five','six'])\n",
    "frame2"
   ]
  },
  {
   "cell_type": "code",
   "execution_count": null,
   "metadata": {},
   "outputs": [],
   "source": [
    "#Select single column or sequence of columns from the DataFrame\n",
    "frame2['state'] # by dict-like notation "
   ]
  },
  {
   "cell_type": "code",
   "execution_count": null,
   "metadata": {},
   "outputs": [],
   "source": [
    "frame2.state # by attribute"
   ]
  },
  {
   "cell_type": "markdown",
   "metadata": {},
   "source": [
    "> Note the difference\n",
    "> - `['state']` vs `.state`\n",
    "<br/>\n",
    "> They are both valid"
   ]
  },
  {
   "cell_type": "markdown",
   "metadata": {},
   "source": [
    "If you create a dataframe using a 2-levels nested dictionary\n",
    "* The keys of the outer dictionary will be used for the column names\n",
    "* The keys of the inner dictionary will be used for the index names"
   ]
  },
  {
   "cell_type": "code",
   "execution_count": null,
   "metadata": {
    "collapsed": false,
    "editable": true,
    "jupyter": {
     "outputs_hidden": false
    }
   },
   "outputs": [],
   "source": [
    "inner_dict1 ={           2001: 2.4, 2002: 2.9}\n",
    "inner_dict2 ={2000: 1.5, 2001: 1.7, 2002: 3.6}\n",
    "\n",
    "outer_dict = {'Nevada': inner_dict1, 'Ohio': inner_dict2}\n",
    "frame3 = pd.DataFrame(outer_dict)\n",
    "frame3"
   ]
  },
  {
   "cell_type": "markdown",
   "metadata": {},
   "source": [
    "You can also choose which keys of the inner dict (i.e. which indexes) to use\n",
    "* we are not using 2001 and 2000\n",
    "* we are using a non-existing index 2003"
   ]
  },
  {
   "cell_type": "code",
   "execution_count": null,
   "metadata": {
    "collapsed": false,
    "editable": true,
    "jupyter": {
     "outputs_hidden": false
    }
   },
   "outputs": [],
   "source": [
    "pd.DataFrame(outer_dict, index=[2002, 2003])"
   ]
  },
  {
   "cell_type": "markdown",
   "metadata": {
    "editable": true,
    "jupyter": {
     "outputs_hidden": false
    }
   },
   "source": [
    "Like Series, the `values` attribute \n",
    "- returns the data contained in the DataFrame as a 2D ndarray"
   ]
  },
  {
   "cell_type": "code",
   "execution_count": null,
   "metadata": {
    "collapsed": false,
    "editable": true,
    "jupyter": {
     "outputs_hidden": false
    }
   },
   "outputs": [],
   "source": [
    "frame3.values"
   ]
  },
  {
   "cell_type": "markdown",
   "metadata": {},
   "source": [
    "### Updating DataFrame objects"
   ]
  },
  {
   "cell_type": "markdown",
   "metadata": {},
   "source": [
    "Values in a dataframe column can be modified by assignment. \n",
    "* If we assign a single value to a column, then the value is __broadcasted__ to the whole column\n",
    "* E.g., the empty `debt` column can be initialized to 16.5 as:"
   ]
  },
  {
   "cell_type": "code",
   "execution_count": null,
   "metadata": {},
   "outputs": [],
   "source": [
    "frame2"
   ]
  },
  {
   "cell_type": "code",
   "execution_count": null,
   "metadata": {
    "collapsed": false,
    "editable": true,
    "jupyter": {
     "outputs_hidden": false
    }
   },
   "outputs": [],
   "source": [
    "frame2['debt'] = 16.5\n",
    "frame2"
   ]
  },
  {
   "cell_type": "code",
   "execution_count": null,
   "metadata": {},
   "outputs": [],
   "source": [
    "frame2.debt=1.0\n",
    "frame2"
   ]
  },
  {
   "cell_type": "markdown",
   "metadata": {},
   "source": [
    "When assigning lists or arrays to a column, \n",
    "- they must contain as many elements as rows in the DataFrame"
   ]
  },
  {
   "cell_type": "code",
   "execution_count": null,
   "metadata": {},
   "outputs": [],
   "source": [
    "frame2['debt'] = np.arange(6.)\n",
    "print(frame2)\n",
    "#The following would not work\n",
    "#frame2['debt'] = np.arange(6)\n",
    "frame2.dtypes"
   ]
  },
  {
   "cell_type": "markdown",
   "metadata": {
    "editable": true,
    "jupyter": {
     "outputs_hidden": false
    }
   },
   "source": [
    "Creating and deleting columns\n",
    "* Assigning a column that doesn’t exist will create a new column. \n",
    "* The del keyword will delete columns as with a dict"
   ]
  },
  {
   "cell_type": "code",
   "execution_count": null,
   "metadata": {},
   "outputs": [],
   "source": [
    "frame2"
   ]
  },
  {
   "cell_type": "code",
   "execution_count": null,
   "metadata": {
    "collapsed": false,
    "editable": true,
    "jupyter": {
     "outputs_hidden": false
    }
   },
   "outputs": [],
   "source": [
    "frame2['eastern'] =  (frame2.state == 'Ohio')\n",
    "#frame2['eastern'] = True\n",
    "frame2"
   ]
  },
  {
   "cell_type": "markdown",
   "metadata": {},
   "source": [
    "> Note, you **cannot** create columns using the attribute notation\n",
    "> * `frame2.easterntwo =  (frame2.state == 'Ohio')`"
   ]
  },
  {
   "cell_type": "markdown",
   "metadata": {},
   "source": [
    "Deleting columns and rows\n",
    "- `del` modifies the dataframe on which it is applied\n",
    "- [`drop`](https://pandas.pydata.org/pandas-docs/stable/reference/api/pandas.DataFrame.drop.html) has a number of useful attributes\n",
    "  - can be used to delete columns or rows\n",
    "  - creates a copy by default, but can also act on the current one"
   ]
  },
  {
   "cell_type": "code",
   "execution_count": null,
   "metadata": {},
   "outputs": [],
   "source": [
    "del frame2['eastern']\n",
    "frame2"
   ]
  },
  {
   "cell_type": "code",
   "execution_count": null,
   "metadata": {},
   "outputs": [],
   "source": [
    "frame2['new_col']=np.arange(6)\n",
    "print('frame2')\n",
    "print(frame2)\n",
    "\n",
    "frame2del = frame2.drop(['new_col'],axis=1)\n",
    "print('\\nframe2del')\n",
    "print(frame2del)\n",
    "print('\\nframe2')\n",
    "print(frame2)"
   ]
  },
  {
   "cell_type": "markdown",
   "metadata": {},
   "source": [
    "> Drop can modify the current DataFrame if setting `inplace=True`"
   ]
  },
  {
   "cell_type": "code",
   "execution_count": null,
   "metadata": {},
   "outputs": [],
   "source": [
    "frame2['new_col']=np.arange(6)\n",
    "frame2\n",
    "print('frame2')\n",
    "print(frame2)\n",
    "\n",
    "frame2.drop(['new_col'],axis=1,inplace=True)\n",
    "print('\\nframe2')\n",
    "print(frame2)"
   ]
  },
  {
   "cell_type": "code",
   "execution_count": null,
   "metadata": {},
   "outputs": [],
   "source": [
    "#You get error\n",
    "#frame2.drop(['new_col'],axis=1,inplace=True)"
   ]
  },
  {
   "cell_type": "code",
   "execution_count": null,
   "metadata": {},
   "outputs": [],
   "source": [
    "#frame2.drop(['new_col'],axis=1,inplace=True) #deleting a non existing column gives errors\n",
    "frame2.drop(['new_col'],axis=1,inplace=True,errors='ignore') #you can ignore errors"
   ]
  },
  {
   "cell_type": "markdown",
   "metadata": {},
   "source": [
    "We have just seen how to __delete columns__\n",
    "\n",
    "In order to __delete rows__ \n",
    "* you just use the `drop` method without specifying the `axis` (or using `axis=0`)"
   ]
  },
  {
   "cell_type": "code",
   "execution_count": null,
   "metadata": {},
   "outputs": [],
   "source": [
    "frame2"
   ]
  },
  {
   "cell_type": "code",
   "execution_count": null,
   "metadata": {},
   "outputs": [],
   "source": [
    "frame100 = frame2.drop(['five'])\n",
    "frame100"
   ]
  },
  {
   "cell_type": "code",
   "execution_count": null,
   "metadata": {},
   "outputs": [],
   "source": [
    "frame100['year']=100\n",
    "frame100"
   ]
  },
  {
   "cell_type": "code",
   "execution_count": null,
   "metadata": {},
   "outputs": [],
   "source": [
    "frame100.drop(['four','three'],inplace=True)\n",
    "frame100"
   ]
  },
  {
   "cell_type": "code",
   "execution_count": null,
   "metadata": {},
   "outputs": [],
   "source": [
    "frame2"
   ]
  },
  {
   "cell_type": "markdown",
   "metadata": {
    "editable": true,
    "jupyter": {
     "outputs_hidden": false
    }
   },
   "source": [
    "Similarly to multi-dimensional arrays, \n",
    "* you can **transpose** the result:"
   ]
  },
  {
   "cell_type": "code",
   "execution_count": null,
   "metadata": {
    "collapsed": false,
    "editable": true,
    "jupyter": {
     "outputs_hidden": false
    }
   },
   "outputs": [],
   "source": [
    "frame2.T"
   ]
  },
  {
   "cell_type": "code",
   "execution_count": null,
   "metadata": {},
   "outputs": [],
   "source": [
    "frame2.transpose()"
   ]
  },
  {
   "cell_type": "markdown",
   "metadata": {},
   "source": [
    "As for array, no data is actually copied when transposing\n",
    "* unless you specify it with attribute **copy**\n",
    "\n",
    "> BEWARE: A copy will be always created if the dataframe contains __mixed dtypes__"
   ]
  },
  {
   "cell_type": "code",
   "execution_count": null,
   "metadata": {},
   "outputs": [],
   "source": [
    "#Given that we have strings, integers and flaots, a copy is done no matter what\n",
    "frame2T=frame2.transpose(copy=False)\n",
    "frame2.year=frame2.year-100\n",
    "print(frame2)\n",
    "print()\n",
    "print(frame2T)"
   ]
  },
  {
   "cell_type": "code",
   "execution_count": null,
   "metadata": {},
   "outputs": [],
   "source": [
    "frame2=frame2.astype({'year': 'float64'})\n",
    "frame2.dtypes"
   ]
  },
  {
   "cell_type": "code",
   "execution_count": null,
   "metadata": {},
   "outputs": [],
   "source": [
    "frame2.drop(['state'],axis=1,inplace=True)\n",
    "frame2"
   ]
  },
  {
   "cell_type": "code",
   "execution_count": null,
   "metadata": {},
   "outputs": [],
   "source": [
    "frame2.dtypes"
   ]
  },
  {
   "cell_type": "markdown",
   "metadata": {},
   "source": [
    "We now have just floats. \n",
    "- Therefore a copy will be created only if required"
   ]
  },
  {
   "cell_type": "code",
   "execution_count": null,
   "metadata": {},
   "outputs": [],
   "source": [
    "frame2T=frame2.transpose(copy=False)\n",
    "frame2.year=frame2.year-100\n",
    "print(frame2)\n",
    "print()\n",
    "print(frame2T)"
   ]
  },
  {
   "cell_type": "markdown",
   "metadata": {},
   "source": [
    "### Indexing, selection, and filtering\n"
   ]
  },
  {
   "cell_type": "markdown",
   "metadata": {},
   "source": [
    "Indexing into a DataFrame \n",
    "- allows to retriving one or more of its columns:"
   ]
  },
  {
   "cell_type": "code",
   "execution_count": null,
   "metadata": {},
   "outputs": [],
   "source": [
    "data = pd.DataFrame(np.arange(16).reshape((4, 4)),\n",
    "                    index=['Ohio', 'Colorado', 'Utah', 'New York'],\n",
    "                    columns=['one', 'two', 'three', 'four'])\n",
    "data"
   ]
  },
  {
   "cell_type": "code",
   "execution_count": null,
   "metadata": {},
   "outputs": [],
   "source": [
    "data['two'] #retrieving one column"
   ]
  },
  {
   "cell_type": "code",
   "execution_count": null,
   "metadata": {},
   "outputs": [],
   "source": [
    "data[['three', 'one']] #retrieving two columns"
   ]
  },
  {
   "cell_type": "markdown",
   "metadata": {},
   "source": [
    "> If you select by slicing or Boolean expression, \n",
    "> - it is interpreted as a selection on __rows__"
   ]
  },
  {
   "cell_type": "code",
   "execution_count": null,
   "metadata": {},
   "outputs": [],
   "source": [
    "data[:2] #rows by slicing "
   ]
  },
  {
   "cell_type": "code",
   "execution_count": null,
   "metadata": {},
   "outputs": [],
   "source": [
    "data[ data['three'] > 5 ]  #rows by a boolean array"
   ]
  },
  {
   "cell_type": "markdown",
   "metadata": {},
   "source": [
    "#### 'Better' selection using iloc and loc"
   ]
  },
  {
   "cell_type": "markdown",
   "metadata": {},
   "source": [
    "The `iloc` field of dataframes allows to select subsets of rows and columns using NumPy-like notation\n",
    "* The iloc indexer for Pandas Dataframe is used for integer-location based indexing / selection by position.\n",
    "* `data.iloc[row selection, column selection]`\n",
    "   - column selection is optional\n",
    "   - **a bit like selections with 2-dimensional arrays seen before**"
   ]
  },
  {
   "cell_type": "code",
   "execution_count": null,
   "metadata": {},
   "outputs": [],
   "source": [
    "data"
   ]
  },
  {
   "cell_type": "code",
   "execution_count": null,
   "metadata": {},
   "outputs": [],
   "source": [
    "data.iloc[1]   # second row"
   ]
  },
  {
   "cell_type": "code",
   "execution_count": null,
   "metadata": {},
   "outputs": [],
   "source": [
    "data.iloc[-1]  # last row"
   ]
  },
  {
   "cell_type": "code",
   "execution_count": null,
   "metadata": {},
   "outputs": [],
   "source": [
    "data.iloc[:,1] # first column"
   ]
  },
  {
   "cell_type": "code",
   "execution_count": null,
   "metadata": {},
   "outputs": [],
   "source": [
    "data.iloc[:,-1] # last column"
   ]
  },
  {
   "cell_type": "code",
   "execution_count": null,
   "metadata": {},
   "outputs": [],
   "source": [
    "data"
   ]
  },
  {
   "cell_type": "markdown",
   "metadata": {},
   "source": [
    "Multiple row and column selections using iloc\n",
    "- all rows   , first two columns, \n",
    "- last 2 rows, first two columns, "
   ]
  },
  {
   "cell_type": "code",
   "execution_count": null,
   "metadata": {},
   "outputs": [],
   "source": [
    "data.iloc[:, :2] # all rows, first 2 columns"
   ]
  },
  {
   "cell_type": "code",
   "execution_count": null,
   "metadata": {},
   "outputs": [],
   "source": [
    "data.iloc[2:, :2] # rows 2,3, first 2 columns"
   ]
  },
  {
   "cell_type": "code",
   "execution_count": null,
   "metadata": {},
   "outputs": [],
   "source": [
    "data.iloc[[1, 2], [3, 0, 1]] # 2nd 3rd row,  4th 1st 2nd columns."
   ]
  },
  {
   "cell_type": "markdown",
   "metadata": {},
   "source": [
    "The `loc` indexer works similarly\n",
    "* but you use column/index names rather than positions\n",
    "    - Selecting rows by label/index\n",
    "    - Selecting rows with a boolean / conditional lookup\n",
    "* The loc indexer is used with the same syntax as iloc: `data.loc[row selection, column selection]`"
   ]
  },
  {
   "cell_type": "markdown",
   "metadata": {},
   "source": [
    "> * `loc` gets rows (and/or columns) with particular **labels**\n",
    "> * `iloc` gets rows (and/or columns) at integer **locations**"
   ]
  },
  {
   "cell_type": "code",
   "execution_count": null,
   "metadata": {},
   "outputs": [],
   "source": [
    "print(data)\n",
    "print()\n",
    "print(data.loc[['Colorado','Ohio']]) #List of labels index.\n",
    "print()\n",
    "print(data.loc[:,'one']) # first column of data frame\n",
    "print()\n",
    "\n",
    "# Multiple row and column selections using loc and DataFrame\n",
    "print(data.loc[['Colorado','Ohio'], ['one','four']])  # 'Colorado','Ohio' row + 'one','four'columns."
   ]
  },
  {
   "cell_type": "code",
   "execution_count": null,
   "metadata": {},
   "outputs": [],
   "source": [
    "data"
   ]
  },
  {
   "cell_type": "code",
   "execution_count": null,
   "metadata": {},
   "outputs": [],
   "source": [
    "data.loc['Colorado':'New York', 'two':]"
   ]
  },
  {
   "cell_type": "markdown",
   "metadata": {},
   "source": [
    "### Arithmetics and Data Alignment\n",
    "When summing 2 dataframes with different sets of indexes we get a dataframe where \n",
    "* either only entries with column-index in both dataframes exist (default)\n",
    "* all entries with column-index in at least one dataframe exist (`fill_value=0`)\n",
    "\n",
    "This is known as __data alignment__"
   ]
  },
  {
   "cell_type": "markdown",
   "metadata": {},
   "source": [
    "#### column-index must exist in both dataframes"
   ]
  },
  {
   "cell_type": "code",
   "execution_count": null,
   "metadata": {},
   "outputs": [],
   "source": [
    "df1 = pd.DataFrame(np.arange(4.).reshape((2, 2)), \n",
    "                   columns=list('ab'),\n",
    "                   index=['Texas', 'Colorado'])\n",
    "df1"
   ]
  },
  {
   "cell_type": "code",
   "execution_count": null,
   "metadata": {},
   "outputs": [],
   "source": [
    "df2 = pd.DataFrame((np.arange(3.)+4).reshape((1, 3)), \n",
    "                   columns=list('abc'),\n",
    "                   index=['Texas'])\n",
    "df2"
   ]
  },
  {
   "cell_type": "code",
   "execution_count": null,
   "metadata": {},
   "outputs": [],
   "source": [
    "df1 + df2"
   ]
  },
  {
   "cell_type": "markdown",
   "metadata": {},
   "source": [
    "#### column-index must exist in one dataframe"
   ]
  },
  {
   "cell_type": "markdown",
   "metadata": {},
   "source": [
    "If you want to see **Colorado** in the result\n",
    "- You can fill a **default value**"
   ]
  },
  {
   "cell_type": "code",
   "execution_count": null,
   "metadata": {},
   "outputs": [],
   "source": [
    "df1.add(df2, fill_value=0)"
   ]
  },
  {
   "cell_type": "code",
   "execution_count": null,
   "metadata": {},
   "outputs": [],
   "source": [
    "df1.add(df2, fill_value=100)"
   ]
  },
  {
   "cell_type": "markdown",
   "metadata": {},
   "source": [
    "> `Colorado,c` remains NA because it does not appear in any dataframe"
   ]
  },
  {
   "cell_type": "markdown",
   "metadata": {},
   "source": [
    "### NumyPy & function application and mapping"
   ]
  },
  {
   "cell_type": "markdown",
   "metadata": {},
   "source": [
    "#### A digression on `lambda` functions"
   ]
  },
  {
   "cell_type": "markdown",
   "metadata": {},
   "source": [
    "__[Lambda functions](https://www.w3schools.com/python/python_lambda.asp)__: in some cases, it might be convenient to define on-the-fly anonymous simple functions\n",
    "* __anonymous__: the function has no name\n",
    "* __simple__: the function can consist only of one expression\n",
    "\n",
    "A lambda function computes the sum of two numbers: \n",
    "- `lambda a, b: a+b`"
   ]
  },
  {
   "cell_type": "markdown",
   "metadata": {},
   "source": [
    "Recall:\n",
    "- Everything in python is an object, also (lambda) functions\n",
    "  - You can assign them to variables\n",
    "  - You can pass them as parameters"
   ]
  },
  {
   "cell_type": "code",
   "execution_count": null,
   "metadata": {},
   "outputs": [],
   "source": [
    "my_lfun = lambda a, b: a+b\n",
    "print(type(my_lfun))\n",
    "my_lfun(1,2)"
   ]
  },
  {
   "cell_type": "code",
   "execution_count": null,
   "metadata": {},
   "outputs": [],
   "source": [
    "def expression_evaluator(f,n1,n2):\n",
    "    print('The result is',f(n1,n2))\n",
    "\n",
    "expression_evaluator(lambda a, b: a+b, 1,2)\n",
    "expression_evaluator(lambda a, b: a*b, 1,2)"
   ]
  },
  {
   "cell_type": "markdown",
   "metadata": {},
   "source": [
    "A lambda function is really nothing more than a simple function without name\n",
    "* Why should we use them then?\n",
    "* Due to syntactic limiations regarding `def`\n",
    "\n",
    "There are places where `def` cannot be used:\n",
    "* In arguments of functions or in return statements\n",
    "\n",
    "Lambda expressions can help you avoiding annoying workarounds\n",
    "* In the end, it is mostly syntactic sugar"
   ]
  },
  {
   "cell_type": "markdown",
   "metadata": {},
   "source": [
    "An interesing feature related to lambda functions are\n",
    "- Python closurses to *attach data to code*"
   ]
  },
  {
   "cell_type": "code",
   "execution_count": null,
   "metadata": {},
   "outputs": [],
   "source": [
    "# Python closures and lambda expressions\n",
    "#    We attach data to code\n",
    "def myfunc(n):\n",
    "    return lambda a : a * n\n",
    "\n",
    "mydoubler = myfunc(2)\n",
    "mytripler = myfunc(3)\n",
    "\n",
    "print(mydoubler(11))\n",
    "print(mytripler(11))"
   ]
  },
  {
   "cell_type": "code",
   "execution_count": null,
   "metadata": {},
   "outputs": [],
   "source": [
    "#This cannot be done\n",
    "# def myfunc(n):\n",
    "#   return def aaa(a) :\n",
    "#             a * n            "
   ]
  },
  {
   "cell_type": "markdown",
   "metadata": {},
   "source": [
    "However you can do"
   ]
  },
  {
   "cell_type": "code",
   "execution_count": null,
   "metadata": {},
   "outputs": [],
   "source": [
    "def myfunc(n):\n",
    "    def myinnerfunc(a) : \n",
    "        return a * n\n",
    "    return myinnerfunc\n",
    "\n",
    "mydoubler2 = myfunc(2)\n",
    "mytripler2 = myfunc(3)\n",
    "\n",
    "print(mydoubler(11))\n",
    "print(mytripler(11))"
   ]
  },
  {
   "cell_type": "markdown",
   "metadata": {},
   "source": [
    "Lambda functions are typically used in conjunction with\n",
    "* __map__: applies a given function to each element in a sequence\n",
    "* __filter__: applies a Boolean function to each element in a sequence, and returns only those evaluated to `true`\n",
    "* __reduce__: applies cumulatively a given function to the elements in a sequence, and return the cumulative result\n",
    "\n",
    "Some examples and interesting discussions on lambdas, map, filter, and reduce can be found at:\n",
    "* [Reference 1](https://book.pythontips.com/en/latest/map_filter.html#map-filter-and-reduce)\n",
    "* [Reference 2](https://www.learnpython.org/en/Map,_Filter,_Reduce)\n",
    "\n",
    "Here we see how lambda functions allow to \n",
    "- _enrich_ the set of functions applicable to DataFrames\n",
    "- apply _compactly_ complex functions to DataFrames"
   ]
  },
  {
   "cell_type": "markdown",
   "metadata": {},
   "source": [
    "#### Function application and mapping\n",
    "NumPy [ufuncs](https://www.w3schools.com/python/numpy_ufunc.asp) \n",
    "- element-wise array functions\n",
    "- work fine also with pandas objects"
   ]
  },
  {
   "cell_type": "code",
   "execution_count": null,
   "metadata": {},
   "outputs": [],
   "source": [
    "frame = pd.DataFrame(np.random.randn(4, 3), columns=list('bde'),\n",
    "                     index=['Utah', 'Ohio', 'Texas', 'Oregon'])\n",
    "frame"
   ]
  },
  {
   "cell_type": "code",
   "execution_count": null,
   "metadata": {},
   "outputs": [],
   "source": [
    "np.abs(frame)"
   ]
  },
  {
   "cell_type": "markdown",
   "metadata": {},
   "source": [
    "But you can also apply any function thought for 1d arrays to each column or row."
   ]
  },
  {
   "cell_type": "code",
   "execution_count": null,
   "metadata": {},
   "outputs": [],
   "source": [
    "my_abs = lambda arr: arr.abs()\n",
    "frame.apply(my_abs)"
   ]
  },
  {
   "cell_type": "code",
   "execution_count": null,
   "metadata": {
    "collapsed": false,
    "editable": true,
    "jupyter": {
     "outputs_hidden": false
    }
   },
   "outputs": [],
   "source": [
    "f = lambda arr: arr.abs() * 2\n",
    "frame.apply(f)"
   ]
  },
  {
   "cell_type": "code",
   "execution_count": null,
   "metadata": {},
   "outputs": [],
   "source": [
    "f = lambda arr: arr.max()\n",
    "frame.apply(f)"
   ]
  },
  {
   "cell_type": "code",
   "execution_count": null,
   "metadata": {
    "collapsed": false,
    "editable": true,
    "jupyter": {
     "outputs_hidden": false
    }
   },
   "outputs": [],
   "source": [
    "frame.apply(f, axis='columns')"
   ]
  },
  {
   "cell_type": "markdown",
   "metadata": {},
   "source": [
    "Element-wise Python functions can be used as well\n",
    "- [`applymap`](https://pandas.pydata.org/pandas-docs/stable/reference/api/pandas.DataFrame.applymap.html) applies a function that accepts and returns a scalar to every element of a DataFrame\n",
    "- `map` can be used to obtain same result for series"
   ]
  },
  {
   "cell_type": "code",
   "execution_count": null,
   "metadata": {},
   "outputs": [],
   "source": [
    "frame"
   ]
  },
  {
   "cell_type": "code",
   "execution_count": null,
   "metadata": {
    "collapsed": false,
    "editable": true,
    "jupyter": {
     "outputs_hidden": false
    }
   },
   "outputs": [],
   "source": [
    "times_ten = lambda x: x*10\n",
    "frame.applymap(times_ten)"
   ]
  },
  {
   "cell_type": "code",
   "execution_count": null,
   "metadata": {
    "collapsed": false,
    "editable": true,
    "jupyter": {
     "outputs_hidden": false
    }
   },
   "outputs": [],
   "source": [
    "frame['e'].map(times_ten)"
   ]
  },
  {
   "cell_type": "markdown",
   "metadata": {
    "editable": true
   },
   "source": [
    "### Sorting\n",
    "To sort\n",
    "lexicographically by row or column index, use the `sort_index` method, \n",
    "- which returns a new, sorted object:"
   ]
  },
  {
   "cell_type": "code",
   "execution_count": null,
   "metadata": {
    "collapsed": false,
    "editable": true,
    "jupyter": {
     "outputs_hidden": false
    }
   },
   "outputs": [],
   "source": [
    "obj = pd.Series(range(4), index=['d', 'a', 'b', 'c'])\n",
    "obj"
   ]
  },
  {
   "cell_type": "code",
   "execution_count": null,
   "metadata": {},
   "outputs": [],
   "source": [
    "obj.sort_index()"
   ]
  },
  {
   "cell_type": "code",
   "execution_count": null,
   "metadata": {
    "collapsed": false,
    "editable": true,
    "jupyter": {
     "outputs_hidden": false
    }
   },
   "outputs": [],
   "source": [
    "frame = pd.DataFrame(np.arange(9).reshape((3, 3)),\n",
    "                     index=['three', 'two','one'],\n",
    "                     columns=['c', 'a', 'b'])\n",
    "frame"
   ]
  },
  {
   "cell_type": "code",
   "execution_count": null,
   "metadata": {},
   "outputs": [],
   "source": [
    "frame.sort_index() # sorting by the index"
   ]
  },
  {
   "cell_type": "code",
   "execution_count": null,
   "metadata": {},
   "outputs": [],
   "source": [
    "frame.sort_index(axis=1,ascending=False) #  sorting  by column index  in descending order"
   ]
  },
  {
   "cell_type": "markdown",
   "metadata": {},
   "source": [
    "We saw how to sort according to the 'name' of the index or of the column\n",
    "\n",
    "If you want to **sort according to the values** in the dataframe you should use\n",
    "- [sort_values](https://pandas.pydata.org/pandas-docs/stable/reference/api/pandas.DataFrame.sort_values.html)"
   ]
  },
  {
   "cell_type": "code",
   "execution_count": null,
   "metadata": {},
   "outputs": [],
   "source": [
    "frame"
   ]
  },
  {
   "cell_type": "code",
   "execution_count": null,
   "metadata": {},
   "outputs": [],
   "source": [
    "frame.sort_values(by='b',ascending=False)"
   ]
  },
  {
   "cell_type": "markdown",
   "metadata": {
    "editable": true
   },
   "source": [
    "### Summarizing and Computing Descriptive Statistics\n",
    "Series and Dataframes offer methods for computing mathematical/statistical methods. \n",
    "* Most of these are reductions or summary statistics, \n",
    "  * methods that compute\n",
    "    * For Series: a single value (e.g. sum or mean) \n",
    "    * For DataFrames: a Series of values from the rows or columns. "
   ]
  },
  {
   "cell_type": "code",
   "execution_count": null,
   "metadata": {
    "collapsed": false,
    "editable": true,
    "jupyter": {
     "outputs_hidden": false
    }
   },
   "outputs": [],
   "source": [
    "df = pd.DataFrame([[1.4, np.nan], [7.1, -4.5],\n",
    "                   [np.nan, np.nan], [0.75, -1.3]],\n",
    "                  index=['a', 'b', 'c', 'd'],\n",
    "                  columns=['one', 'two'])\n",
    "df"
   ]
  },
  {
   "cell_type": "code",
   "execution_count": null,
   "metadata": {
    "collapsed": false,
    "editable": true,
    "jupyter": {
     "outputs_hidden": false
    }
   },
   "outputs": [],
   "source": [
    "df.sum(axis='columns')"
   ]
  },
  {
   "cell_type": "code",
   "execution_count": null,
   "metadata": {
    "editable": true
   },
   "outputs": [],
   "source": [
    "df.sum()"
   ]
  },
  {
   "cell_type": "markdown",
   "metadata": {},
   "source": [
    "Note that NaN are ignored\n",
    "* `9.25/3 = 3.083333`"
   ]
  },
  {
   "cell_type": "code",
   "execution_count": null,
   "metadata": {},
   "outputs": [],
   "source": [
    "df.mean()"
   ]
  },
  {
   "cell_type": "markdown",
   "metadata": {},
   "source": [
    "idxmin and idxmax, return \n",
    "* the index containing the minimum or maximum values"
   ]
  },
  {
   "cell_type": "code",
   "execution_count": null,
   "metadata": {},
   "outputs": [],
   "source": [
    "df"
   ]
  },
  {
   "cell_type": "code",
   "execution_count": null,
   "metadata": {
    "collapsed": false,
    "editable": true,
    "jupyter": {
     "outputs_hidden": false
    }
   },
   "outputs": [],
   "source": [
    "df.idxmax()"
   ]
  },
  {
   "cell_type": "code",
   "execution_count": null,
   "metadata": {},
   "outputs": [],
   "source": [
    "df.idxmin()"
   ]
  },
  {
   "cell_type": "markdown",
   "metadata": {},
   "source": [
    "The method `describe` computes a number of summary statistics in one shot:"
   ]
  },
  {
   "cell_type": "code",
   "execution_count": null,
   "metadata": {
    "editable": true
   },
   "outputs": [],
   "source": [
    "df.describe() #Compute set of summary statistics for Series or each DataFrame column"
   ]
  },
  {
   "cell_type": "markdown",
   "metadata": {
    "editable": true
   },
   "source": [
    " ### Value Counts, Membership and Missing Data\n",
    " Another class of related methods extracts information about the values contained in a\n",
    "one-dimensional Series. "
   ]
  },
  {
   "cell_type": "code",
   "execution_count": null,
   "metadata": {},
   "outputs": [],
   "source": [
    "df = pd.DataFrame([['a', 'b'], [np.nan, 'a'],\n",
    "                   ['b', 'b'], ['a', 'b']],\n",
    "                  index=[1,2,3,4],\n",
    "                  columns=['one', 'two'])\n",
    "\n",
    "df"
   ]
  },
  {
   "cell_type": "code",
   "execution_count": null,
   "metadata": {},
   "outputs": [],
   "source": [
    "df.two.unique() # unique, which gives you an array of the unique values in a Series"
   ]
  },
  {
   "cell_type": "code",
   "execution_count": null,
   "metadata": {},
   "outputs": [],
   "source": [
    "df.two.value_counts() # computes a Series containing value frequencies:"
   ]
  },
  {
   "cell_type": "markdown",
   "metadata": {},
   "source": [
    "`isin` is responsible for \n",
    "- vectorized set membership "
   ]
  },
  {
   "cell_type": "code",
   "execution_count": null,
   "metadata": {},
   "outputs": [],
   "source": [
    "df.one"
   ]
  },
  {
   "cell_type": "code",
   "execution_count": null,
   "metadata": {},
   "outputs": [],
   "source": [
    "df.one[df.one.isin(['b', 'a'])]"
   ]
  },
  {
   "cell_type": "code",
   "execution_count": null,
   "metadata": {},
   "outputs": [],
   "source": [
    "df.one[df.one.isin(['b'])]"
   ]
  },
  {
   "cell_type": "markdown",
   "metadata": {},
   "source": [
    "In certain cases, you might want to **filter out missing data**\n",
    "- You can use [`dropna`](https://www.w3resource.com/pandas/dataframe/dataframe-dropna.php) to drop rows with at least one NAN\n",
    "- Or columns with at least one NAN using `dropna(axis='columns')`"
   ]
  },
  {
   "cell_type": "code",
   "execution_count": null,
   "metadata": {},
   "outputs": [],
   "source": [
    "df"
   ]
  },
  {
   "cell_type": "code",
   "execution_count": null,
   "metadata": {},
   "outputs": [],
   "source": [
    "df.dropna()"
   ]
  },
  {
   "cell_type": "code",
   "execution_count": null,
   "metadata": {},
   "outputs": [],
   "source": [
    "df.dropna(axis='columns')"
   ]
  },
  {
   "cell_type": "markdown",
   "metadata": {},
   "source": [
    "### Concatenate, Merge, Join\n",
    "Sometimes we don't have just 1 dataframe, \n",
    "- but more that we want to combine in different ways\n",
    "\n",
    "Pandas provides various facilities for easily combining together DataFrames"
   ]
  },
  {
   "cell_type": "markdown",
   "metadata": {},
   "source": [
    "#### Concatenating Along an Axis\n",
    "If we have dataframes representing _chunks_ of data with same structure \n",
    "- e.g., sets of rows of a table\n",
    "- we can use `concat` to concatenate their rows\n",
    "  - many more options [exist](https://pandas.pydata.org/pandas-docs/stable/user_guide/merging.html)."
   ]
  },
  {
   "cell_type": "code",
   "execution_count": null,
   "metadata": {},
   "outputs": [],
   "source": [
    "df1 = pd.DataFrame({'A': ['A0', 'A1', 'A2', 'A3'],\n",
    "                    'B': ['B0', 'B1', 'B2', 'B3'],\n",
    "                    'C': ['C0', 'C1', 'C2', 'C3'],\n",
    "                    'D': ['D0', 'D1', 'D2', 'D3']},\n",
    "                    index=[0, 1, 2, 3])\n",
    " \n",
    "df2 = pd.DataFrame({'A': ['A4', 'A5', 'A6', 'A7'],\n",
    "                    'B': ['B4', 'B5', 'B6', 'B7'],\n",
    "                    'C': ['C4', 'C5', 'C6', 'C7'],\n",
    "                    'D': ['D4', 'D5', 'D6', 'D7']},\n",
    "                    index=[4, 5, 6, 7])\n",
    "\n",
    "\n",
    "df3 = pd.DataFrame({'A': ['A8', 'A9', 'A10', 'A11'],\n",
    "                    'B': ['B8', 'B9', 'B10', 'B11'],\n",
    "                    'C': ['C8', 'C9', 'C10', 'C11'],\n",
    "                    'D': ['D8', 'D9', 'D10', 'D11']},\n",
    "                    index=[8, 9, 10, 11])\n",
    " \n",
    "\n",
    "frames = [df1, df2, df3]\n",
    "\n",
    "result = pd.concat(frames, axis=0)\n",
    "result"
   ]
  },
  {
   "cell_type": "markdown",
   "metadata": {},
   "source": [
    "Note, you might need to sort the resulting dataframe"
   ]
  },
  {
   "cell_type": "code",
   "execution_count": null,
   "metadata": {},
   "outputs": [],
   "source": [
    "frames = [df2, df1, df3]\n",
    "\n",
    "result = pd.concat(frames, axis=0)\n",
    "result"
   ]
  },
  {
   "cell_type": "code",
   "execution_count": null,
   "metadata": {},
   "outputs": [],
   "source": [
    "result.sort_index()"
   ]
  },
  {
   "cell_type": "markdown",
   "metadata": {},
   "source": [
    "What if some rows have same index?\n",
    "- You get more rows with same index! "
   ]
  },
  {
   "cell_type": "code",
   "execution_count": null,
   "metadata": {},
   "outputs": [],
   "source": [
    "frames = [df2, df2]\n",
    "result = pd.concat(frames, axis=0)\n",
    "result"
   ]
  },
  {
   "cell_type": "code",
   "execution_count": null,
   "metadata": {},
   "outputs": [],
   "source": [
    "result.loc[4]"
   ]
  },
  {
   "cell_type": "markdown",
   "metadata": {},
   "source": [
    "If you want to avoid this:\n",
    "- Reset the index afterwards `result.reset_index()`\n",
    "- Change the index of one of the two before concatenating\n",
    "\n",
    "But, in general, we suggest to use conact only if this case does not arise.\n",
    "> Indeed, it is useful to split first a big dtaframe, working on the single parts and putting them back together"
   ]
  },
  {
   "cell_type": "markdown",
   "metadata": {},
   "source": [
    "Thanks to __data alignment__, you can also concatenate dataframe with \n",
    "- __not perfectly matching structure__"
   ]
  },
  {
   "cell_type": "code",
   "execution_count": null,
   "metadata": {},
   "outputs": [],
   "source": [
    "df2['E']= ['E8', 'E9', 'E10', 'E11']\n",
    "df2.drop(['D'],axis=1,inplace=True)\n",
    "print('df2\\n',df2)\n",
    "\n",
    "frames = [df1, df2, df3]\n",
    "\n",
    "result = pd.concat(frames, axis=0)\n",
    "result"
   ]
  },
  {
   "cell_type": "markdown",
   "metadata": {},
   "source": [
    "#### Database-style merging and joining"
   ]
  },
  {
   "cell_type": "markdown",
   "metadata": {},
   "source": [
    "Dimensions in combining dataframes\n",
    "- `concat` combines dataframes _vertically_\n",
    "   - we put together _rows_\n",
    "   - but we can also add columns specifying `axis`\n",
    "- [`merge` and `join`](https://pandas.pydata.org/pandas-docs/stable/user_guide/merging.html) combine dataframes _horizontally_\n",
    "   - we put together _columns_   \n",
    "   \n",
    "Some examples below were taken from [here](https://pandas.pydata.org/pandas-docs/stable/user_guide/merging.html)"
   ]
  },
  {
   "cell_type": "markdown",
   "metadata": {},
   "source": [
    "##### Merge"
   ]
  },
  {
   "cell_type": "markdown",
   "metadata": {},
   "source": [
    "`Merge` operations combine datasets by \n",
    "- Linking rows using one or more keys (i.e. columns).\n",
    "- These operations are central to relational databases. \n",
    "  - After all, dataframes are tables ..."
   ]
  },
  {
   "cell_type": "markdown",
   "metadata": {},
   "source": [
    "Let's look at an example of `merge`"
   ]
  },
  {
   "cell_type": "code",
   "execution_count": null,
   "metadata": {},
   "outputs": [],
   "source": [
    "left = pd.DataFrame({'key': ['K0', 'K1', 'K2', 'K3'],\n",
    "                     'A': ['A0', 'A1', 'A2', 'A3'],\n",
    "                     'B': ['B0', 'B1', 'B2', 'B3']})\n",
    "\n",
    "\n",
    "right = pd.DataFrame({'key': ['K0', 'K0', 'K2', 'K2'],\n",
    "                      'C': ['C0', 'C1', 'C2', 'C3'],\n",
    "                      'D': ['D0', 'D1', 'D2', 'D3']})\n",
    "left"
   ]
  },
  {
   "cell_type": "code",
   "execution_count": null,
   "metadata": {},
   "outputs": [],
   "source": [
    "right"
   ]
  },
  {
   "cell_type": "markdown",
   "metadata": {},
   "source": [
    "We want to obtain a dataframe with columns `key` and `A` to `D`, combining rows \n",
    "- with same value of `key`"
   ]
  },
  {
   "cell_type": "code",
   "execution_count": null,
   "metadata": {},
   "outputs": [],
   "source": [
    "pd.merge(left, right,  how='inner', on='key')"
   ]
  },
  {
   "cell_type": "code",
   "execution_count": null,
   "metadata": {},
   "outputs": [],
   "source": [
    "pd.merge(left, right,  how='outer', on='key')"
   ]
  },
  {
   "cell_type": "code",
   "execution_count": null,
   "metadata": {},
   "outputs": [],
   "source": [
    "pd.merge(left, right,  how='left', on='key')"
   ]
  },
  {
   "cell_type": "markdown",
   "metadata": {},
   "source": [
    "- The _how_ argument determines which keys are to be included in the resulting table\n",
    "\n",
    "|  Merge method |Description  |\n",
    "|---|---|\n",
    "|  left |  Use keys from left frame only |  \n",
    "|  right |  Use keys from right frame only |  \n",
    "|  outer |  Use union of keys from both frames |  \n",
    "|  inner (default) | Use intersection of keys from both frames  |  \n",
    "\n",
    "\n",
    "Instead, _on_ specifies the Column to join on. \n",
    "- This must appear in both combined DataFrames"
   ]
  },
  {
   "cell_type": "markdown",
   "metadata": {},
   "source": [
    "What if you want to ignore certain columns? "
   ]
  },
  {
   "cell_type": "code",
   "execution_count": null,
   "metadata": {},
   "outputs": [],
   "source": [
    "pd.merge(left, right,  how='inner', on='key')"
   ]
  },
  {
   "cell_type": "code",
   "execution_count": null,
   "metadata": {},
   "outputs": [],
   "source": [
    "right"
   ]
  },
  {
   "cell_type": "code",
   "execution_count": null,
   "metadata": {},
   "outputs": [],
   "source": [
    "pd.merge(left, right[['key','C']],  how='inner', on='key')"
   ]
  },
  {
   "cell_type": "markdown",
   "metadata": {},
   "source": [
    "##### Join"
   ]
  },
  {
   "cell_type": "markdown",
   "metadata": {},
   "source": [
    "Pandas exposes another method for applying merge-like operations\n",
    "- **join**\n",
    "\n",
    "Both `merge` and `join` are based on a common inner method.\n",
    "- join could be useful in [specific cases](https://stackoverflow.com/questions/22676081/what-is-the-difference-between-join-and-merge-in-pandas)"
   ]
  },
  {
   "cell_type": "markdown",
   "metadata": {},
   "source": [
    "# Simple application to Italian COVID data - load/manipulate remote CSV file"
   ]
  },
  {
   "cell_type": "code",
   "execution_count": 53,
   "metadata": {
    "tags": []
   },
   "outputs": [],
   "source": [
    "import pandas as pd "
   ]
  },
  {
   "cell_type": "markdown",
   "metadata": {},
   "source": [
    "Using Python and pandas, it is easy to read data from text files\n",
    "\n",
    "One convenient feature is __type inference__\n",
    "* You don’t need to specify which columns are numeric, integer, boolean, or string. \n",
    "* Handling dates and other custom types requires a bit more effort, though. "
   ]
  },
  {
   "cell_type": "markdown",
   "metadata": {},
   "source": [
    "Let us consider the national-level Italian COVID CSV data collected by Protezione civile\n",
    "* It is distributed as a CSV file in a [GitHub repository](https://github.com/pcm-dpc/COVID-19/)\n",
    "* You also find a local copy downloaded on 26/01/2021 in our wiki (follow the link dataset from the right-menu)\n",
    "\n",
    "Let's read one such _remote_ CSV file into a DataFrame\n",
    "* __You just need 1 instruction__"
   ]
  },
  {
   "cell_type": "code",
   "execution_count": 54,
   "metadata": {},
   "outputs": [],
   "source": [
    "#Load delimited data from a file, URL, or file-like object. Use comma as default delimiter\n",
    "covid_data = pd.read_csv('https://raw.githubusercontent.com/pcm-dpc/COVID-19/master/dati-andamento-nazionale/dpc-covid19-ita-andamento-nazionale.csv')"
   ]
  },
  {
   "cell_type": "code",
   "execution_count": 55,
   "metadata": {},
   "outputs": [
    {
     "data": {
      "text/html": [
       "<div>\n",
       "<style scoped>\n",
       "    .dataframe tbody tr th:only-of-type {\n",
       "        vertical-align: middle;\n",
       "    }\n",
       "\n",
       "    .dataframe tbody tr th {\n",
       "        vertical-align: top;\n",
       "    }\n",
       "\n",
       "    .dataframe thead th {\n",
       "        text-align: right;\n",
       "    }\n",
       "</style>\n",
       "<table border=\"1\" class=\"dataframe\">\n",
       "  <thead>\n",
       "    <tr style=\"text-align: right;\">\n",
       "      <th></th>\n",
       "      <th>data</th>\n",
       "      <th>stato</th>\n",
       "      <th>ricoverati_con_sintomi</th>\n",
       "      <th>terapia_intensiva</th>\n",
       "      <th>totale_ospedalizzati</th>\n",
       "      <th>isolamento_domiciliare</th>\n",
       "      <th>totale_positivi</th>\n",
       "      <th>variazione_totale_positivi</th>\n",
       "      <th>nuovi_positivi</th>\n",
       "      <th>dimessi_guariti</th>\n",
       "      <th>...</th>\n",
       "      <th>tamponi</th>\n",
       "      <th>casi_testati</th>\n",
       "      <th>note</th>\n",
       "      <th>ingressi_terapia_intensiva</th>\n",
       "      <th>note_test</th>\n",
       "      <th>note_casi</th>\n",
       "      <th>totale_positivi_test_molecolare</th>\n",
       "      <th>totale_positivi_test_antigenico_rapido</th>\n",
       "      <th>tamponi_test_molecolare</th>\n",
       "      <th>tamponi_test_antigenico_rapido</th>\n",
       "    </tr>\n",
       "  </thead>\n",
       "  <tbody>\n",
       "    <tr>\n",
       "      <th>0</th>\n",
       "      <td>2020-02-24T18:00:00</td>\n",
       "      <td>ITA</td>\n",
       "      <td>101</td>\n",
       "      <td>26</td>\n",
       "      <td>127</td>\n",
       "      <td>94</td>\n",
       "      <td>221</td>\n",
       "      <td>0</td>\n",
       "      <td>221</td>\n",
       "      <td>1</td>\n",
       "      <td>...</td>\n",
       "      <td>4324</td>\n",
       "      <td>NaN</td>\n",
       "      <td>NaN</td>\n",
       "      <td>NaN</td>\n",
       "      <td>NaN</td>\n",
       "      <td>NaN</td>\n",
       "      <td>NaN</td>\n",
       "      <td>NaN</td>\n",
       "      <td>NaN</td>\n",
       "      <td>NaN</td>\n",
       "    </tr>\n",
       "    <tr>\n",
       "      <th>1</th>\n",
       "      <td>2020-02-25T18:00:00</td>\n",
       "      <td>ITA</td>\n",
       "      <td>114</td>\n",
       "      <td>35</td>\n",
       "      <td>150</td>\n",
       "      <td>162</td>\n",
       "      <td>311</td>\n",
       "      <td>90</td>\n",
       "      <td>93</td>\n",
       "      <td>1</td>\n",
       "      <td>...</td>\n",
       "      <td>8623</td>\n",
       "      <td>NaN</td>\n",
       "      <td>NaN</td>\n",
       "      <td>NaN</td>\n",
       "      <td>NaN</td>\n",
       "      <td>NaN</td>\n",
       "      <td>NaN</td>\n",
       "      <td>NaN</td>\n",
       "      <td>NaN</td>\n",
       "      <td>NaN</td>\n",
       "    </tr>\n",
       "    <tr>\n",
       "      <th>2</th>\n",
       "      <td>2020-02-26T18:00:00</td>\n",
       "      <td>ITA</td>\n",
       "      <td>128</td>\n",
       "      <td>36</td>\n",
       "      <td>164</td>\n",
       "      <td>221</td>\n",
       "      <td>385</td>\n",
       "      <td>74</td>\n",
       "      <td>78</td>\n",
       "      <td>3</td>\n",
       "      <td>...</td>\n",
       "      <td>9587</td>\n",
       "      <td>NaN</td>\n",
       "      <td>NaN</td>\n",
       "      <td>NaN</td>\n",
       "      <td>NaN</td>\n",
       "      <td>NaN</td>\n",
       "      <td>NaN</td>\n",
       "      <td>NaN</td>\n",
       "      <td>NaN</td>\n",
       "      <td>NaN</td>\n",
       "    </tr>\n",
       "    <tr>\n",
       "      <th>3</th>\n",
       "      <td>2020-02-27T18:00:00</td>\n",
       "      <td>ITA</td>\n",
       "      <td>248</td>\n",
       "      <td>56</td>\n",
       "      <td>304</td>\n",
       "      <td>284</td>\n",
       "      <td>588</td>\n",
       "      <td>203</td>\n",
       "      <td>250</td>\n",
       "      <td>45</td>\n",
       "      <td>...</td>\n",
       "      <td>12014</td>\n",
       "      <td>NaN</td>\n",
       "      <td>NaN</td>\n",
       "      <td>NaN</td>\n",
       "      <td>NaN</td>\n",
       "      <td>NaN</td>\n",
       "      <td>NaN</td>\n",
       "      <td>NaN</td>\n",
       "      <td>NaN</td>\n",
       "      <td>NaN</td>\n",
       "    </tr>\n",
       "    <tr>\n",
       "      <th>4</th>\n",
       "      <td>2020-02-28T18:00:00</td>\n",
       "      <td>ITA</td>\n",
       "      <td>345</td>\n",
       "      <td>64</td>\n",
       "      <td>409</td>\n",
       "      <td>412</td>\n",
       "      <td>821</td>\n",
       "      <td>233</td>\n",
       "      <td>238</td>\n",
       "      <td>46</td>\n",
       "      <td>...</td>\n",
       "      <td>15695</td>\n",
       "      <td>NaN</td>\n",
       "      <td>NaN</td>\n",
       "      <td>NaN</td>\n",
       "      <td>NaN</td>\n",
       "      <td>NaN</td>\n",
       "      <td>NaN</td>\n",
       "      <td>NaN</td>\n",
       "      <td>NaN</td>\n",
       "      <td>NaN</td>\n",
       "    </tr>\n",
       "  </tbody>\n",
       "</table>\n",
       "<p>5 rows × 24 columns</p>\n",
       "</div>"
      ],
      "text/plain": [
       "                  data stato  ricoverati_con_sintomi  terapia_intensiva  \\\n",
       "0  2020-02-24T18:00:00   ITA                     101                 26   \n",
       "1  2020-02-25T18:00:00   ITA                     114                 35   \n",
       "2  2020-02-26T18:00:00   ITA                     128                 36   \n",
       "3  2020-02-27T18:00:00   ITA                     248                 56   \n",
       "4  2020-02-28T18:00:00   ITA                     345                 64   \n",
       "\n",
       "   totale_ospedalizzati  isolamento_domiciliare  totale_positivi  \\\n",
       "0                   127                      94              221   \n",
       "1                   150                     162              311   \n",
       "2                   164                     221              385   \n",
       "3                   304                     284              588   \n",
       "4                   409                     412              821   \n",
       "\n",
       "   variazione_totale_positivi  nuovi_positivi  dimessi_guariti  ...  tamponi  \\\n",
       "0                           0             221                1  ...     4324   \n",
       "1                          90              93                1  ...     8623   \n",
       "2                          74              78                3  ...     9587   \n",
       "3                         203             250               45  ...    12014   \n",
       "4                         233             238               46  ...    15695   \n",
       "\n",
       "   casi_testati  note  ingressi_terapia_intensiva  note_test  note_casi  \\\n",
       "0           NaN   NaN                         NaN        NaN        NaN   \n",
       "1           NaN   NaN                         NaN        NaN        NaN   \n",
       "2           NaN   NaN                         NaN        NaN        NaN   \n",
       "3           NaN   NaN                         NaN        NaN        NaN   \n",
       "4           NaN   NaN                         NaN        NaN        NaN   \n",
       "\n",
       "  totale_positivi_test_molecolare  totale_positivi_test_antigenico_rapido  \\\n",
       "0                             NaN                                     NaN   \n",
       "1                             NaN                                     NaN   \n",
       "2                             NaN                                     NaN   \n",
       "3                             NaN                                     NaN   \n",
       "4                             NaN                                     NaN   \n",
       "\n",
       "   tamponi_test_molecolare  tamponi_test_antigenico_rapido  \n",
       "0                      NaN                             NaN  \n",
       "1                      NaN                             NaN  \n",
       "2                      NaN                             NaN  \n",
       "3                      NaN                             NaN  \n",
       "4                      NaN                             NaN  \n",
       "\n",
       "[5 rows x 24 columns]"
      ]
     },
     "execution_count": 55,
     "metadata": {},
     "output_type": "execute_result"
    }
   ],
   "source": [
    "covid_data.head()"
   ]
  },
  {
   "cell_type": "code",
   "execution_count": 56,
   "metadata": {},
   "outputs": [
    {
     "data": {
      "text/html": [
       "<div>\n",
       "<style scoped>\n",
       "    .dataframe tbody tr th:only-of-type {\n",
       "        vertical-align: middle;\n",
       "    }\n",
       "\n",
       "    .dataframe tbody tr th {\n",
       "        vertical-align: top;\n",
       "    }\n",
       "\n",
       "    .dataframe thead th {\n",
       "        text-align: right;\n",
       "    }\n",
       "</style>\n",
       "<table border=\"1\" class=\"dataframe\">\n",
       "  <thead>\n",
       "    <tr style=\"text-align: right;\">\n",
       "      <th></th>\n",
       "      <th>data</th>\n",
       "      <th>stato</th>\n",
       "      <th>ricoverati_con_sintomi</th>\n",
       "      <th>terapia_intensiva</th>\n",
       "      <th>totale_ospedalizzati</th>\n",
       "      <th>isolamento_domiciliare</th>\n",
       "      <th>totale_positivi</th>\n",
       "      <th>variazione_totale_positivi</th>\n",
       "      <th>nuovi_positivi</th>\n",
       "      <th>dimessi_guariti</th>\n",
       "      <th>...</th>\n",
       "      <th>tamponi</th>\n",
       "      <th>casi_testati</th>\n",
       "      <th>note</th>\n",
       "      <th>ingressi_terapia_intensiva</th>\n",
       "      <th>note_test</th>\n",
       "      <th>note_casi</th>\n",
       "      <th>totale_positivi_test_molecolare</th>\n",
       "      <th>totale_positivi_test_antigenico_rapido</th>\n",
       "      <th>tamponi_test_molecolare</th>\n",
       "      <th>tamponi_test_antigenico_rapido</th>\n",
       "    </tr>\n",
       "  </thead>\n",
       "  <tbody>\n",
       "    <tr>\n",
       "      <th>418</th>\n",
       "      <td>2021-04-17T17:00:00</td>\n",
       "      <td>ITA</td>\n",
       "      <td>24100</td>\n",
       "      <td>3340</td>\n",
       "      <td>27440</td>\n",
       "      <td>477868</td>\n",
       "      <td>505308</td>\n",
       "      <td>-1430</td>\n",
       "      <td>15370</td>\n",
       "      <td>3235459</td>\n",
       "      <td>...</td>\n",
       "      <td>54864328</td>\n",
       "      <td>24464082.0</td>\n",
       "      <td>NaN</td>\n",
       "      <td>163.0</td>\n",
       "      <td>NaN</td>\n",
       "      <td>NaN</td>\n",
       "      <td>3728414.0</td>\n",
       "      <td>129029.0</td>\n",
       "      <td>43098914.0</td>\n",
       "      <td>11765414.0</td>\n",
       "    </tr>\n",
       "    <tr>\n",
       "      <th>419</th>\n",
       "      <td>2021-04-18T17:00:00</td>\n",
       "      <td>ITA</td>\n",
       "      <td>23648</td>\n",
       "      <td>3311</td>\n",
       "      <td>26959</td>\n",
       "      <td>477652</td>\n",
       "      <td>504611</td>\n",
       "      <td>-697</td>\n",
       "      <td>12694</td>\n",
       "      <td>3248593</td>\n",
       "      <td>...</td>\n",
       "      <td>55094444</td>\n",
       "      <td>24545390.0</td>\n",
       "      <td>NaN</td>\n",
       "      <td>163.0</td>\n",
       "      <td>NaN</td>\n",
       "      <td>NaN</td>\n",
       "      <td>3740609.0</td>\n",
       "      <td>129522.0</td>\n",
       "      <td>43245505.0</td>\n",
       "      <td>11848939.0</td>\n",
       "    </tr>\n",
       "    <tr>\n",
       "      <th>420</th>\n",
       "      <td>2021-04-19T17:00:00</td>\n",
       "      <td>ITA</td>\n",
       "      <td>23742</td>\n",
       "      <td>3244</td>\n",
       "      <td>26986</td>\n",
       "      <td>466503</td>\n",
       "      <td>493489</td>\n",
       "      <td>-11122</td>\n",
       "      <td>8864</td>\n",
       "      <td>3268262</td>\n",
       "      <td>...</td>\n",
       "      <td>55241172</td>\n",
       "      <td>24596625.0</td>\n",
       "      <td>NaN</td>\n",
       "      <td>141.0</td>\n",
       "      <td>NaN</td>\n",
       "      <td>NaN</td>\n",
       "      <td>3749244.0</td>\n",
       "      <td>129750.0</td>\n",
       "      <td>43335684.0</td>\n",
       "      <td>11905488.0</td>\n",
       "    </tr>\n",
       "    <tr>\n",
       "      <th>421</th>\n",
       "      <td>2021-04-20T17:00:00</td>\n",
       "      <td>ITA</td>\n",
       "      <td>23255</td>\n",
       "      <td>3151</td>\n",
       "      <td>26406</td>\n",
       "      <td>456309</td>\n",
       "      <td>482715</td>\n",
       "      <td>-10774</td>\n",
       "      <td>12074</td>\n",
       "      <td>3290715</td>\n",
       "      <td>...</td>\n",
       "      <td>55535217</td>\n",
       "      <td>24691595.0</td>\n",
       "      <td>NaN</td>\n",
       "      <td>182.0</td>\n",
       "      <td>NaN</td>\n",
       "      <td>NaN</td>\n",
       "      <td>3760237.0</td>\n",
       "      <td>130826.0</td>\n",
       "      <td>43485291.0</td>\n",
       "      <td>12049926.0</td>\n",
       "    </tr>\n",
       "    <tr>\n",
       "      <th>422</th>\n",
       "      <td>2021-04-21T17:00:00</td>\n",
       "      <td>ITA</td>\n",
       "      <td>22784</td>\n",
       "      <td>3076</td>\n",
       "      <td>25860</td>\n",
       "      <td>449775</td>\n",
       "      <td>475635</td>\n",
       "      <td>-7080</td>\n",
       "      <td>13844</td>\n",
       "      <td>3311267</td>\n",
       "      <td>...</td>\n",
       "      <td>55885251</td>\n",
       "      <td>24794274.0</td>\n",
       "      <td>NaN</td>\n",
       "      <td>155.0</td>\n",
       "      <td>NaN</td>\n",
       "      <td>NaN</td>\n",
       "      <td>3772885.0</td>\n",
       "      <td>132014.0</td>\n",
       "      <td>43673704.0</td>\n",
       "      <td>12211547.0</td>\n",
       "    </tr>\n",
       "  </tbody>\n",
       "</table>\n",
       "<p>5 rows × 24 columns</p>\n",
       "</div>"
      ],
      "text/plain": [
       "                    data stato  ricoverati_con_sintomi  terapia_intensiva  \\\n",
       "418  2021-04-17T17:00:00   ITA                   24100               3340   \n",
       "419  2021-04-18T17:00:00   ITA                   23648               3311   \n",
       "420  2021-04-19T17:00:00   ITA                   23742               3244   \n",
       "421  2021-04-20T17:00:00   ITA                   23255               3151   \n",
       "422  2021-04-21T17:00:00   ITA                   22784               3076   \n",
       "\n",
       "     totale_ospedalizzati  isolamento_domiciliare  totale_positivi  \\\n",
       "418                 27440                  477868           505308   \n",
       "419                 26959                  477652           504611   \n",
       "420                 26986                  466503           493489   \n",
       "421                 26406                  456309           482715   \n",
       "422                 25860                  449775           475635   \n",
       "\n",
       "     variazione_totale_positivi  nuovi_positivi  dimessi_guariti  ...  \\\n",
       "418                       -1430           15370          3235459  ...   \n",
       "419                        -697           12694          3248593  ...   \n",
       "420                      -11122            8864          3268262  ...   \n",
       "421                      -10774           12074          3290715  ...   \n",
       "422                       -7080           13844          3311267  ...   \n",
       "\n",
       "      tamponi  casi_testati  note  ingressi_terapia_intensiva  note_test  \\\n",
       "418  54864328    24464082.0   NaN                       163.0        NaN   \n",
       "419  55094444    24545390.0   NaN                       163.0        NaN   \n",
       "420  55241172    24596625.0   NaN                       141.0        NaN   \n",
       "421  55535217    24691595.0   NaN                       182.0        NaN   \n",
       "422  55885251    24794274.0   NaN                       155.0        NaN   \n",
       "\n",
       "     note_casi totale_positivi_test_molecolare  \\\n",
       "418        NaN                       3728414.0   \n",
       "419        NaN                       3740609.0   \n",
       "420        NaN                       3749244.0   \n",
       "421        NaN                       3760237.0   \n",
       "422        NaN                       3772885.0   \n",
       "\n",
       "     totale_positivi_test_antigenico_rapido  tamponi_test_molecolare  \\\n",
       "418                                129029.0               43098914.0   \n",
       "419                                129522.0               43245505.0   \n",
       "420                                129750.0               43335684.0   \n",
       "421                                130826.0               43485291.0   \n",
       "422                                132014.0               43673704.0   \n",
       "\n",
       "     tamponi_test_antigenico_rapido  \n",
       "418                      11765414.0  \n",
       "419                      11848939.0  \n",
       "420                      11905488.0  \n",
       "421                      12049926.0  \n",
       "422                      12211547.0  \n",
       "\n",
       "[5 rows x 24 columns]"
      ]
     },
     "execution_count": 56,
     "metadata": {},
     "output_type": "execute_result"
    }
   ],
   "source": [
    "covid_data.tail()"
   ]
  },
  {
   "cell_type": "code",
   "execution_count": 57,
   "metadata": {},
   "outputs": [
    {
     "name": "stdout",
     "output_type": "stream",
     "text": [
      "<class 'pandas.core.frame.DataFrame'>\n",
      "RangeIndex: 423 entries, 0 to 422\n",
      "Data columns (total 24 columns):\n",
      " #   Column                                  Non-Null Count  Dtype  \n",
      "---  ------                                  --------------  -----  \n",
      " 0   data                                    423 non-null    object \n",
      " 1   stato                                   423 non-null    object \n",
      " 2   ricoverati_con_sintomi                  423 non-null    int64  \n",
      " 3   terapia_intensiva                       423 non-null    int64  \n",
      " 4   totale_ospedalizzati                    423 non-null    int64  \n",
      " 5   isolamento_domiciliare                  423 non-null    int64  \n",
      " 6   totale_positivi                         423 non-null    int64  \n",
      " 7   variazione_totale_positivi              423 non-null    int64  \n",
      " 8   nuovi_positivi                          423 non-null    int64  \n",
      " 9   dimessi_guariti                         423 non-null    int64  \n",
      " 10  deceduti                                423 non-null    int64  \n",
      " 11  casi_da_sospetto_diagnostico            162 non-null    float64\n",
      " 12  casi_da_screening                       162 non-null    float64\n",
      " 13  totale_casi                             423 non-null    int64  \n",
      " 14  tamponi                                 423 non-null    int64  \n",
      " 15  casi_testati                            368 non-null    float64\n",
      " 16  note                                    44 non-null     object \n",
      " 17  ingressi_terapia_intensiva              140 non-null    float64\n",
      " 18  note_test                               0 non-null      float64\n",
      " 19  note_casi                               0 non-null      float64\n",
      " 20  totale_positivi_test_molecolare         97 non-null     float64\n",
      " 21  totale_positivi_test_antigenico_rapido  97 non-null     float64\n",
      " 22  tamponi_test_molecolare                 97 non-null     float64\n",
      " 23  tamponi_test_antigenico_rapido          97 non-null     float64\n",
      "dtypes: float64(10), int64(11), object(3)\n",
      "memory usage: 79.4+ KB\n"
     ]
    }
   ],
   "source": [
    "covid_data.info()"
   ]
  },
  {
   "cell_type": "code",
   "execution_count": 58,
   "metadata": {},
   "outputs": [
    {
     "data": {
      "text/plain": [
       "0      2020-02-24T18:00:00\n",
       "1      2020-02-25T18:00:00\n",
       "2      2020-02-26T18:00:00\n",
       "3      2020-02-27T18:00:00\n",
       "4      2020-02-28T18:00:00\n",
       "              ...         \n",
       "418    2021-04-17T17:00:00\n",
       "419    2021-04-18T17:00:00\n",
       "420    2021-04-19T17:00:00\n",
       "421    2021-04-20T17:00:00\n",
       "422    2021-04-21T17:00:00\n",
       "Name: data, Length: 423, dtype: object"
      ]
     },
     "execution_count": 58,
     "metadata": {},
     "output_type": "execute_result"
    }
   ],
   "source": [
    "covid_data['data']"
   ]
  },
  {
   "cell_type": "code",
   "execution_count": 59,
   "metadata": {},
   "outputs": [
    {
     "data": {
      "text/plain": [
       "0      2020-02-24T18:00:00\n",
       "1      2020-02-25T18:00:00\n",
       "2      2020-02-26T18:00:00\n",
       "3      2020-02-27T18:00:00\n",
       "4      2020-02-28T18:00:00\n",
       "              ...         \n",
       "418    2021-04-17T17:00:00\n",
       "419    2021-04-18T17:00:00\n",
       "420    2021-04-19T17:00:00\n",
       "421    2021-04-20T17:00:00\n",
       "422    2021-04-21T17:00:00\n",
       "Name: data, Length: 423, dtype: object"
      ]
     },
     "execution_count": 59,
     "metadata": {},
     "output_type": "execute_result"
    }
   ],
   "source": [
    "covid_data.data"
   ]
  },
  {
   "cell_type": "code",
   "execution_count": null,
   "metadata": {},
   "outputs": [],
   "source": [
    "covid_data.iloc[0]"
   ]
  },
  {
   "cell_type": "code",
   "execution_count": null,
   "metadata": {},
   "outputs": [],
   "source": [
    "covid_data.iloc[-1]"
   ]
  },
  {
   "cell_type": "code",
   "execution_count": 60,
   "metadata": {},
   "outputs": [
    {
     "data": {
      "text/plain": [
       "'2021-04-21T17:00:00'"
      ]
     },
     "execution_count": 60,
     "metadata": {},
     "output_type": "execute_result"
    }
   ],
   "source": [
    "#Get the last day in the CSV file\n",
    "last_day = covid_data['data'].iloc[-1]\n",
    "last_day"
   ]
  },
  {
   "cell_type": "markdown",
   "metadata": {},
   "source": [
    "Using DataFrame’s to_csv method, we can write the data out to a comma-separated file\n",
    "* Let's create a CSV file containing only the data about the latest day"
   ]
  },
  {
   "cell_type": "code",
   "execution_count": 62,
   "metadata": {},
   "outputs": [
    {
     "name": "stdout",
     "output_type": "stream",
     "text": [
      "0      False\n",
      "1      False\n",
      "2      False\n",
      "3      False\n",
      "4      False\n",
      "       ...  \n",
      "418    False\n",
      "419    False\n",
      "420    False\n",
      "421    False\n",
      "422     True\n",
      "Name: data, Length: 423, dtype: bool\n"
     ]
    },
    {
     "data": {
      "text/html": [
       "<div>\n",
       "<style scoped>\n",
       "    .dataframe tbody tr th:only-of-type {\n",
       "        vertical-align: middle;\n",
       "    }\n",
       "\n",
       "    .dataframe tbody tr th {\n",
       "        vertical-align: top;\n",
       "    }\n",
       "\n",
       "    .dataframe thead th {\n",
       "        text-align: right;\n",
       "    }\n",
       "</style>\n",
       "<table border=\"1\" class=\"dataframe\">\n",
       "  <thead>\n",
       "    <tr style=\"text-align: right;\">\n",
       "      <th></th>\n",
       "      <th>data</th>\n",
       "      <th>stato</th>\n",
       "      <th>ricoverati_con_sintomi</th>\n",
       "      <th>terapia_intensiva</th>\n",
       "      <th>totale_ospedalizzati</th>\n",
       "      <th>isolamento_domiciliare</th>\n",
       "      <th>totale_positivi</th>\n",
       "      <th>variazione_totale_positivi</th>\n",
       "      <th>nuovi_positivi</th>\n",
       "      <th>dimessi_guariti</th>\n",
       "      <th>...</th>\n",
       "      <th>tamponi</th>\n",
       "      <th>casi_testati</th>\n",
       "      <th>note</th>\n",
       "      <th>ingressi_terapia_intensiva</th>\n",
       "      <th>note_test</th>\n",
       "      <th>note_casi</th>\n",
       "      <th>totale_positivi_test_molecolare</th>\n",
       "      <th>totale_positivi_test_antigenico_rapido</th>\n",
       "      <th>tamponi_test_molecolare</th>\n",
       "      <th>tamponi_test_antigenico_rapido</th>\n",
       "    </tr>\n",
       "  </thead>\n",
       "  <tbody>\n",
       "    <tr>\n",
       "      <th>422</th>\n",
       "      <td>2021-04-21T17:00:00</td>\n",
       "      <td>ITA</td>\n",
       "      <td>22784</td>\n",
       "      <td>3076</td>\n",
       "      <td>25860</td>\n",
       "      <td>449775</td>\n",
       "      <td>475635</td>\n",
       "      <td>-7080</td>\n",
       "      <td>13844</td>\n",
       "      <td>3311267</td>\n",
       "      <td>...</td>\n",
       "      <td>55885251</td>\n",
       "      <td>24794274.0</td>\n",
       "      <td>NaN</td>\n",
       "      <td>155.0</td>\n",
       "      <td>NaN</td>\n",
       "      <td>NaN</td>\n",
       "      <td>3772885.0</td>\n",
       "      <td>132014.0</td>\n",
       "      <td>43673704.0</td>\n",
       "      <td>12211547.0</td>\n",
       "    </tr>\n",
       "  </tbody>\n",
       "</table>\n",
       "<p>1 rows × 24 columns</p>\n",
       "</div>"
      ],
      "text/plain": [
       "                    data stato  ricoverati_con_sintomi  terapia_intensiva  \\\n",
       "422  2021-04-21T17:00:00   ITA                   22784               3076   \n",
       "\n",
       "     totale_ospedalizzati  isolamento_domiciliare  totale_positivi  \\\n",
       "422                 25860                  449775           475635   \n",
       "\n",
       "     variazione_totale_positivi  nuovi_positivi  dimessi_guariti  ...  \\\n",
       "422                       -7080           13844          3311267  ...   \n",
       "\n",
       "      tamponi  casi_testati  note  ingressi_terapia_intensiva  note_test  \\\n",
       "422  55885251    24794274.0   NaN                       155.0        NaN   \n",
       "\n",
       "     note_casi totale_positivi_test_molecolare  \\\n",
       "422        NaN                       3772885.0   \n",
       "\n",
       "     totale_positivi_test_antigenico_rapido  tamponi_test_molecolare  \\\n",
       "422                                132014.0               43673704.0   \n",
       "\n",
       "     tamponi_test_antigenico_rapido  \n",
       "422                      12211547.0  \n",
       "\n",
       "[1 rows x 24 columns]"
      ]
     },
     "execution_count": 62,
     "metadata": {},
     "output_type": "execute_result"
    }
   ],
   "source": [
    "print(covid_data.data == last_day) # Evaluates to True for the rows that satisfy this guard\n",
    "cov_regions_last_day = covid_data[covid_data.data == last_day] # Get all the rows that satisfy the guard above\n",
    "cov_regions_last_day"
   ]
  },
  {
   "cell_type": "code",
   "execution_count": null,
   "metadata": {},
   "outputs": [],
   "source": [
    "cov_regions_last_day.to_csv('covid_lastday.csv')"
   ]
  },
  {
   "cell_type": "markdown",
   "metadata": {},
   "source": [
    "Or, more compactly"
   ]
  },
  {
   "cell_type": "code",
   "execution_count": null,
   "metadata": {},
   "outputs": [],
   "source": [
    "covid_data[covid_data.data == covid_data['data'].iloc[-1]].to_csv('covid_lastday_b.csv')"
   ]
  },
  {
   "cell_type": "code",
   "execution_count": 63,
   "metadata": {},
   "outputs": [],
   "source": [
    "covid_data[covid_data['ricoverati_con_sintomi'] > 10000].to_csv('covid_more_than_10k.csv')"
   ]
  },
  {
   "cell_type": "code",
   "execution_count": 64,
   "metadata": {},
   "outputs": [],
   "source": [
    "covid_data[covid_data['ricoverati_con_sintomi'] > 25000].to_csv('covid_more_than_25k.csv')"
   ]
  },
  {
   "cell_type": "markdown",
   "metadata": {
    "editable": true
   },
   "source": [
    "# Simple application to Yahoo! Finance stock prices - %change, correlation\n",
    "Let’s consider some DataFrames of stock prices obtained from\n",
    "Yahoo! Finance:"
   ]
  },
  {
   "cell_type": "code",
   "execution_count": 65,
   "metadata": {},
   "outputs": [],
   "source": [
    "# install Yahoo! Finance market data downloader for Pandas\n",
    "# import sys \n",
    "# !{sys.executable} -m pip install -U pandas_datareader #convenient package for accessing online data (mostly finance-related)\n",
    "# !{sys.executable} -m pip install matplotlib #'the' pyhton package for creating plots \n",
    "# !{sys.executable} -m pip install Jinja2 # Helps formatting strings with HTML and CSS.\n",
    "\n",
    "\n",
    "import pandas_datareader.data as web\n",
    "\n",
    "# Visualizzation libs\n",
    "#keeps the plots in one place. calls image as static pngs\n",
    "#%matplotlib inline \n",
    "import matplotlib.pyplot as plt #MATLAB-like plotting framework."
   ]
  },
  {
   "cell_type": "markdown",
   "metadata": {},
   "source": [
    "Do you know dictionary comprehensions?"
   ]
  },
  {
   "cell_type": "code",
   "execution_count": 66,
   "metadata": {
    "editable": true
   },
   "outputs": [
    {
     "data": {
      "text/html": [
       "<div>\n",
       "<style scoped>\n",
       "    .dataframe tbody tr th:only-of-type {\n",
       "        vertical-align: middle;\n",
       "    }\n",
       "\n",
       "    .dataframe tbody tr th {\n",
       "        vertical-align: top;\n",
       "    }\n",
       "\n",
       "    .dataframe thead th {\n",
       "        text-align: right;\n",
       "    }\n",
       "</style>\n",
       "<table border=\"1\" class=\"dataframe\">\n",
       "  <thead>\n",
       "    <tr style=\"text-align: right;\">\n",
       "      <th></th>\n",
       "      <th>High</th>\n",
       "      <th>Low</th>\n",
       "      <th>Open</th>\n",
       "      <th>Close</th>\n",
       "      <th>Volume</th>\n",
       "      <th>Adj Close</th>\n",
       "    </tr>\n",
       "    <tr>\n",
       "      <th>Date</th>\n",
       "      <th></th>\n",
       "      <th></th>\n",
       "      <th></th>\n",
       "      <th></th>\n",
       "      <th></th>\n",
       "      <th></th>\n",
       "    </tr>\n",
       "  </thead>\n",
       "  <tbody>\n",
       "    <tr>\n",
       "      <th>2016-04-25</th>\n",
       "      <td>26.412500</td>\n",
       "      <td>26.127501</td>\n",
       "      <td>26.250000</td>\n",
       "      <td>26.270000</td>\n",
       "      <td>112126400.0</td>\n",
       "      <td>24.433960</td>\n",
       "    </tr>\n",
       "    <tr>\n",
       "      <th>2016-04-26</th>\n",
       "      <td>26.325001</td>\n",
       "      <td>25.977501</td>\n",
       "      <td>25.977501</td>\n",
       "      <td>26.087500</td>\n",
       "      <td>224064800.0</td>\n",
       "      <td>24.264212</td>\n",
       "    </tr>\n",
       "    <tr>\n",
       "      <th>2016-04-27</th>\n",
       "      <td>24.677500</td>\n",
       "      <td>23.920000</td>\n",
       "      <td>24.000000</td>\n",
       "      <td>24.455000</td>\n",
       "      <td>458408400.0</td>\n",
       "      <td>22.745811</td>\n",
       "    </tr>\n",
       "    <tr>\n",
       "      <th>2016-04-28</th>\n",
       "      <td>24.469999</td>\n",
       "      <td>23.562500</td>\n",
       "      <td>24.402500</td>\n",
       "      <td>23.707500</td>\n",
       "      <td>328970800.0</td>\n",
       "      <td>22.050558</td>\n",
       "    </tr>\n",
       "    <tr>\n",
       "      <th>2016-04-29</th>\n",
       "      <td>23.680000</td>\n",
       "      <td>23.127501</td>\n",
       "      <td>23.497499</td>\n",
       "      <td>23.434999</td>\n",
       "      <td>274126000.0</td>\n",
       "      <td>21.797100</td>\n",
       "    </tr>\n",
       "    <tr>\n",
       "      <th>...</th>\n",
       "      <td>...</td>\n",
       "      <td>...</td>\n",
       "      <td>...</td>\n",
       "      <td>...</td>\n",
       "      <td>...</td>\n",
       "      <td>...</td>\n",
       "    </tr>\n",
       "    <tr>\n",
       "      <th>2021-04-16</th>\n",
       "      <td>134.669998</td>\n",
       "      <td>133.279999</td>\n",
       "      <td>134.300003</td>\n",
       "      <td>134.160004</td>\n",
       "      <td>84818500.0</td>\n",
       "      <td>134.160004</td>\n",
       "    </tr>\n",
       "    <tr>\n",
       "      <th>2021-04-19</th>\n",
       "      <td>135.470001</td>\n",
       "      <td>133.339996</td>\n",
       "      <td>133.509995</td>\n",
       "      <td>134.839996</td>\n",
       "      <td>94264200.0</td>\n",
       "      <td>134.839996</td>\n",
       "    </tr>\n",
       "    <tr>\n",
       "      <th>2021-04-20</th>\n",
       "      <td>135.529999</td>\n",
       "      <td>131.809998</td>\n",
       "      <td>135.020004</td>\n",
       "      <td>133.110001</td>\n",
       "      <td>94812300.0</td>\n",
       "      <td>133.110001</td>\n",
       "    </tr>\n",
       "    <tr>\n",
       "      <th>2021-04-21</th>\n",
       "      <td>133.750000</td>\n",
       "      <td>131.300003</td>\n",
       "      <td>132.360001</td>\n",
       "      <td>133.500000</td>\n",
       "      <td>68728500.0</td>\n",
       "      <td>133.500000</td>\n",
       "    </tr>\n",
       "    <tr>\n",
       "      <th>2021-04-22</th>\n",
       "      <td>134.149994</td>\n",
       "      <td>132.600006</td>\n",
       "      <td>133.039993</td>\n",
       "      <td>133.970001</td>\n",
       "      <td>21646070.0</td>\n",
       "      <td>133.970001</td>\n",
       "    </tr>\n",
       "  </tbody>\n",
       "</table>\n",
       "<p>1258 rows × 6 columns</p>\n",
       "</div>"
      ],
      "text/plain": [
       "                  High         Low        Open       Close       Volume  \\\n",
       "Date                                                                      \n",
       "2016-04-25   26.412500   26.127501   26.250000   26.270000  112126400.0   \n",
       "2016-04-26   26.325001   25.977501   25.977501   26.087500  224064800.0   \n",
       "2016-04-27   24.677500   23.920000   24.000000   24.455000  458408400.0   \n",
       "2016-04-28   24.469999   23.562500   24.402500   23.707500  328970800.0   \n",
       "2016-04-29   23.680000   23.127501   23.497499   23.434999  274126000.0   \n",
       "...                ...         ...         ...         ...          ...   \n",
       "2021-04-16  134.669998  133.279999  134.300003  134.160004   84818500.0   \n",
       "2021-04-19  135.470001  133.339996  133.509995  134.839996   94264200.0   \n",
       "2021-04-20  135.529999  131.809998  135.020004  133.110001   94812300.0   \n",
       "2021-04-21  133.750000  131.300003  132.360001  133.500000   68728500.0   \n",
       "2021-04-22  134.149994  132.600006  133.039993  133.970001   21646070.0   \n",
       "\n",
       "             Adj Close  \n",
       "Date                    \n",
       "2016-04-25   24.433960  \n",
       "2016-04-26   24.264212  \n",
       "2016-04-27   22.745811  \n",
       "2016-04-28   22.050558  \n",
       "2016-04-29   21.797100  \n",
       "...                ...  \n",
       "2021-04-16  134.160004  \n",
       "2021-04-19  134.839996  \n",
       "2021-04-20  133.110001  \n",
       "2021-04-21  133.500000  \n",
       "2021-04-22  133.970001  \n",
       "\n",
       "[1258 rows x 6 columns]"
      ]
     },
     "execution_count": 66,
     "metadata": {},
     "output_type": "execute_result"
    }
   ],
   "source": [
    "all_data = {ticker: web.get_data_yahoo(ticker)\n",
    "            for ticker in ['AAPL', 'IBM', 'MSFT', 'GOOG']}\n",
    "all_data['AAPL']"
   ]
  },
  {
   "cell_type": "markdown",
   "metadata": {},
   "source": [
    "Let us collect only the [_adjusted stock price_](https://www.investopedia.com/terms/a/adjusted_closing_price.asp) for each company"
   ]
  },
  {
   "cell_type": "code",
   "execution_count": 67,
   "metadata": {},
   "outputs": [
    {
     "data": {
      "text/html": [
       "<div>\n",
       "<style scoped>\n",
       "    .dataframe tbody tr th:only-of-type {\n",
       "        vertical-align: middle;\n",
       "    }\n",
       "\n",
       "    .dataframe tbody tr th {\n",
       "        vertical-align: top;\n",
       "    }\n",
       "\n",
       "    .dataframe thead th {\n",
       "        text-align: right;\n",
       "    }\n",
       "</style>\n",
       "<table border=\"1\" class=\"dataframe\">\n",
       "  <thead>\n",
       "    <tr style=\"text-align: right;\">\n",
       "      <th></th>\n",
       "      <th>AAPL</th>\n",
       "      <th>IBM</th>\n",
       "      <th>MSFT</th>\n",
       "      <th>GOOG</th>\n",
       "    </tr>\n",
       "    <tr>\n",
       "      <th>Date</th>\n",
       "      <th></th>\n",
       "      <th></th>\n",
       "      <th></th>\n",
       "      <th></th>\n",
       "    </tr>\n",
       "  </thead>\n",
       "  <tbody>\n",
       "    <tr>\n",
       "      <th>2016-04-25</th>\n",
       "      <td>24.433960</td>\n",
       "      <td>119.331589</td>\n",
       "      <td>47.783394</td>\n",
       "      <td>723.150024</td>\n",
       "    </tr>\n",
       "    <tr>\n",
       "      <th>2016-04-26</th>\n",
       "      <td>24.264212</td>\n",
       "      <td>119.548088</td>\n",
       "      <td>47.169029</td>\n",
       "      <td>708.140015</td>\n",
       "    </tr>\n",
       "    <tr>\n",
       "      <th>2016-04-27</th>\n",
       "      <td>22.745811</td>\n",
       "      <td>120.662750</td>\n",
       "      <td>46.710537</td>\n",
       "      <td>705.840027</td>\n",
       "    </tr>\n",
       "    <tr>\n",
       "      <th>2016-04-28</th>\n",
       "      <td>22.050558</td>\n",
       "      <td>117.936295</td>\n",
       "      <td>45.756889</td>\n",
       "      <td>691.020020</td>\n",
       "    </tr>\n",
       "    <tr>\n",
       "      <th>2016-04-29</th>\n",
       "      <td>21.797100</td>\n",
       "      <td>117.030098</td>\n",
       "      <td>45.729378</td>\n",
       "      <td>693.010010</td>\n",
       "    </tr>\n",
       "  </tbody>\n",
       "</table>\n",
       "</div>"
      ],
      "text/plain": [
       "                 AAPL         IBM       MSFT        GOOG\n",
       "Date                                                    \n",
       "2016-04-25  24.433960  119.331589  47.783394  723.150024\n",
       "2016-04-26  24.264212  119.548088  47.169029  708.140015\n",
       "2016-04-27  22.745811  120.662750  46.710537  705.840027\n",
       "2016-04-28  22.050558  117.936295  45.756889  691.020020\n",
       "2016-04-29  21.797100  117.030098  45.729378  693.010010"
      ]
     },
     "execution_count": 67,
     "metadata": {},
     "output_type": "execute_result"
    }
   ],
   "source": [
    "price = pd.DataFrame({ticker: data['Adj Close'] for ticker, data in all_data.items()})\n",
    "price.head()"
   ]
  },
  {
   "cell_type": "code",
   "execution_count": null,
   "metadata": {},
   "outputs": [],
   "source": [
    "price.tail()"
   ]
  },
  {
   "cell_type": "markdown",
   "metadata": {},
   "source": [
    "Now, creating a simple plot of the dataframe takes only 1 line"
   ]
  },
  {
   "cell_type": "code",
   "execution_count": 68,
   "metadata": {},
   "outputs": [
    {
     "data": {
      "text/plain": [
       "<AxesSubplot:xlabel='Date'>"
      ]
     },
     "execution_count": 68,
     "metadata": {},
     "output_type": "execute_result"
    },
    {
     "data": {
      "image/png": "[encoded data removed]",
      "text/plain": [
       "<Figure size 1080x360 with 1 Axes>"
      ]
     },
     "metadata": {
      "needs_background": "light"
     },
     "output_type": "display_data"
    }
   ],
   "source": [
    "# plotting price dataframe. \n",
    "price.plot(figsize=(15,5))"
   ]
  },
  {
   "cell_type": "markdown",
   "metadata": {},
   "source": [
    "In stock-markets, often one is interested in the _percent changes of the prices_\n",
    "* % change from previous value\n",
    "\n",
    "Let us compute it\n",
    "- Actually, __let us ask Pandas to compute it__ for us!\n",
    "- Method `pct_change()` does precisely this\n",
    "  - Computes the percentage change from the immediately previous row by default. \n",
    "  - This is useful in comparing the percentage of change in a time series of elements."
   ]
  },
  {
   "cell_type": "code",
   "execution_count": 69,
   "metadata": {
    "collapsed": false,
    "editable": true,
    "jupyter": {
     "outputs_hidden": false
    }
   },
   "outputs": [
    {
     "data": {
      "text/html": [
       "<div>\n",
       "<style scoped>\n",
       "    .dataframe tbody tr th:only-of-type {\n",
       "        vertical-align: middle;\n",
       "    }\n",
       "\n",
       "    .dataframe tbody tr th {\n",
       "        vertical-align: top;\n",
       "    }\n",
       "\n",
       "    .dataframe thead th {\n",
       "        text-align: right;\n",
       "    }\n",
       "</style>\n",
       "<table border=\"1\" class=\"dataframe\">\n",
       "  <thead>\n",
       "    <tr style=\"text-align: right;\">\n",
       "      <th></th>\n",
       "      <th>AAPL</th>\n",
       "      <th>IBM</th>\n",
       "      <th>MSFT</th>\n",
       "      <th>GOOG</th>\n",
       "    </tr>\n",
       "    <tr>\n",
       "      <th>Date</th>\n",
       "      <th></th>\n",
       "      <th></th>\n",
       "      <th></th>\n",
       "      <th></th>\n",
       "    </tr>\n",
       "  </thead>\n",
       "  <tbody>\n",
       "    <tr>\n",
       "      <th>2021-04-16</th>\n",
       "      <td>-0.002528</td>\n",
       "      <td>0.007618</td>\n",
       "      <td>0.004778</td>\n",
       "      <td>0.000479</td>\n",
       "    </tr>\n",
       "    <tr>\n",
       "      <th>2021-04-19</th>\n",
       "      <td>0.005069</td>\n",
       "      <td>-0.003518</td>\n",
       "      <td>-0.007670</td>\n",
       "      <td>0.002019</td>\n",
       "    </tr>\n",
       "    <tr>\n",
       "      <th>2021-04-20</th>\n",
       "      <td>-0.012830</td>\n",
       "      <td>0.037861</td>\n",
       "      <td>-0.001855</td>\n",
       "      <td>-0.003809</td>\n",
       "    </tr>\n",
       "    <tr>\n",
       "      <th>2021-04-21</th>\n",
       "      <td>0.002930</td>\n",
       "      <td>0.039013</td>\n",
       "      <td>0.008983</td>\n",
       "      <td>-0.000148</td>\n",
       "    </tr>\n",
       "    <tr>\n",
       "      <th>2021-04-22</th>\n",
       "      <td>0.003521</td>\n",
       "      <td>-0.007614</td>\n",
       "      <td>0.002801</td>\n",
       "      <td>0.002265</td>\n",
       "    </tr>\n",
       "  </tbody>\n",
       "</table>\n",
       "</div>"
      ],
      "text/plain": [
       "                AAPL       IBM      MSFT      GOOG\n",
       "Date                                              \n",
       "2021-04-16 -0.002528  0.007618  0.004778  0.000479\n",
       "2021-04-19  0.005069 -0.003518 -0.007670  0.002019\n",
       "2021-04-20 -0.012830  0.037861 -0.001855 -0.003809\n",
       "2021-04-21  0.002930  0.039013  0.008983 -0.000148\n",
       "2021-04-22  0.003521 -0.007614  0.002801  0.002265"
      ]
     },
     "execution_count": 69,
     "metadata": {},
     "output_type": "execute_result"
    }
   ],
   "source": [
    "returns = price.pct_change() \n",
    "returns.tail()"
   ]
  },
  {
   "cell_type": "code",
   "execution_count": 70,
   "metadata": {},
   "outputs": [
    {
     "data": {
      "text/plain": [
       "<AxesSubplot:xlabel='Date'>"
      ]
     },
     "execution_count": 70,
     "metadata": {},
     "output_type": "execute_result"
    },
    {
     "data": {
      "image/png": "[encoded data removed]",
      "text/plain": [
       "<Figure size 1080x360 with 1 Axes>"
      ]
     },
     "metadata": {
      "needs_background": "light"
     },
     "output_type": "display_data"
    }
   ],
   "source": [
    "returns.plot(figsize=(15,5))"
   ]
  },
  {
   "cell_type": "markdown",
   "metadata": {},
   "source": [
    "Can I smooth the data using moving averages/window averages?"
   ]
  },
  {
   "cell_type": "code",
   "execution_count": 71,
   "metadata": {},
   "outputs": [
    {
     "data": {
      "text/html": [
       "<div>\n",
       "<style scoped>\n",
       "    .dataframe tbody tr th:only-of-type {\n",
       "        vertical-align: middle;\n",
       "    }\n",
       "\n",
       "    .dataframe tbody tr th {\n",
       "        vertical-align: top;\n",
       "    }\n",
       "\n",
       "    .dataframe thead th {\n",
       "        text-align: right;\n",
       "    }\n",
       "</style>\n",
       "<table border=\"1\" class=\"dataframe\">\n",
       "  <thead>\n",
       "    <tr style=\"text-align: right;\">\n",
       "      <th></th>\n",
       "      <th>AAPL</th>\n",
       "      <th>IBM</th>\n",
       "      <th>MSFT</th>\n",
       "      <th>GOOG</th>\n",
       "    </tr>\n",
       "    <tr>\n",
       "      <th>Date</th>\n",
       "      <th></th>\n",
       "      <th></th>\n",
       "      <th></th>\n",
       "      <th></th>\n",
       "    </tr>\n",
       "  </thead>\n",
       "  <tbody>\n",
       "    <tr>\n",
       "      <th>2016-04-25</th>\n",
       "      <td>NaN</td>\n",
       "      <td>NaN</td>\n",
       "      <td>NaN</td>\n",
       "      <td>NaN</td>\n",
       "    </tr>\n",
       "    <tr>\n",
       "      <th>2016-04-26</th>\n",
       "      <td>NaN</td>\n",
       "      <td>NaN</td>\n",
       "      <td>NaN</td>\n",
       "      <td>NaN</td>\n",
       "    </tr>\n",
       "    <tr>\n",
       "      <th>2016-04-27</th>\n",
       "      <td>NaN</td>\n",
       "      <td>NaN</td>\n",
       "      <td>NaN</td>\n",
       "      <td>NaN</td>\n",
       "    </tr>\n",
       "    <tr>\n",
       "      <th>2016-04-28</th>\n",
       "      <td>NaN</td>\n",
       "      <td>NaN</td>\n",
       "      <td>NaN</td>\n",
       "      <td>NaN</td>\n",
       "    </tr>\n",
       "    <tr>\n",
       "      <th>2016-04-29</th>\n",
       "      <td>NaN</td>\n",
       "      <td>NaN</td>\n",
       "      <td>NaN</td>\n",
       "      <td>NaN</td>\n",
       "    </tr>\n",
       "    <tr>\n",
       "      <th>...</th>\n",
       "      <td>...</td>\n",
       "      <td>...</td>\n",
       "      <td>...</td>\n",
       "      <td>...</td>\n",
       "    </tr>\n",
       "    <tr>\n",
       "      <th>2021-04-16</th>\n",
       "      <td>0.108392</td>\n",
       "      <td>0.005065</td>\n",
       "      <td>0.116927</td>\n",
       "      <td>0.118717</td>\n",
       "    </tr>\n",
       "    <tr>\n",
       "      <th>2021-04-19</th>\n",
       "      <td>0.108319</td>\n",
       "      <td>-0.023327</td>\n",
       "      <td>0.091437</td>\n",
       "      <td>0.125046</td>\n",
       "    </tr>\n",
       "    <tr>\n",
       "      <th>2021-04-20</th>\n",
       "      <td>0.094004</td>\n",
       "      <td>0.018346</td>\n",
       "      <td>0.094826</td>\n",
       "      <td>0.111215</td>\n",
       "    </tr>\n",
       "    <tr>\n",
       "      <th>2021-04-21</th>\n",
       "      <td>0.109208</td>\n",
       "      <td>0.065750</td>\n",
       "      <td>0.118220</td>\n",
       "      <td>0.111266</td>\n",
       "    </tr>\n",
       "    <tr>\n",
       "      <th>2021-04-22</th>\n",
       "      <td>0.093963</td>\n",
       "      <td>0.068973</td>\n",
       "      <td>0.104114</td>\n",
       "      <td>0.107164</td>\n",
       "    </tr>\n",
       "  </tbody>\n",
       "</table>\n",
       "<p>1258 rows × 4 columns</p>\n",
       "</div>"
      ],
      "text/plain": [
       "                AAPL       IBM      MSFT      GOOG\n",
       "Date                                              \n",
       "2016-04-25       NaN       NaN       NaN       NaN\n",
       "2016-04-26       NaN       NaN       NaN       NaN\n",
       "2016-04-27       NaN       NaN       NaN       NaN\n",
       "2016-04-28       NaN       NaN       NaN       NaN\n",
       "2016-04-29       NaN       NaN       NaN       NaN\n",
       "...              ...       ...       ...       ...\n",
       "2021-04-16  0.108392  0.005065  0.116927  0.118717\n",
       "2021-04-19  0.108319 -0.023327  0.091437  0.125046\n",
       "2021-04-20  0.094004  0.018346  0.094826  0.111215\n",
       "2021-04-21  0.109208  0.065750  0.118220  0.111266\n",
       "2021-04-22  0.093963  0.068973  0.104114  0.107164\n",
       "\n",
       "[1258 rows x 4 columns]"
      ]
     },
     "execution_count": 71,
     "metadata": {},
     "output_type": "execute_result"
    }
   ],
   "source": [
    "returns_smooth=returns.rolling(15).sum()\n",
    "returns_smooth"
   ]
  },
  {
   "cell_type": "code",
   "execution_count": 72,
   "metadata": {},
   "outputs": [
    {
     "data": {
      "text/plain": [
       "<AxesSubplot:xlabel='Date'>"
      ]
     },
     "execution_count": 72,
     "metadata": {},
     "output_type": "execute_result"
    },
    {
     "data": {
      "image/png": "[encoded data removed]",
      "text/plain": [
       "<Figure size 1080x360 with 1 Axes>"
      ]
     },
     "metadata": {
      "needs_background": "light"
     },
     "output_type": "display_data"
    }
   ],
   "source": [
    "returns_smooth.plot(figsize=(15,5))"
   ]
  },
  {
   "cell_type": "code",
   "execution_count": null,
   "metadata": {},
   "outputs": [],
   "source": []
  },
  {
   "cell_type": "markdown",
   "metadata": {},
   "source": [
    "DataFrames offer two methods for computing \n",
    "* the correlation among the elements in the DataFrame (`corr`)\n",
    "* the covariance matrix of the DataFrame (`cov`)"
   ]
  },
  {
   "cell_type": "code",
   "execution_count": null,
   "metadata": {},
   "outputs": [],
   "source": [
    "returns"
   ]
  },
  {
   "cell_type": "code",
   "execution_count": 73,
   "metadata": {
    "collapsed": false,
    "editable": true,
    "jupyter": {
     "outputs_hidden": false
    }
   },
   "outputs": [
    {
     "data": {
      "text/html": [
       "<div>\n",
       "<style scoped>\n",
       "    .dataframe tbody tr th:only-of-type {\n",
       "        vertical-align: middle;\n",
       "    }\n",
       "\n",
       "    .dataframe tbody tr th {\n",
       "        vertical-align: top;\n",
       "    }\n",
       "\n",
       "    .dataframe thead th {\n",
       "        text-align: right;\n",
       "    }\n",
       "</style>\n",
       "<table border=\"1\" class=\"dataframe\">\n",
       "  <thead>\n",
       "    <tr style=\"text-align: right;\">\n",
       "      <th></th>\n",
       "      <th>AAPL</th>\n",
       "      <th>IBM</th>\n",
       "      <th>MSFT</th>\n",
       "      <th>GOOG</th>\n",
       "    </tr>\n",
       "  </thead>\n",
       "  <tbody>\n",
       "    <tr>\n",
       "      <th>AAPL</th>\n",
       "      <td>1.000000</td>\n",
       "      <td>0.443753</td>\n",
       "      <td>0.719179</td>\n",
       "      <td>0.655070</td>\n",
       "    </tr>\n",
       "    <tr>\n",
       "      <th>IBM</th>\n",
       "      <td>0.443753</td>\n",
       "      <td>1.000000</td>\n",
       "      <td>0.533724</td>\n",
       "      <td>0.495967</td>\n",
       "    </tr>\n",
       "    <tr>\n",
       "      <th>MSFT</th>\n",
       "      <td>0.719179</td>\n",
       "      <td>0.533724</td>\n",
       "      <td>1.000000</td>\n",
       "      <td>0.776062</td>\n",
       "    </tr>\n",
       "    <tr>\n",
       "      <th>GOOG</th>\n",
       "      <td>0.655070</td>\n",
       "      <td>0.495967</td>\n",
       "      <td>0.776062</td>\n",
       "      <td>1.000000</td>\n",
       "    </tr>\n",
       "  </tbody>\n",
       "</table>\n",
       "</div>"
      ],
      "text/plain": [
       "          AAPL       IBM      MSFT      GOOG\n",
       "AAPL  1.000000  0.443753  0.719179  0.655070\n",
       "IBM   0.443753  1.000000  0.533724  0.495967\n",
       "MSFT  0.719179  0.533724  1.000000  0.776062\n",
       "GOOG  0.655070  0.495967  0.776062  1.000000"
      ]
     },
     "execution_count": 73,
     "metadata": {},
     "output_type": "execute_result"
    }
   ],
   "source": [
    "returns.corr()"
   ]
  },
  {
   "cell_type": "code",
   "execution_count": 74,
   "metadata": {},
   "outputs": [
    {
     "data": {
      "text/html": [
       "<style  type=\"text/css\" >\n",
       "#T_3a6e7_row0_col0,#T_3a6e7_row1_col1,#T_3a6e7_row2_col2,#T_3a6e7_row3_col3{\n",
       "            background-color:  #67000d;\n",
       "            color:  #f1f1f1;\n",
       "        }#T_3a6e7_row0_col1,#T_3a6e7_row1_col0,#T_3a6e7_row1_col2,#T_3a6e7_row1_col3{\n",
       "            background-color:  #fff5f0;\n",
       "            color:  #000000;\n",
       "        }#T_3a6e7_row0_col2{\n",
       "            background-color:  #fc8b6b;\n",
       "            color:  #000000;\n",
       "        }#T_3a6e7_row0_col3{\n",
       "            background-color:  #fca689;\n",
       "            color:  #000000;\n",
       "        }#T_3a6e7_row2_col0{\n",
       "            background-color:  #fb6c4c;\n",
       "            color:  #000000;\n",
       "        }#T_3a6e7_row2_col1{\n",
       "            background-color:  #fdd5c4;\n",
       "            color:  #000000;\n",
       "        }#T_3a6e7_row2_col3{\n",
       "            background-color:  #f6553c;\n",
       "            color:  #000000;\n",
       "        }#T_3a6e7_row3_col0{\n",
       "            background-color:  #fc9070;\n",
       "            color:  #000000;\n",
       "        }#T_3a6e7_row3_col1{\n",
       "            background-color:  #fee5d9;\n",
       "            color:  #000000;\n",
       "        }#T_3a6e7_row3_col2{\n",
       "            background-color:  #f96245;\n",
       "            color:  #000000;\n",
       "        }</style><table id=\"T_3a6e7_\" ><thead>    <tr>        <th class=\"blank level0\" ></th>        <th class=\"col_heading level0 col0\" >AAPL</th>        <th class=\"col_heading level0 col1\" >IBM</th>        <th class=\"col_heading level0 col2\" >MSFT</th>        <th class=\"col_heading level0 col3\" >GOOG</th>    </tr></thead><tbody>\n",
       "                <tr>\n",
       "                        <th id=\"T_3a6e7_level0_row0\" class=\"row_heading level0 row0\" >AAPL</th>\n",
       "                        <td id=\"T_3a6e7_row0_col0\" class=\"data row0 col0\" >1.000000</td>\n",
       "                        <td id=\"T_3a6e7_row0_col1\" class=\"data row0 col1\" >0.443753</td>\n",
       "                        <td id=\"T_3a6e7_row0_col2\" class=\"data row0 col2\" >0.719179</td>\n",
       "                        <td id=\"T_3a6e7_row0_col3\" class=\"data row0 col3\" >0.655070</td>\n",
       "            </tr>\n",
       "            <tr>\n",
       "                        <th id=\"T_3a6e7_level0_row1\" class=\"row_heading level0 row1\" >IBM</th>\n",
       "                        <td id=\"T_3a6e7_row1_col0\" class=\"data row1 col0\" >0.443753</td>\n",
       "                        <td id=\"T_3a6e7_row1_col1\" class=\"data row1 col1\" >1.000000</td>\n",
       "                        <td id=\"T_3a6e7_row1_col2\" class=\"data row1 col2\" >0.533724</td>\n",
       "                        <td id=\"T_3a6e7_row1_col3\" class=\"data row1 col3\" >0.495967</td>\n",
       "            </tr>\n",
       "            <tr>\n",
       "                        <th id=\"T_3a6e7_level0_row2\" class=\"row_heading level0 row2\" >MSFT</th>\n",
       "                        <td id=\"T_3a6e7_row2_col0\" class=\"data row2 col0\" >0.719179</td>\n",
       "                        <td id=\"T_3a6e7_row2_col1\" class=\"data row2 col1\" >0.533724</td>\n",
       "                        <td id=\"T_3a6e7_row2_col2\" class=\"data row2 col2\" >1.000000</td>\n",
       "                        <td id=\"T_3a6e7_row2_col3\" class=\"data row2 col3\" >0.776062</td>\n",
       "            </tr>\n",
       "            <tr>\n",
       "                        <th id=\"T_3a6e7_level0_row3\" class=\"row_heading level0 row3\" >GOOG</th>\n",
       "                        <td id=\"T_3a6e7_row3_col0\" class=\"data row3 col0\" >0.655070</td>\n",
       "                        <td id=\"T_3a6e7_row3_col1\" class=\"data row3 col1\" >0.495967</td>\n",
       "                        <td id=\"T_3a6e7_row3_col2\" class=\"data row3 col2\" >0.776062</td>\n",
       "                        <td id=\"T_3a6e7_row3_col3\" class=\"data row3 col3\" >1.000000</td>\n",
       "            </tr>\n",
       "    </tbody></table>"
      ],
      "text/plain": [
       "<pandas.io.formats.style.Styler at 0x7f8bea9cec40>"
      ]
     },
     "execution_count": 74,
     "metadata": {},
     "output_type": "execute_result"
    }
   ],
   "source": [
    "returns.corr().style.background_gradient(cmap='Reds')"
   ]
  },
  {
   "cell_type": "code",
   "execution_count": null,
   "metadata": {},
   "outputs": [],
   "source": []
  },
  {
   "cell_type": "code",
   "execution_count": null,
   "metadata": {},
   "outputs": [],
   "source": [
    "returns.cov()"
   ]
  },
  {
   "cell_type": "code",
   "execution_count": null,
   "metadata": {},
   "outputs": [],
   "source": [
    "returns.cov().style.background_gradient(cmap='Reds')"
   ]
  },
  {
   "cell_type": "markdown",
   "metadata": {},
   "source": [
    "# More complex application to Italian COVID data - Advanced Plotting\n",
    "Pandas offers a number of plotting methods for DataFrame objects"
   ]
  },
  {
   "cell_type": "markdown",
   "metadata": {},
   "source": [
    "The Italian Civil Protection Department publishes everyday [data on the status of the COVID-19 epidemy in Italy](https://github.com/pcm-dpc/COVID-19)\n",
    "\n",
    "The repository contains trend data of the COVID'19 pandemic in Italy\n",
    "- ‘dati-andamento-nazionale’ (national-level), \n",
    "- ‘dati-regioni’ (regional-level),\n",
    "- ‘dati-province’ (province-level) "
   ]
  },
  {
   "cell_type": "code",
   "execution_count": 75,
   "metadata": {},
   "outputs": [],
   "source": [
    "import numpy as np\n",
    "import pandas as pd \n",
    "import matplotlib.pyplot as plt\n",
    "#import warnings\n",
    "#warnings.filterwarnings(\"ignore\")"
   ]
  },
  {
   "cell_type": "markdown",
   "metadata": {},
   "source": [
    "## Line Plots\n",
    "Series and DataFrame each have a plot method for making many different types of plots\n",
    "* By default, they make line plots "
   ]
  },
  {
   "cell_type": "markdown",
   "metadata": {},
   "source": [
    "Let's load again the national-level COVID'19 data\n",
    "- We set the date (`data`) as the index column\n",
    "- We tell pandas to interpret such column as a datetime type"
   ]
  },
  {
   "cell_type": "code",
   "execution_count": 76,
   "metadata": {},
   "outputs": [
    {
     "data": {
      "text/html": [
       "<div>\n",
       "<style scoped>\n",
       "    .dataframe tbody tr th:only-of-type {\n",
       "        vertical-align: middle;\n",
       "    }\n",
       "\n",
       "    .dataframe tbody tr th {\n",
       "        vertical-align: top;\n",
       "    }\n",
       "\n",
       "    .dataframe thead th {\n",
       "        text-align: right;\n",
       "    }\n",
       "</style>\n",
       "<table border=\"1\" class=\"dataframe\">\n",
       "  <thead>\n",
       "    <tr style=\"text-align: right;\">\n",
       "      <th></th>\n",
       "      <th>stato</th>\n",
       "      <th>ricoverati_con_sintomi</th>\n",
       "      <th>terapia_intensiva</th>\n",
       "      <th>totale_ospedalizzati</th>\n",
       "      <th>isolamento_domiciliare</th>\n",
       "      <th>totale_positivi</th>\n",
       "      <th>variazione_totale_positivi</th>\n",
       "      <th>nuovi_positivi</th>\n",
       "      <th>dimessi_guariti</th>\n",
       "      <th>deceduti</th>\n",
       "      <th>...</th>\n",
       "      <th>tamponi</th>\n",
       "      <th>casi_testati</th>\n",
       "      <th>note</th>\n",
       "      <th>ingressi_terapia_intensiva</th>\n",
       "      <th>note_test</th>\n",
       "      <th>note_casi</th>\n",
       "      <th>totale_positivi_test_molecolare</th>\n",
       "      <th>totale_positivi_test_antigenico_rapido</th>\n",
       "      <th>tamponi_test_molecolare</th>\n",
       "      <th>tamponi_test_antigenico_rapido</th>\n",
       "    </tr>\n",
       "    <tr>\n",
       "      <th>data</th>\n",
       "      <th></th>\n",
       "      <th></th>\n",
       "      <th></th>\n",
       "      <th></th>\n",
       "      <th></th>\n",
       "      <th></th>\n",
       "      <th></th>\n",
       "      <th></th>\n",
       "      <th></th>\n",
       "      <th></th>\n",
       "      <th></th>\n",
       "      <th></th>\n",
       "      <th></th>\n",
       "      <th></th>\n",
       "      <th></th>\n",
       "      <th></th>\n",
       "      <th></th>\n",
       "      <th></th>\n",
       "      <th></th>\n",
       "      <th></th>\n",
       "      <th></th>\n",
       "    </tr>\n",
       "  </thead>\n",
       "  <tbody>\n",
       "    <tr>\n",
       "      <th>2021-04-17T17:00:00</th>\n",
       "      <td>ITA</td>\n",
       "      <td>24100</td>\n",
       "      <td>3340</td>\n",
       "      <td>27440</td>\n",
       "      <td>477868</td>\n",
       "      <td>505308</td>\n",
       "      <td>-1430</td>\n",
       "      <td>15370</td>\n",
       "      <td>3235459</td>\n",
       "      <td>116676</td>\n",
       "      <td>...</td>\n",
       "      <td>54864328</td>\n",
       "      <td>24464082.0</td>\n",
       "      <td>NaN</td>\n",
       "      <td>163.0</td>\n",
       "      <td>NaN</td>\n",
       "      <td>NaN</td>\n",
       "      <td>3728414.0</td>\n",
       "      <td>129029.0</td>\n",
       "      <td>43098914.0</td>\n",
       "      <td>11765414.0</td>\n",
       "    </tr>\n",
       "    <tr>\n",
       "      <th>2021-04-18T17:00:00</th>\n",
       "      <td>ITA</td>\n",
       "      <td>23648</td>\n",
       "      <td>3311</td>\n",
       "      <td>26959</td>\n",
       "      <td>477652</td>\n",
       "      <td>504611</td>\n",
       "      <td>-697</td>\n",
       "      <td>12694</td>\n",
       "      <td>3248593</td>\n",
       "      <td>116927</td>\n",
       "      <td>...</td>\n",
       "      <td>55094444</td>\n",
       "      <td>24545390.0</td>\n",
       "      <td>NaN</td>\n",
       "      <td>163.0</td>\n",
       "      <td>NaN</td>\n",
       "      <td>NaN</td>\n",
       "      <td>3740609.0</td>\n",
       "      <td>129522.0</td>\n",
       "      <td>43245505.0</td>\n",
       "      <td>11848939.0</td>\n",
       "    </tr>\n",
       "    <tr>\n",
       "      <th>2021-04-19T17:00:00</th>\n",
       "      <td>ITA</td>\n",
       "      <td>23742</td>\n",
       "      <td>3244</td>\n",
       "      <td>26986</td>\n",
       "      <td>466503</td>\n",
       "      <td>493489</td>\n",
       "      <td>-11122</td>\n",
       "      <td>8864</td>\n",
       "      <td>3268262</td>\n",
       "      <td>117243</td>\n",
       "      <td>...</td>\n",
       "      <td>55241172</td>\n",
       "      <td>24596625.0</td>\n",
       "      <td>NaN</td>\n",
       "      <td>141.0</td>\n",
       "      <td>NaN</td>\n",
       "      <td>NaN</td>\n",
       "      <td>3749244.0</td>\n",
       "      <td>129750.0</td>\n",
       "      <td>43335684.0</td>\n",
       "      <td>11905488.0</td>\n",
       "    </tr>\n",
       "    <tr>\n",
       "      <th>2021-04-20T17:00:00</th>\n",
       "      <td>ITA</td>\n",
       "      <td>23255</td>\n",
       "      <td>3151</td>\n",
       "      <td>26406</td>\n",
       "      <td>456309</td>\n",
       "      <td>482715</td>\n",
       "      <td>-10774</td>\n",
       "      <td>12074</td>\n",
       "      <td>3290715</td>\n",
       "      <td>117633</td>\n",
       "      <td>...</td>\n",
       "      <td>55535217</td>\n",
       "      <td>24691595.0</td>\n",
       "      <td>NaN</td>\n",
       "      <td>182.0</td>\n",
       "      <td>NaN</td>\n",
       "      <td>NaN</td>\n",
       "      <td>3760237.0</td>\n",
       "      <td>130826.0</td>\n",
       "      <td>43485291.0</td>\n",
       "      <td>12049926.0</td>\n",
       "    </tr>\n",
       "    <tr>\n",
       "      <th>2021-04-21T17:00:00</th>\n",
       "      <td>ITA</td>\n",
       "      <td>22784</td>\n",
       "      <td>3076</td>\n",
       "      <td>25860</td>\n",
       "      <td>449775</td>\n",
       "      <td>475635</td>\n",
       "      <td>-7080</td>\n",
       "      <td>13844</td>\n",
       "      <td>3311267</td>\n",
       "      <td>117997</td>\n",
       "      <td>...</td>\n",
       "      <td>55885251</td>\n",
       "      <td>24794274.0</td>\n",
       "      <td>NaN</td>\n",
       "      <td>155.0</td>\n",
       "      <td>NaN</td>\n",
       "      <td>NaN</td>\n",
       "      <td>3772885.0</td>\n",
       "      <td>132014.0</td>\n",
       "      <td>43673704.0</td>\n",
       "      <td>12211547.0</td>\n",
       "    </tr>\n",
       "  </tbody>\n",
       "</table>\n",
       "<p>5 rows × 23 columns</p>\n",
       "</div>"
      ],
      "text/plain": [
       "                    stato  ricoverati_con_sintomi  terapia_intensiva  \\\n",
       "data                                                                   \n",
       "2021-04-17T17:00:00   ITA                   24100               3340   \n",
       "2021-04-18T17:00:00   ITA                   23648               3311   \n",
       "2021-04-19T17:00:00   ITA                   23742               3244   \n",
       "2021-04-20T17:00:00   ITA                   23255               3151   \n",
       "2021-04-21T17:00:00   ITA                   22784               3076   \n",
       "\n",
       "                     totale_ospedalizzati  isolamento_domiciliare  \\\n",
       "data                                                                \n",
       "2021-04-17T17:00:00                 27440                  477868   \n",
       "2021-04-18T17:00:00                 26959                  477652   \n",
       "2021-04-19T17:00:00                 26986                  466503   \n",
       "2021-04-20T17:00:00                 26406                  456309   \n",
       "2021-04-21T17:00:00                 25860                  449775   \n",
       "\n",
       "                     totale_positivi  variazione_totale_positivi  \\\n",
       "data                                                               \n",
       "2021-04-17T17:00:00           505308                       -1430   \n",
       "2021-04-18T17:00:00           504611                        -697   \n",
       "2021-04-19T17:00:00           493489                      -11122   \n",
       "2021-04-20T17:00:00           482715                      -10774   \n",
       "2021-04-21T17:00:00           475635                       -7080   \n",
       "\n",
       "                     nuovi_positivi  dimessi_guariti  deceduti  ...   tamponi  \\\n",
       "data                                                            ...             \n",
       "2021-04-17T17:00:00           15370          3235459    116676  ...  54864328   \n",
       "2021-04-18T17:00:00           12694          3248593    116927  ...  55094444   \n",
       "2021-04-19T17:00:00            8864          3268262    117243  ...  55241172   \n",
       "2021-04-20T17:00:00           12074          3290715    117633  ...  55535217   \n",
       "2021-04-21T17:00:00           13844          3311267    117997  ...  55885251   \n",
       "\n",
       "                     casi_testati  note  ingressi_terapia_intensiva  \\\n",
       "data                                                                  \n",
       "2021-04-17T17:00:00    24464082.0   NaN                       163.0   \n",
       "2021-04-18T17:00:00    24545390.0   NaN                       163.0   \n",
       "2021-04-19T17:00:00    24596625.0   NaN                       141.0   \n",
       "2021-04-20T17:00:00    24691595.0   NaN                       182.0   \n",
       "2021-04-21T17:00:00    24794274.0   NaN                       155.0   \n",
       "\n",
       "                     note_test note_casi  totale_positivi_test_molecolare  \\\n",
       "data                                                                        \n",
       "2021-04-17T17:00:00        NaN       NaN                        3728414.0   \n",
       "2021-04-18T17:00:00        NaN       NaN                        3740609.0   \n",
       "2021-04-19T17:00:00        NaN       NaN                        3749244.0   \n",
       "2021-04-20T17:00:00        NaN       NaN                        3760237.0   \n",
       "2021-04-21T17:00:00        NaN       NaN                        3772885.0   \n",
       "\n",
       "                     totale_positivi_test_antigenico_rapido  \\\n",
       "data                                                          \n",
       "2021-04-17T17:00:00                                129029.0   \n",
       "2021-04-18T17:00:00                                129522.0   \n",
       "2021-04-19T17:00:00                                129750.0   \n",
       "2021-04-20T17:00:00                                130826.0   \n",
       "2021-04-21T17:00:00                                132014.0   \n",
       "\n",
       "                     tamponi_test_molecolare  tamponi_test_antigenico_rapido  \n",
       "data                                                                          \n",
       "2021-04-17T17:00:00               43098914.0                      11765414.0  \n",
       "2021-04-18T17:00:00               43245505.0                      11848939.0  \n",
       "2021-04-19T17:00:00               43335684.0                      11905488.0  \n",
       "2021-04-20T17:00:00               43485291.0                      12049926.0  \n",
       "2021-04-21T17:00:00               43673704.0                      12211547.0  \n",
       "\n",
       "[5 rows x 23 columns]"
      ]
     },
     "execution_count": 76,
     "metadata": {},
     "output_type": "execute_result"
    }
   ],
   "source": [
    "# load data relating to the national trend of SARS-CoV-2 spread on Pandas DataFrame\n",
    "url_dpc_nazionale = 'https://raw.githubusercontent.com/pcm-dpc/COVID-19/master/dati-andamento-nazionale/dpc-covid19-ita-andamento-nazionale.csv'\n",
    "covid_italy = pd.read_csv(url_dpc_nazionale, index_col='data')\n",
    "covid_italy.tail()"
   ]
  },
  {
   "cell_type": "code",
   "execution_count": 77,
   "metadata": {},
   "outputs": [
    {
     "name": "stdout",
     "output_type": "stream",
     "text": [
      "Index(['2020-02-24T18:00:00', '2020-02-25T18:00:00', '2020-02-26T18:00:00',\n",
      "       '2020-02-27T18:00:00', '2020-02-28T18:00:00', '2020-02-29T18:00:00',\n",
      "       '2020-03-01T18:00:00', '2020-03-02T18:00:00', '2020-03-03T18:00:00',\n",
      "       '2020-03-04T18:00:00',\n",
      "       ...\n",
      "       '2021-04-12T17:00:00', '2021-04-13T17:00:00', '2021-04-14T17:00:00',\n",
      "       '2021-04-15T17:00:00', '2021-04-16T17:00:00', '2021-04-17T17:00:00',\n",
      "       '2021-04-18T17:00:00', '2021-04-19T17:00:00', '2021-04-20T17:00:00',\n",
      "       '2021-04-21T17:00:00'],\n",
      "      dtype='object', name='data', length=423)\n",
      "\n",
      "DatetimeIndex(['2020-02-24 18:00:00', '2020-02-25 18:00:00',\n",
      "               '2020-02-26 18:00:00', '2020-02-27 18:00:00',\n",
      "               '2020-02-28 18:00:00', '2020-02-29 18:00:00',\n",
      "               '2020-03-01 18:00:00', '2020-03-02 18:00:00',\n",
      "               '2020-03-03 18:00:00', '2020-03-04 18:00:00',\n",
      "               ...\n",
      "               '2021-04-12 17:00:00', '2021-04-13 17:00:00',\n",
      "               '2021-04-14 17:00:00', '2021-04-15 17:00:00',\n",
      "               '2021-04-16 17:00:00', '2021-04-17 17:00:00',\n",
      "               '2021-04-18 17:00:00', '2021-04-19 17:00:00',\n",
      "               '2021-04-20 17:00:00', '2021-04-21 17:00:00'],\n",
      "              dtype='datetime64[ns]', name='data', length=423, freq=None)\n"
     ]
    }
   ],
   "source": [
    "print(covid_italy.index)\n",
    "covid_italy.index = pd.to_datetime(covid_italy.index) # converts 'data' column from object to datatime type\n",
    "#covid_italy.tail()\n",
    "print()\n",
    "print(covid_italy.index)"
   ]
  },
  {
   "cell_type": "markdown",
   "metadata": {},
   "source": [
    "Let us focucs only on\n",
    "- currently infected (`totale_positivi`)\n",
    "- overall recovered (`dimessi_guariti`)\n",
    "- overall deceased (`deceduti`)"
   ]
  },
  {
   "cell_type": "code",
   "execution_count": 78,
   "metadata": {},
   "outputs": [
    {
     "data": {
      "text/html": [
       "<div>\n",
       "<style scoped>\n",
       "    .dataframe tbody tr th:only-of-type {\n",
       "        vertical-align: middle;\n",
       "    }\n",
       "\n",
       "    .dataframe tbody tr th {\n",
       "        vertical-align: top;\n",
       "    }\n",
       "\n",
       "    .dataframe thead th {\n",
       "        text-align: right;\n",
       "    }\n",
       "</style>\n",
       "<table border=\"1\" class=\"dataframe\">\n",
       "  <thead>\n",
       "    <tr style=\"text-align: right;\">\n",
       "      <th></th>\n",
       "      <th>totale_positivi</th>\n",
       "      <th>dimessi_guariti</th>\n",
       "      <th>deceduti</th>\n",
       "    </tr>\n",
       "    <tr>\n",
       "      <th>data</th>\n",
       "      <th></th>\n",
       "      <th></th>\n",
       "      <th></th>\n",
       "    </tr>\n",
       "  </thead>\n",
       "  <tbody>\n",
       "    <tr>\n",
       "      <th>2020-02-24 18:00:00</th>\n",
       "      <td>221</td>\n",
       "      <td>1</td>\n",
       "      <td>7</td>\n",
       "    </tr>\n",
       "    <tr>\n",
       "      <th>2020-02-25 18:00:00</th>\n",
       "      <td>311</td>\n",
       "      <td>1</td>\n",
       "      <td>10</td>\n",
       "    </tr>\n",
       "    <tr>\n",
       "      <th>2020-02-26 18:00:00</th>\n",
       "      <td>385</td>\n",
       "      <td>3</td>\n",
       "      <td>12</td>\n",
       "    </tr>\n",
       "    <tr>\n",
       "      <th>2020-02-27 18:00:00</th>\n",
       "      <td>588</td>\n",
       "      <td>45</td>\n",
       "      <td>17</td>\n",
       "    </tr>\n",
       "    <tr>\n",
       "      <th>2020-02-28 18:00:00</th>\n",
       "      <td>821</td>\n",
       "      <td>46</td>\n",
       "      <td>21</td>\n",
       "    </tr>\n",
       "    <tr>\n",
       "      <th>...</th>\n",
       "      <td>...</td>\n",
       "      <td>...</td>\n",
       "      <td>...</td>\n",
       "    </tr>\n",
       "    <tr>\n",
       "      <th>2021-04-17 17:00:00</th>\n",
       "      <td>505308</td>\n",
       "      <td>3235459</td>\n",
       "      <td>116676</td>\n",
       "    </tr>\n",
       "    <tr>\n",
       "      <th>2021-04-18 17:00:00</th>\n",
       "      <td>504611</td>\n",
       "      <td>3248593</td>\n",
       "      <td>116927</td>\n",
       "    </tr>\n",
       "    <tr>\n",
       "      <th>2021-04-19 17:00:00</th>\n",
       "      <td>493489</td>\n",
       "      <td>3268262</td>\n",
       "      <td>117243</td>\n",
       "    </tr>\n",
       "    <tr>\n",
       "      <th>2021-04-20 17:00:00</th>\n",
       "      <td>482715</td>\n",
       "      <td>3290715</td>\n",
       "      <td>117633</td>\n",
       "    </tr>\n",
       "    <tr>\n",
       "      <th>2021-04-21 17:00:00</th>\n",
       "      <td>475635</td>\n",
       "      <td>3311267</td>\n",
       "      <td>117997</td>\n",
       "    </tr>\n",
       "  </tbody>\n",
       "</table>\n",
       "<p>423 rows × 3 columns</p>\n",
       "</div>"
      ],
      "text/plain": [
       "                     totale_positivi  dimessi_guariti  deceduti\n",
       "data                                                           \n",
       "2020-02-24 18:00:00              221                1         7\n",
       "2020-02-25 18:00:00              311                1        10\n",
       "2020-02-26 18:00:00              385                3        12\n",
       "2020-02-27 18:00:00              588               45        17\n",
       "2020-02-28 18:00:00              821               46        21\n",
       "...                              ...              ...       ...\n",
       "2021-04-17 17:00:00           505308          3235459    116676\n",
       "2021-04-18 17:00:00           504611          3248593    116927\n",
       "2021-04-19 17:00:00           493489          3268262    117243\n",
       "2021-04-20 17:00:00           482715          3290715    117633\n",
       "2021-04-21 17:00:00           475635          3311267    117997\n",
       "\n",
       "[423 rows x 3 columns]"
      ]
     },
     "execution_count": 78,
     "metadata": {},
     "output_type": "execute_result"
    }
   ],
   "source": [
    "covid_italy_filter = covid_italy[['totale_positivi','dimessi_guariti','deceduti' ]]\n",
    "covid_italy_filter"
   ]
  },
  {
   "cell_type": "markdown",
   "metadata": {},
   "source": [
    "During the peek in Spring 2020, the Italian government made a number of urgent decrees (links in Italian)\n",
    "- Decree \"Zone Rosse\"\n",
    "  - Some areas were classified as _red zones_, i.e. put in lockdown\n",
    "- Decree [\"Io resto a casa\"](https://www.agenziacoesione.gov.it/news_istituzionali/emergenza-epidemiologica-covid-19-fine-al-25-marzo-stop-alle-attivita-commerciali-al-dettaglio-in-tutta-italia-dpcm-11-marzo-2020/)\n",
    "  - Only the _necessary_ industrial and commercial production activities were left open nation-wide\n",
    "  - Not movements outside the city of residence\n",
    "- Decree [\"Chiudi Italia\"](http://www.governo.it/it/articolo/coronavirus-firmato-il-dpcm-22-marzo-2020/14363)\n",
    "  - Hard lockdown nation-wide\n",
    "- Decree [\"Fase 2\"](http://www.salute.gov.it/portale/news/p3_2_1_1_1.jsp?lingua=italiano&menu=notizie&p=dalministero&id=4763)\n",
    "  - Partial re-opening\n",
    "  \n",
    "Let us look at **how were the numbers at that time**"
   ]
  },
  {
   "cell_type": "code",
   "execution_count": 79,
   "metadata": {},
   "outputs": [
    {
     "data": {
      "image/png": "[encoded data removed]",
      "text/plain": [
       "<Figure size 1440x504 with 1 Axes>"
      ]
     },
     "metadata": {
      "needs_background": "light"
     },
     "output_type": "display_data"
    }
   ],
   "source": [
    "from datetime import datetime\n",
    "\n",
    "# We now create the plot\n",
    "covid_italy_filter.plot(figsize=(20, 7), linewidth=3, alpha=0.8, title=\"Italian National trend of COVID19\") \n",
    "\n",
    "# and add annotations\n",
    "annotations = {datetime(2020, 3, 1) :'Decreto \"Zone rosse\"',\n",
    "               datetime(2020, 3, 9) :'Decreto \"Io resto a casa\"',\n",
    "               datetime(2020, 3, 22):'Decreto \"Chiudi Italia\"',\n",
    "               datetime(2020, 5, 4) :'Decreto \"Fase 2\"'}\n",
    " \n",
    "for d,a in annotations.items():\n",
    "    plt.annotate(a,(d, 0), rotation=90, horizontalalignment='right')\n",
    "    plt.axvline(d, color='k', linestyle='--')   \n",
    "    \n",
    "plt.show()"
   ]
  },
  {
   "cell_type": "markdown",
   "metadata": {},
   "source": [
    "We have too many data points \n",
    "- making it difficult to focus on the 4 dates of interest\n",
    "\n",
    "Let's hide some\n",
    "- using `iloc` to consider the first 100 rows\n",
    "- using `loc` to consider the rows with date before June\n",
    "- using `drop` to drop the rows from June onward\n",
    "\n",
    "But first, let's create a function to add annotations to the _current_ plot"
   ]
  },
  {
   "cell_type": "code",
   "execution_count": 81,
   "metadata": {},
   "outputs": [],
   "source": [
    "def add_annotations():\n",
    "    # and add annotations\n",
    "    annotations = {datetime(2020, 3, 1) :'Decreto \"Zone rosse\"',\n",
    "                   datetime(2020, 3, 9) :'Decreto \"Io resto a casa\"',\n",
    "                   datetime(2020, 3, 22):'Decreto \"Chiudi Italia\"',\n",
    "                   datetime(2020, 5, 4) :'Decreto \"Fase 2\"'}\n",
    " \n",
    "    for d,a in annotations.items():\n",
    "        plt.annotate(a,(d, 0), rotation=90, horizontalalignment='right')\n",
    "        plt.axvline(d, color='k', linestyle='--')   "
   ]
  },
  {
   "cell_type": "code",
   "execution_count": 82,
   "metadata": {},
   "outputs": [
    {
     "data": {
      "image/png": "[encoded data removed]",
      "text/plain": [
       "<Figure size 1440x504 with 1 Axes>"
      ]
     },
     "metadata": {
      "needs_background": "light"
     },
     "output_type": "display_data"
    }
   ],
   "source": [
    "covid_italy_filter.iloc[:100].plot(figsize=(20, 7), linewidth=3, alpha=0.8, title=\"Italian National trend of COVID19\") \n",
    "add_annotations() \n",
    "plt.show()"
   ]
  },
  {
   "cell_type": "code",
   "execution_count": 83,
   "metadata": {},
   "outputs": [
    {
     "data": {
      "image/png": "[encoded data removed]",
      "text/plain": [
       "<Figure size 1440x504 with 1 Axes>"
      ]
     },
     "metadata": {
      "needs_background": "light"
     },
     "output_type": "display_data"
    }
   ],
   "source": [
    "covid_italy_filter.loc[covid_italy_filter.index<= datetime(2020, 6, 1)].plot(figsize=(20, 7), linewidth=3, alpha=0.8, title=\"Italian National trend of COVID19\") \n",
    "add_annotations()     \n",
    "plt.show()"
   ]
  },
  {
   "cell_type": "code",
   "execution_count": null,
   "metadata": {},
   "outputs": [],
   "source": [
    "covid_italy_filter.drop(covid_italy_filter[covid_italy_filter.index > datetime(2020, 6, 1)].index).plot(figsize=(20, 7), linewidth=3, alpha=0.8, title=\"Italian National trend of COVID19\") \n",
    "add_annotations()     \n",
    "plt.show()"
   ]
  },
  {
   "cell_type": "markdown",
   "metadata": {},
   "source": [
    "## Bar Plots\n",
    "Making bar plots instead of line plots is as simple as passing \n",
    "* `kind='bar'` (for vertical bars) or \n",
    "* `kind='barh'` (for horizontal bars)."
   ]
  },
  {
   "cell_type": "code",
   "execution_count": null,
   "metadata": {},
   "outputs": [],
   "source": [
    "# load data relating to the regional trend of SARS-CoV-2 spread\n",
    "url_dpc_regioni = 'https://raw.githubusercontent.com/pcm-dpc/COVID-19/master/dati-regioni/dpc-covid19-ita-regioni.csv'\n",
    "covid_regions = pd.read_csv(url_dpc_regioni)\n",
    "covid_regions.index = pd.to_datetime(covid_regions.data)\n",
    "covid_regions = covid_regions.rename(columns={'denominazione_regione': 'regione'})\n",
    "\n",
    "# get last day data\n",
    "cov_regions_last_day = covid_regions[covid_regions.data ==  covid_regions.data.iloc[-1]] # get last day data\n",
    "cov_regions_last_day.index = cov_regions_last_day.regione # set Region as index\n",
    "\n",
    "#drop some unnecessary columns\n",
    "cov_regions_last_day = cov_regions_last_day.drop(['lat','long','codice_regione',\"stato\",\"regione\",\"note\"], axis = 1)\n",
    "\n",
    "#Let's get the data of interest (Deceduti vs Positivi) and plot them\n",
    "title = f\" Deceduti vs Positivi updated at {covid_regions.index[-1].strftime('%D')}\"\n",
    "#Here we are using 'bar!'\n",
    "cov_regions_last_day[['totale_ospedalizzati','isolamento_domiciliare','totale_positivi','deceduti']].plot(kind='bar', figsize =(20,7),grid=True,title=title)\n",
    "\n",
    "plt.show()"
   ]
  },
  {
   "cell_type": "markdown",
   "metadata": {},
   "source": [
    "### Stacked bar plots\n",
    "Stacked bar plots are created from a DataFrame by passing `stacked=True`, \n",
    "- resulting in the value in each row being stacked together\n",
    "\n",
    "Let's compare 'terapia_intensiva' and 'totale_ospedalizzati' on latest day"
   ]
  },
  {
   "cell_type": "code",
   "execution_count": null,
   "metadata": {},
   "outputs": [],
   "source": [
    "title = f\"Positivi updated at {covid_regions.index[-1].strftime('%D')}\"\n",
    "cov_regions_last_day[['terapia_intensiva','totale_ospedalizzati']].plot(kind='bar', stacked=True, figsize =(20,7),grid=True,title=title)\n",
    "plt.show()"
   ]
  },
  {
   "cell_type": "markdown",
   "metadata": {},
   "source": [
    "## Scatter Matrix \n",
    "In exploratory data analysis it is helpful to look at how pairs of variables relate to each other\n",
    "* we are interested in _plots relating pairs of variables_\n",
    "* this is known as a _pairs plot_ or _scatter plot matrix_. \n",
    "\n",
    "Making such a plot from scratch requires a bit of work. \n",
    "* Luckily pandas has a `scatter_matrix` function for creating one from a DataFrame. \n",
    "* It also supports placing histograms or density plots of each variable along the diagonal."
   ]
  },
  {
   "cell_type": "code",
   "execution_count": null,
   "metadata": {},
   "outputs": [],
   "source": [
    "covid_italy = pd.read_csv(url_dpc_nazionale, index_col='data')\n",
    "covid_italy.index = pd.to_datetime(covid_italy.index) # converts 'data' column from object to datatime type\n",
    "covid_italy.tail()"
   ]
  },
  {
   "cell_type": "code",
   "execution_count": null,
   "metadata": {},
   "outputs": [],
   "source": [
    "#drop unnecessary columns\n",
    "covid_italy.drop(columns=[\"note_test\",\"note_casi\"], inplace=True)"
   ]
  },
  {
   "cell_type": "code",
   "execution_count": null,
   "metadata": {},
   "outputs": [],
   "source": [
    "covid_italy['totale_casi']"
   ]
  },
  {
   "cell_type": "code",
   "execution_count": null,
   "metadata": {},
   "outputs": [],
   "source": [
    "covid_italy['terapia_intensiva']"
   ]
  },
  {
   "cell_type": "code",
   "execution_count": null,
   "metadata": {},
   "outputs": [],
   "source": [
    "pd.plotting.scatter_matrix(covid_italy,figsize =(20,25),  color='k', alpha=0.3)\n",
    "plt.show()"
   ]
  },
  {
   "cell_type": "markdown",
   "metadata": {},
   "source": [
    "Too much data here!\n",
    "- let's remove some more mostly empty rows"
   ]
  },
  {
   "cell_type": "code",
   "execution_count": null,
   "metadata": {},
   "outputs": [],
   "source": [
    "covid_italy[[\"totale_positivi_test_molecolare\",\"totale_positivi_test_antigenico_rapido\",\"tamponi_test_molecolare\",\"tamponi_test_antigenico_rapido\"]]"
   ]
  },
  {
   "cell_type": "code",
   "execution_count": null,
   "metadata": {},
   "outputs": [],
   "source": [
    "covid_italy.drop(columns=[\"totale_positivi_test_molecolare\",\"totale_positivi_test_antigenico_rapido\",\"tamponi_test_molecolare\",\"tamponi_test_antigenico_rapido\"], inplace=True)\n",
    "pd.plotting.scatter_matrix(covid_italy,figsize =(20,25),  color='k', alpha=0.3)\n",
    "plt.show()"
   ]
  }
 ],
 "metadata": {
  "kernelspec": {
   "display_name": "env_ipdp_2021",
   "language": "python",
   "name": "env_ipdp_2021"
  },
  "language_info": {
   "codemirror_mode": {
    "name": "ipython",
    "version": 3
   },
   "file_extension": ".py",
   "mimetype": "text/x-python",
   "name": "python",
   "nbconvert_exporter": "python",
   "pygments_lexer": "ipython3",
   "version": "3.8.2"
  },
  "toc-autonumbering": true,
  "toc-showcode": false,
  "toc-showmarkdowntxt": false
 },
 "nbformat": 4,
 "nbformat_minor": 4
}
